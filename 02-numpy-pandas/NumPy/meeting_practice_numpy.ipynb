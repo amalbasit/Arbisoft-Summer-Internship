{
  "nbformat": 4,
  "nbformat_minor": 0,
  "metadata": {
    "colab": {
      "provenance": []
    },
    "kernelspec": {
      "name": "python3",
      "display_name": "Python 3"
    },
    "language_info": {
      "name": "python"
    }
  },
  "cells": [
    {
      "cell_type": "code",
      "execution_count": 5,
      "metadata": {
        "id": "CaWT-WPnEQjM"
      },
      "outputs": [],
      "source": [
        "import numpy as np\n",
        "import random"
      ]
    },
    {
      "cell_type": "code",
      "source": [
        "arr = np.arange(1,10)\n",
        "print(arr)"
      ],
      "metadata": {
        "colab": {
          "base_uri": "https://localhost:8080/"
        },
        "id": "GvuvuCokEu4j",
        "outputId": "4b19c093-7921-4543-b4b1-bad88b3065e9"
      },
      "execution_count": 6,
      "outputs": [
        {
          "output_type": "stream",
          "name": "stdout",
          "text": [
            "[1 2 3 4 5 6 7 8 9]\n"
          ]
        }
      ]
    },
    {
      "cell_type": "code",
      "source": [
        "arr1 = np.random.randint(4, 20, size=[3,3])\n",
        "print(arr1)\n",
        "\n",
        "\n",
        "even = arr1[arr1 % 2 == 0]\n",
        "print(even)"
      ],
      "metadata": {
        "colab": {
          "base_uri": "https://localhost:8080/"
        },
        "id": "dpuowVPlFHlR",
        "outputId": "e1ca9fe7-c880-4803-c07f-a83b6008c61a"
      },
      "execution_count": 34,
      "outputs": [
        {
          "output_type": "stream",
          "name": "stdout",
          "text": [
            "[[10  5 15]\n",
            " [19 10 11]\n",
            " [ 4  4 16]]\n",
            "[10 10  4  4 16]\n"
          ]
        }
      ]
    },
    {
      "cell_type": "code",
      "source": [
        "original = np.array([[1, 2, 3], [4, 5, 6], [7, 8, 9]])\n",
        "# original.shape\n",
        "# original.reshape(1,9)\n",
        "# original = original.flatten()\n",
        "\n",
        "# original.shape\n",
        "\n",
        "# print(original)\n",
        "\n",
        "# print(original[::-1, ::-1])\n",
        "\n",
        "# original[2][0]\n",
        "\n",
        "# original[2,0]\n",
        "#\n",
        "# original[::2,::2]\n",
        "\n",
        "\n",
        "\n"
      ],
      "metadata": {
        "id": "c3oEnoUgFMnd"
      },
      "execution_count": 26,
      "outputs": []
    },
    {
      "cell_type": "code",
      "source": [
        "a = np.array([1, 2, 3, 4])\n",
        "b = np.array([5, 6, 7, 8])\n",
        "\n",
        "c = a.min()\n",
        "\n",
        "print(c)\n"
      ],
      "metadata": {
        "colab": {
          "base_uri": "https://localhost:8080/"
        },
        "id": "qghWVfQtH_Rm",
        "outputId": "8199bbe6-38fa-4039-bbef-3b25cf85ad21"
      },
      "execution_count": 32,
      "outputs": [
        {
          "output_type": "stream",
          "name": "stdout",
          "text": [
            "1\n"
          ]
        }
      ]
    },
    {
      "cell_type": "code",
      "source": [
        "a = np.array([1, 2, 3, 4])\n",
        "b = np.array([5, 6, 7, 8])\n",
        "\n",
        "c = a + b\n",
        "\n",
        "print(c)"
      ],
      "metadata": {
        "colab": {
          "base_uri": "https://localhost:8080/"
        },
        "id": "gMlZTzVbICaB",
        "outputId": "18810a18-1d3e-4e61-e34f-3093464be6e3"
      },
      "execution_count": 35,
      "outputs": [
        {
          "output_type": "stream",
          "name": "stdout",
          "text": [
            "[ 6  8 10 12]\n"
          ]
        }
      ]
    }
  ]
}