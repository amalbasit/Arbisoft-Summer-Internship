{
  "nbformat": 4,
  "nbformat_minor": 0,
  "metadata": {
    "colab": {
      "provenance": []
    },
    "kernelspec": {
      "name": "python3",
      "display_name": "Python 3"
    },
    "language_info": {
      "name": "python"
    }
  },
  "cells": [
    {
      "cell_type": "code",
      "execution_count": 374,
      "metadata": {
        "id": "rvn3gE-YIqNO"
      },
      "outputs": [],
      "source": [
        "import pandas as pd"
      ]
    },
    {
      "cell_type": "markdown",
      "source": [
        "**Series and DataFrames**"
      ],
      "metadata": {
        "id": "zNHeYDHLv-1h"
      }
    },
    {
      "cell_type": "code",
      "source": [
        "s = pd.Series([10, 20, 30, 40, 50], index = ['a', 'b', 'c', 'd', 'e'])\n",
        "\n",
        "print(s)\n",
        "\n",
        "print(s.index)\n",
        "print(s.values)\n",
        "print(s[['a','c']])"
      ],
      "metadata": {
        "colab": {
          "base_uri": "https://localhost:8080/"
        },
        "id": "9GIaRQBRPjRQ",
        "outputId": "74557d86-d1de-41e2-ec9b-571c3fef4548"
      },
      "execution_count": 375,
      "outputs": [
        {
          "output_type": "stream",
          "name": "stdout",
          "text": [
            "a    10\n",
            "b    20\n",
            "c    30\n",
            "d    40\n",
            "e    50\n",
            "dtype: int64\n",
            "Index(['a', 'b', 'c', 'd', 'e'], dtype='object')\n",
            "[10 20 30 40 50]\n",
            "a    10\n",
            "c    30\n",
            "dtype: int64\n"
          ]
        }
      ]
    },
    {
      "cell_type": "code",
      "source": [
        "# Create a Series representing marks of 5 students.\n",
        "\n",
        "s1 = pd.Series([90, 83, 67, 81, 79])"
      ],
      "metadata": {
        "id": "gwc1RqfEebg2"
      },
      "execution_count": 376,
      "outputs": []
    },
    {
      "cell_type": "code",
      "source": [
        "# Create a Series using dictionary data of city and temperature.\n",
        "\n",
        "dict1 = {'Lahore':38, 'Karachi':32, 'Islamabad':29}\n",
        "s2 = pd.Series(dict1)"
      ],
      "metadata": {
        "id": "cxeE2FN2kmWQ"
      },
      "execution_count": 377,
      "outputs": []
    },
    {
      "cell_type": "code",
      "source": [
        "# Access the 1st and 3rd elements using index.\n",
        "\n",
        "print(s1[[0,2]])\n",
        "\n",
        "print(s2[['Lahore', 'Islamabad']])"
      ],
      "metadata": {
        "colab": {
          "base_uri": "https://localhost:8080/"
        },
        "id": "UTCsivZtkmTp",
        "outputId": "0c2660c5-c576-44a4-fbc0-3f80193ed15c"
      },
      "execution_count": 378,
      "outputs": [
        {
          "output_type": "stream",
          "name": "stdout",
          "text": [
            "0    90\n",
            "2    67\n",
            "dtype: int64\n",
            "Lahore       38\n",
            "Islamabad    29\n",
            "dtype: int64\n"
          ]
        }
      ]
    },
    {
      "cell_type": "code",
      "source": [
        "# Add 10 to all values using .apply() or vectorized ops.\n",
        "\n",
        "newS1 = s1+10\n",
        "print(f\"Added 10: \\n{newS1}\")"
      ],
      "metadata": {
        "colab": {
          "base_uri": "https://localhost:8080/"
        },
        "id": "Si28a5dukmRS",
        "outputId": "e6003abd-3c3c-4c9d-967e-22d7d0fa432b"
      },
      "execution_count": 429,
      "outputs": [
        {
          "output_type": "stream",
          "name": "stdout",
          "text": [
            "Added 10: \n",
            "Amal1    100\n",
            "Amal2     93\n",
            "Amal3     77\n",
            "Amal4     91\n",
            "Amal5     89\n",
            "dtype: int64\n"
          ]
        }
      ]
    },
    {
      "cell_type": "code",
      "source": [
        "# Change the index to student names.\n",
        "\n",
        "s1.index = ['Amal1', 'Amal2', 'Amal3', 'Amal4', 'Amal5']\n",
        "\n",
        "print(s1)"
      ],
      "metadata": {
        "colab": {
          "base_uri": "https://localhost:8080/"
        },
        "id": "eW7ApC9NkmO3",
        "outputId": "2a337de5-43df-4474-b5ca-9a560fb04bd0"
      },
      "execution_count": 380,
      "outputs": [
        {
          "output_type": "stream",
          "name": "stdout",
          "text": [
            "Amal1    90\n",
            "Amal2    83\n",
            "Amal3    67\n",
            "Amal4    81\n",
            "Amal5    79\n",
            "dtype: int64\n"
          ]
        }
      ]
    },
    {
      "cell_type": "code",
      "source": [
        "data = {\n",
        "    'Name':['Amal', 'Mahnoor', 'Mateen', 'Sahar'],\n",
        "    'Age':[21,23,25,27],\n",
        "    'Gender':['F', 'F', 'M', 'F']\n",
        "}\n",
        "\n",
        "df = pd.DataFrame(data)\n",
        "print(df)"
      ],
      "metadata": {
        "colab": {
          "base_uri": "https://localhost:8080/"
        },
        "id": "HUz0bRt-kmHd",
        "outputId": "d172ea2b-c8c9-46fd-cbfe-4e88f7ad38e8"
      },
      "execution_count": 381,
      "outputs": [
        {
          "output_type": "stream",
          "name": "stdout",
          "text": [
            "      Name  Age Gender\n",
            "0     Amal   21      F\n",
            "1  Mahnoor   23      F\n",
            "2   Mateen   25      M\n",
            "3    Sahar   27      F\n"
          ]
        }
      ]
    },
    {
      "cell_type": "code",
      "source": [
        "print(df['Name'])\n",
        "\n",
        "print(df[['Age', 'Gender']])\n",
        "\n",
        "df.index"
      ],
      "metadata": {
        "colab": {
          "base_uri": "https://localhost:8080/"
        },
        "id": "pBVIMGLXlSaJ",
        "outputId": "07f2a3d6-544a-456d-f972-e6134d602752"
      },
      "execution_count": 382,
      "outputs": [
        {
          "output_type": "stream",
          "name": "stdout",
          "text": [
            "0       Amal\n",
            "1    Mahnoor\n",
            "2     Mateen\n",
            "3      Sahar\n",
            "Name: Name, dtype: object\n",
            "   Age Gender\n",
            "0   21      F\n",
            "1   23      F\n",
            "2   25      M\n",
            "3   27      F\n"
          ]
        },
        {
          "output_type": "execute_result",
          "data": {
            "text/plain": [
              "RangeIndex(start=0, stop=4, step=1)"
            ]
          },
          "metadata": {},
          "execution_count": 382
        }
      ]
    },
    {
      "cell_type": "code",
      "source": [
        "# Create a DataFrame of 4 students with columns: Name, Math, Science.\n",
        "\n",
        "data1 = {\n",
        "    'Name':['Amal', 'Mahnoor', 'Mateen', 'Sahar'],\n",
        "    'Math':[95, 83, 57, 79],\n",
        "    'Science': [78, 94, 68, 85]\n",
        "}\n",
        "\n",
        "df1 = pd.DataFrame(data1)"
      ],
      "metadata": {
        "id": "TrrFLepbmkxH"
      },
      "execution_count": 383,
      "outputs": []
    },
    {
      "cell_type": "code",
      "source": [
        "# Access only the Math column.\n",
        "\n",
        "df1['Math']"
      ],
      "metadata": {
        "colab": {
          "base_uri": "https://localhost:8080/",
          "height": 210
        },
        "id": "X-cF2VLsnbAL",
        "outputId": "796e1a33-6353-47bf-bc18-b799e89b2dbc"
      },
      "execution_count": 384,
      "outputs": [
        {
          "output_type": "execute_result",
          "data": {
            "text/plain": [
              "0    95\n",
              "1    83\n",
              "2    57\n",
              "3    79\n",
              "Name: Math, dtype: int64"
            ],
            "text/html": [
              "<div>\n",
              "<style scoped>\n",
              "    .dataframe tbody tr th:only-of-type {\n",
              "        vertical-align: middle;\n",
              "    }\n",
              "\n",
              "    .dataframe tbody tr th {\n",
              "        vertical-align: top;\n",
              "    }\n",
              "\n",
              "    .dataframe thead th {\n",
              "        text-align: right;\n",
              "    }\n",
              "</style>\n",
              "<table border=\"1\" class=\"dataframe\">\n",
              "  <thead>\n",
              "    <tr style=\"text-align: right;\">\n",
              "      <th></th>\n",
              "      <th>Math</th>\n",
              "    </tr>\n",
              "  </thead>\n",
              "  <tbody>\n",
              "    <tr>\n",
              "      <th>0</th>\n",
              "      <td>95</td>\n",
              "    </tr>\n",
              "    <tr>\n",
              "      <th>1</th>\n",
              "      <td>83</td>\n",
              "    </tr>\n",
              "    <tr>\n",
              "      <th>2</th>\n",
              "      <td>57</td>\n",
              "    </tr>\n",
              "    <tr>\n",
              "      <th>3</th>\n",
              "      <td>79</td>\n",
              "    </tr>\n",
              "  </tbody>\n",
              "</table>\n",
              "</div><br><label><b>dtype:</b> int64</label>"
            ]
          },
          "metadata": {},
          "execution_count": 384
        }
      ]
    },
    {
      "cell_type": "code",
      "source": [
        "# Change the name of the column Science to Physics.\n",
        "\n",
        "df1.rename(columns={'Science':'Physics'})"
      ],
      "metadata": {
        "colab": {
          "base_uri": "https://localhost:8080/",
          "height": 175
        },
        "id": "e8vFN7nMnd83",
        "outputId": "8f7087cd-9c1b-4a96-895e-a3f75b2a1011"
      },
      "execution_count": 385,
      "outputs": [
        {
          "output_type": "execute_result",
          "data": {
            "text/plain": [
              "      Name  Math  Physics\n",
              "0     Amal    95       78\n",
              "1  Mahnoor    83       94\n",
              "2   Mateen    57       68\n",
              "3    Sahar    79       85"
            ],
            "text/html": [
              "\n",
              "  <div id=\"df-30f2685f-fe30-4920-b341-a3a261d6eec4\" class=\"colab-df-container\">\n",
              "    <div>\n",
              "<style scoped>\n",
              "    .dataframe tbody tr th:only-of-type {\n",
              "        vertical-align: middle;\n",
              "    }\n",
              "\n",
              "    .dataframe tbody tr th {\n",
              "        vertical-align: top;\n",
              "    }\n",
              "\n",
              "    .dataframe thead th {\n",
              "        text-align: right;\n",
              "    }\n",
              "</style>\n",
              "<table border=\"1\" class=\"dataframe\">\n",
              "  <thead>\n",
              "    <tr style=\"text-align: right;\">\n",
              "      <th></th>\n",
              "      <th>Name</th>\n",
              "      <th>Math</th>\n",
              "      <th>Physics</th>\n",
              "    </tr>\n",
              "  </thead>\n",
              "  <tbody>\n",
              "    <tr>\n",
              "      <th>0</th>\n",
              "      <td>Amal</td>\n",
              "      <td>95</td>\n",
              "      <td>78</td>\n",
              "    </tr>\n",
              "    <tr>\n",
              "      <th>1</th>\n",
              "      <td>Mahnoor</td>\n",
              "      <td>83</td>\n",
              "      <td>94</td>\n",
              "    </tr>\n",
              "    <tr>\n",
              "      <th>2</th>\n",
              "      <td>Mateen</td>\n",
              "      <td>57</td>\n",
              "      <td>68</td>\n",
              "    </tr>\n",
              "    <tr>\n",
              "      <th>3</th>\n",
              "      <td>Sahar</td>\n",
              "      <td>79</td>\n",
              "      <td>85</td>\n",
              "    </tr>\n",
              "  </tbody>\n",
              "</table>\n",
              "</div>\n",
              "    <div class=\"colab-df-buttons\">\n",
              "\n",
              "  <div class=\"colab-df-container\">\n",
              "    <button class=\"colab-df-convert\" onclick=\"convertToInteractive('df-30f2685f-fe30-4920-b341-a3a261d6eec4')\"\n",
              "            title=\"Convert this dataframe to an interactive table.\"\n",
              "            style=\"display:none;\">\n",
              "\n",
              "  <svg xmlns=\"http://www.w3.org/2000/svg\" height=\"24px\" viewBox=\"0 -960 960 960\">\n",
              "    <path d=\"M120-120v-720h720v720H120Zm60-500h600v-160H180v160Zm220 220h160v-160H400v160Zm0 220h160v-160H400v160ZM180-400h160v-160H180v160Zm440 0h160v-160H620v160ZM180-180h160v-160H180v160Zm440 0h160v-160H620v160Z\"/>\n",
              "  </svg>\n",
              "    </button>\n",
              "\n",
              "  <style>\n",
              "    .colab-df-container {\n",
              "      display:flex;\n",
              "      gap: 12px;\n",
              "    }\n",
              "\n",
              "    .colab-df-convert {\n",
              "      background-color: #E8F0FE;\n",
              "      border: none;\n",
              "      border-radius: 50%;\n",
              "      cursor: pointer;\n",
              "      display: none;\n",
              "      fill: #1967D2;\n",
              "      height: 32px;\n",
              "      padding: 0 0 0 0;\n",
              "      width: 32px;\n",
              "    }\n",
              "\n",
              "    .colab-df-convert:hover {\n",
              "      background-color: #E2EBFA;\n",
              "      box-shadow: 0px 1px 2px rgba(60, 64, 67, 0.3), 0px 1px 3px 1px rgba(60, 64, 67, 0.15);\n",
              "      fill: #174EA6;\n",
              "    }\n",
              "\n",
              "    .colab-df-buttons div {\n",
              "      margin-bottom: 4px;\n",
              "    }\n",
              "\n",
              "    [theme=dark] .colab-df-convert {\n",
              "      background-color: #3B4455;\n",
              "      fill: #D2E3FC;\n",
              "    }\n",
              "\n",
              "    [theme=dark] .colab-df-convert:hover {\n",
              "      background-color: #434B5C;\n",
              "      box-shadow: 0px 1px 3px 1px rgba(0, 0, 0, 0.15);\n",
              "      filter: drop-shadow(0px 1px 2px rgba(0, 0, 0, 0.3));\n",
              "      fill: #FFFFFF;\n",
              "    }\n",
              "  </style>\n",
              "\n",
              "    <script>\n",
              "      const buttonEl =\n",
              "        document.querySelector('#df-30f2685f-fe30-4920-b341-a3a261d6eec4 button.colab-df-convert');\n",
              "      buttonEl.style.display =\n",
              "        google.colab.kernel.accessAllowed ? 'block' : 'none';\n",
              "\n",
              "      async function convertToInteractive(key) {\n",
              "        const element = document.querySelector('#df-30f2685f-fe30-4920-b341-a3a261d6eec4');\n",
              "        const dataTable =\n",
              "          await google.colab.kernel.invokeFunction('convertToInteractive',\n",
              "                                                    [key], {});\n",
              "        if (!dataTable) return;\n",
              "\n",
              "        const docLinkHtml = 'Like what you see? Visit the ' +\n",
              "          '<a target=\"_blank\" href=https://colab.research.google.com/notebooks/data_table.ipynb>data table notebook</a>'\n",
              "          + ' to learn more about interactive tables.';\n",
              "        element.innerHTML = '';\n",
              "        dataTable['output_type'] = 'display_data';\n",
              "        await google.colab.output.renderOutput(dataTable, element);\n",
              "        const docLink = document.createElement('div');\n",
              "        docLink.innerHTML = docLinkHtml;\n",
              "        element.appendChild(docLink);\n",
              "      }\n",
              "    </script>\n",
              "  </div>\n",
              "\n",
              "\n",
              "    <div id=\"df-b9d225ca-fd37-42e6-b451-1899de7fa521\">\n",
              "      <button class=\"colab-df-quickchart\" onclick=\"quickchart('df-b9d225ca-fd37-42e6-b451-1899de7fa521')\"\n",
              "                title=\"Suggest charts\"\n",
              "                style=\"display:none;\">\n",
              "\n",
              "<svg xmlns=\"http://www.w3.org/2000/svg\" height=\"24px\"viewBox=\"0 0 24 24\"\n",
              "     width=\"24px\">\n",
              "    <g>\n",
              "        <path d=\"M19 3H5c-1.1 0-2 .9-2 2v14c0 1.1.9 2 2 2h14c1.1 0 2-.9 2-2V5c0-1.1-.9-2-2-2zM9 17H7v-7h2v7zm4 0h-2V7h2v10zm4 0h-2v-4h2v4z\"/>\n",
              "    </g>\n",
              "</svg>\n",
              "      </button>\n",
              "\n",
              "<style>\n",
              "  .colab-df-quickchart {\n",
              "      --bg-color: #E8F0FE;\n",
              "      --fill-color: #1967D2;\n",
              "      --hover-bg-color: #E2EBFA;\n",
              "      --hover-fill-color: #174EA6;\n",
              "      --disabled-fill-color: #AAA;\n",
              "      --disabled-bg-color: #DDD;\n",
              "  }\n",
              "\n",
              "  [theme=dark] .colab-df-quickchart {\n",
              "      --bg-color: #3B4455;\n",
              "      --fill-color: #D2E3FC;\n",
              "      --hover-bg-color: #434B5C;\n",
              "      --hover-fill-color: #FFFFFF;\n",
              "      --disabled-bg-color: #3B4455;\n",
              "      --disabled-fill-color: #666;\n",
              "  }\n",
              "\n",
              "  .colab-df-quickchart {\n",
              "    background-color: var(--bg-color);\n",
              "    border: none;\n",
              "    border-radius: 50%;\n",
              "    cursor: pointer;\n",
              "    display: none;\n",
              "    fill: var(--fill-color);\n",
              "    height: 32px;\n",
              "    padding: 0;\n",
              "    width: 32px;\n",
              "  }\n",
              "\n",
              "  .colab-df-quickchart:hover {\n",
              "    background-color: var(--hover-bg-color);\n",
              "    box-shadow: 0 1px 2px rgba(60, 64, 67, 0.3), 0 1px 3px 1px rgba(60, 64, 67, 0.15);\n",
              "    fill: var(--button-hover-fill-color);\n",
              "  }\n",
              "\n",
              "  .colab-df-quickchart-complete:disabled,\n",
              "  .colab-df-quickchart-complete:disabled:hover {\n",
              "    background-color: var(--disabled-bg-color);\n",
              "    fill: var(--disabled-fill-color);\n",
              "    box-shadow: none;\n",
              "  }\n",
              "\n",
              "  .colab-df-spinner {\n",
              "    border: 2px solid var(--fill-color);\n",
              "    border-color: transparent;\n",
              "    border-bottom-color: var(--fill-color);\n",
              "    animation:\n",
              "      spin 1s steps(1) infinite;\n",
              "  }\n",
              "\n",
              "  @keyframes spin {\n",
              "    0% {\n",
              "      border-color: transparent;\n",
              "      border-bottom-color: var(--fill-color);\n",
              "      border-left-color: var(--fill-color);\n",
              "    }\n",
              "    20% {\n",
              "      border-color: transparent;\n",
              "      border-left-color: var(--fill-color);\n",
              "      border-top-color: var(--fill-color);\n",
              "    }\n",
              "    30% {\n",
              "      border-color: transparent;\n",
              "      border-left-color: var(--fill-color);\n",
              "      border-top-color: var(--fill-color);\n",
              "      border-right-color: var(--fill-color);\n",
              "    }\n",
              "    40% {\n",
              "      border-color: transparent;\n",
              "      border-right-color: var(--fill-color);\n",
              "      border-top-color: var(--fill-color);\n",
              "    }\n",
              "    60% {\n",
              "      border-color: transparent;\n",
              "      border-right-color: var(--fill-color);\n",
              "    }\n",
              "    80% {\n",
              "      border-color: transparent;\n",
              "      border-right-color: var(--fill-color);\n",
              "      border-bottom-color: var(--fill-color);\n",
              "    }\n",
              "    90% {\n",
              "      border-color: transparent;\n",
              "      border-bottom-color: var(--fill-color);\n",
              "    }\n",
              "  }\n",
              "</style>\n",
              "\n",
              "      <script>\n",
              "        async function quickchart(key) {\n",
              "          const quickchartButtonEl =\n",
              "            document.querySelector('#' + key + ' button');\n",
              "          quickchartButtonEl.disabled = true;  // To prevent multiple clicks.\n",
              "          quickchartButtonEl.classList.add('colab-df-spinner');\n",
              "          try {\n",
              "            const charts = await google.colab.kernel.invokeFunction(\n",
              "                'suggestCharts', [key], {});\n",
              "          } catch (error) {\n",
              "            console.error('Error during call to suggestCharts:', error);\n",
              "          }\n",
              "          quickchartButtonEl.classList.remove('colab-df-spinner');\n",
              "          quickchartButtonEl.classList.add('colab-df-quickchart-complete');\n",
              "        }\n",
              "        (() => {\n",
              "          let quickchartButtonEl =\n",
              "            document.querySelector('#df-b9d225ca-fd37-42e6-b451-1899de7fa521 button');\n",
              "          quickchartButtonEl.style.display =\n",
              "            google.colab.kernel.accessAllowed ? 'block' : 'none';\n",
              "        })();\n",
              "      </script>\n",
              "    </div>\n",
              "\n",
              "    </div>\n",
              "  </div>\n"
            ],
            "application/vnd.google.colaboratory.intrinsic+json": {
              "type": "dataframe",
              "summary": "{\n  \"name\": \"df1\",\n  \"rows\": 4,\n  \"fields\": [\n    {\n      \"column\": \"Name\",\n      \"properties\": {\n        \"dtype\": \"string\",\n        \"num_unique_values\": 4,\n        \"samples\": [\n          \"Mahnoor\",\n          \"Sahar\",\n          \"Amal\"\n        ],\n        \"semantic_type\": \"\",\n        \"description\": \"\"\n      }\n    },\n    {\n      \"column\": \"Math\",\n      \"properties\": {\n        \"dtype\": \"number\",\n        \"std\": 15,\n        \"min\": 57,\n        \"max\": 95,\n        \"num_unique_values\": 4,\n        \"samples\": [\n          83,\n          79,\n          95\n        ],\n        \"semantic_type\": \"\",\n        \"description\": \"\"\n      }\n    },\n    {\n      \"column\": \"Physics\",\n      \"properties\": {\n        \"dtype\": \"number\",\n        \"std\": 10,\n        \"min\": 68,\n        \"max\": 94,\n        \"num_unique_values\": 4,\n        \"samples\": [\n          94,\n          85,\n          78\n        ],\n        \"semantic_type\": \"\",\n        \"description\": \"\"\n      }\n    }\n  ]\n}"
            }
          },
          "metadata": {},
          "execution_count": 385
        }
      ]
    },
    {
      "cell_type": "code",
      "source": [
        "# Create a DataFrame of 5 employees with Name, Age, Salary columns.\n",
        "\n",
        "data2 = {\n",
        "    'Name':['Amal', 'Mahnoor', 'Mateen', 'Sahar', 'Sadaf'],\n",
        "    'Age':[21, 25, 25, 37, 52],\n",
        "    'Salary':[10000, 25000, 51000, 32000, 67000]\n",
        "}\n",
        "\n",
        "df2 = pd.DataFrame(data2)\n",
        "\n",
        "# Access just the Salary column.\n",
        "\n",
        "print(df2['Salary'])\n",
        "\n",
        "# Retrieve the data of the 3rd employee.\n",
        "\n",
        "print(df2.iloc[2])"
      ],
      "metadata": {
        "colab": {
          "base_uri": "https://localhost:8080/"
        },
        "id": "5BiDy5N5njLJ",
        "outputId": "a6e69940-1da5-4719-a312-1b81fc491702"
      },
      "execution_count": 386,
      "outputs": [
        {
          "output_type": "stream",
          "name": "stdout",
          "text": [
            "0    10000\n",
            "1    25000\n",
            "2    51000\n",
            "3    32000\n",
            "4    67000\n",
            "Name: Salary, dtype: int64\n",
            "Name      Mateen\n",
            "Age           25\n",
            "Salary     51000\n",
            "Name: 2, dtype: object\n"
          ]
        }
      ]
    },
    {
      "cell_type": "code",
      "source": [
        "# Add a new column Department with arbitrary values.\n",
        "\n",
        "df2['Department'] = ['ML', 'UI/UX', 'ML', 'Finance', 'UI/UX']\n",
        "\n",
        "# Add a new column Bonus that is 10% of the salary.\n",
        "\n",
        "df2['Bonus'] = df2['Salary'] * 0.1\n",
        "\n",
        "print(df2)\n",
        "\n",
        "# Select only those employees who are older than 30 and earn more than 50k.\n",
        "\n",
        "df2[(df2['Age'] > 30) & (df2['Salary'] > 50000)]"
      ],
      "metadata": {
        "colab": {
          "base_uri": "https://localhost:8080/",
          "height": 188
        },
        "id": "tRkbbRKvp8p4",
        "outputId": "216b3c69-ae2f-4f0c-ec25-aee4b92dd405"
      },
      "execution_count": 387,
      "outputs": [
        {
          "output_type": "stream",
          "name": "stdout",
          "text": [
            "      Name  Age  Salary Department   Bonus\n",
            "0     Amal   21   10000         ML  1000.0\n",
            "1  Mahnoor   25   25000      UI/UX  2500.0\n",
            "2   Mateen   25   51000         ML  5100.0\n",
            "3    Sahar   37   32000    Finance  3200.0\n",
            "4    Sadaf   52   67000      UI/UX  6700.0\n"
          ]
        },
        {
          "output_type": "execute_result",
          "data": {
            "text/plain": [
              "    Name  Age  Salary Department   Bonus\n",
              "4  Sadaf   52   67000      UI/UX  6700.0"
            ],
            "text/html": [
              "\n",
              "  <div id=\"df-233e9ac1-4a53-4e24-b76d-d82271987089\" class=\"colab-df-container\">\n",
              "    <div>\n",
              "<style scoped>\n",
              "    .dataframe tbody tr th:only-of-type {\n",
              "        vertical-align: middle;\n",
              "    }\n",
              "\n",
              "    .dataframe tbody tr th {\n",
              "        vertical-align: top;\n",
              "    }\n",
              "\n",
              "    .dataframe thead th {\n",
              "        text-align: right;\n",
              "    }\n",
              "</style>\n",
              "<table border=\"1\" class=\"dataframe\">\n",
              "  <thead>\n",
              "    <tr style=\"text-align: right;\">\n",
              "      <th></th>\n",
              "      <th>Name</th>\n",
              "      <th>Age</th>\n",
              "      <th>Salary</th>\n",
              "      <th>Department</th>\n",
              "      <th>Bonus</th>\n",
              "    </tr>\n",
              "  </thead>\n",
              "  <tbody>\n",
              "    <tr>\n",
              "      <th>4</th>\n",
              "      <td>Sadaf</td>\n",
              "      <td>52</td>\n",
              "      <td>67000</td>\n",
              "      <td>UI/UX</td>\n",
              "      <td>6700.0</td>\n",
              "    </tr>\n",
              "  </tbody>\n",
              "</table>\n",
              "</div>\n",
              "    <div class=\"colab-df-buttons\">\n",
              "\n",
              "  <div class=\"colab-df-container\">\n",
              "    <button class=\"colab-df-convert\" onclick=\"convertToInteractive('df-233e9ac1-4a53-4e24-b76d-d82271987089')\"\n",
              "            title=\"Convert this dataframe to an interactive table.\"\n",
              "            style=\"display:none;\">\n",
              "\n",
              "  <svg xmlns=\"http://www.w3.org/2000/svg\" height=\"24px\" viewBox=\"0 -960 960 960\">\n",
              "    <path d=\"M120-120v-720h720v720H120Zm60-500h600v-160H180v160Zm220 220h160v-160H400v160Zm0 220h160v-160H400v160ZM180-400h160v-160H180v160Zm440 0h160v-160H620v160ZM180-180h160v-160H180v160Zm440 0h160v-160H620v160Z\"/>\n",
              "  </svg>\n",
              "    </button>\n",
              "\n",
              "  <style>\n",
              "    .colab-df-container {\n",
              "      display:flex;\n",
              "      gap: 12px;\n",
              "    }\n",
              "\n",
              "    .colab-df-convert {\n",
              "      background-color: #E8F0FE;\n",
              "      border: none;\n",
              "      border-radius: 50%;\n",
              "      cursor: pointer;\n",
              "      display: none;\n",
              "      fill: #1967D2;\n",
              "      height: 32px;\n",
              "      padding: 0 0 0 0;\n",
              "      width: 32px;\n",
              "    }\n",
              "\n",
              "    .colab-df-convert:hover {\n",
              "      background-color: #E2EBFA;\n",
              "      box-shadow: 0px 1px 2px rgba(60, 64, 67, 0.3), 0px 1px 3px 1px rgba(60, 64, 67, 0.15);\n",
              "      fill: #174EA6;\n",
              "    }\n",
              "\n",
              "    .colab-df-buttons div {\n",
              "      margin-bottom: 4px;\n",
              "    }\n",
              "\n",
              "    [theme=dark] .colab-df-convert {\n",
              "      background-color: #3B4455;\n",
              "      fill: #D2E3FC;\n",
              "    }\n",
              "\n",
              "    [theme=dark] .colab-df-convert:hover {\n",
              "      background-color: #434B5C;\n",
              "      box-shadow: 0px 1px 3px 1px rgba(0, 0, 0, 0.15);\n",
              "      filter: drop-shadow(0px 1px 2px rgba(0, 0, 0, 0.3));\n",
              "      fill: #FFFFFF;\n",
              "    }\n",
              "  </style>\n",
              "\n",
              "    <script>\n",
              "      const buttonEl =\n",
              "        document.querySelector('#df-233e9ac1-4a53-4e24-b76d-d82271987089 button.colab-df-convert');\n",
              "      buttonEl.style.display =\n",
              "        google.colab.kernel.accessAllowed ? 'block' : 'none';\n",
              "\n",
              "      async function convertToInteractive(key) {\n",
              "        const element = document.querySelector('#df-233e9ac1-4a53-4e24-b76d-d82271987089');\n",
              "        const dataTable =\n",
              "          await google.colab.kernel.invokeFunction('convertToInteractive',\n",
              "                                                    [key], {});\n",
              "        if (!dataTable) return;\n",
              "\n",
              "        const docLinkHtml = 'Like what you see? Visit the ' +\n",
              "          '<a target=\"_blank\" href=https://colab.research.google.com/notebooks/data_table.ipynb>data table notebook</a>'\n",
              "          + ' to learn more about interactive tables.';\n",
              "        element.innerHTML = '';\n",
              "        dataTable['output_type'] = 'display_data';\n",
              "        await google.colab.output.renderOutput(dataTable, element);\n",
              "        const docLink = document.createElement('div');\n",
              "        docLink.innerHTML = docLinkHtml;\n",
              "        element.appendChild(docLink);\n",
              "      }\n",
              "    </script>\n",
              "  </div>\n",
              "\n",
              "\n",
              "    </div>\n",
              "  </div>\n"
            ],
            "application/vnd.google.colaboratory.intrinsic+json": {
              "type": "dataframe",
              "summary": "{\n  \"name\": \"df2[(df2['Age'] > 30) & (df2['Salary'] > 50000)]\",\n  \"rows\": 1,\n  \"fields\": [\n    {\n      \"column\": \"Name\",\n      \"properties\": {\n        \"dtype\": \"string\",\n        \"num_unique_values\": 1,\n        \"samples\": [\n          \"Sadaf\"\n        ],\n        \"semantic_type\": \"\",\n        \"description\": \"\"\n      }\n    },\n    {\n      \"column\": \"Age\",\n      \"properties\": {\n        \"dtype\": \"number\",\n        \"std\": null,\n        \"min\": 52,\n        \"max\": 52,\n        \"num_unique_values\": 1,\n        \"samples\": [\n          52\n        ],\n        \"semantic_type\": \"\",\n        \"description\": \"\"\n      }\n    },\n    {\n      \"column\": \"Salary\",\n      \"properties\": {\n        \"dtype\": \"number\",\n        \"std\": null,\n        \"min\": 67000,\n        \"max\": 67000,\n        \"num_unique_values\": 1,\n        \"samples\": [\n          67000\n        ],\n        \"semantic_type\": \"\",\n        \"description\": \"\"\n      }\n    },\n    {\n      \"column\": \"Department\",\n      \"properties\": {\n        \"dtype\": \"string\",\n        \"num_unique_values\": 1,\n        \"samples\": [\n          \"UI/UX\"\n        ],\n        \"semantic_type\": \"\",\n        \"description\": \"\"\n      }\n    },\n    {\n      \"column\": \"Bonus\",\n      \"properties\": {\n        \"dtype\": \"number\",\n        \"std\": null,\n        \"min\": 6700.0,\n        \"max\": 6700.0,\n        \"num_unique_values\": 1,\n        \"samples\": [\n          6700.0\n        ],\n        \"semantic_type\": \"\",\n        \"description\": \"\"\n      }\n    }\n  ]\n}"
            }
          },
          "metadata": {},
          "execution_count": 387
        }
      ]
    },
    {
      "cell_type": "code",
      "source": [
        "# Rename column Salary to Base_Salary and Bonus to Year_End_Bonus\n",
        "\n",
        "df2.rename(columns={'Salary':'Base Salary', 'Bonus':'End-Year Bonus'})\n",
        "\n",
        "# Drop all rows where Salary < 30,000.\n",
        "\n",
        "df2.drop(df2[df2['Salary'] < 30000].index)\n",
        "\n",
        "# Sort DataFrame by Age descending, then by Salary ascending.\n",
        "\n",
        "sortedDF = df2.sort_values(by=['Age', 'Salary'], ascending=[False, True])\n",
        "print(sortedDF)"
      ],
      "metadata": {
        "colab": {
          "base_uri": "https://localhost:8080/"
        },
        "id": "BfJYq2d-qeEV",
        "outputId": "2ee33a38-063d-4379-d2a7-8e1cc64f8c14"
      },
      "execution_count": 388,
      "outputs": [
        {
          "output_type": "stream",
          "name": "stdout",
          "text": [
            "      Name  Age  Salary Department   Bonus\n",
            "4    Sadaf   52   67000      UI/UX  6700.0\n",
            "3    Sahar   37   32000    Finance  3200.0\n",
            "1  Mahnoor   25   25000      UI/UX  2500.0\n",
            "2   Mateen   25   51000         ML  5100.0\n",
            "0     Amal   21   10000         ML  1000.0\n"
          ]
        }
      ]
    },
    {
      "cell_type": "markdown",
      "source": [
        "Reading and Writing Data"
      ],
      "metadata": {
        "id": "O98P5o-BSOTJ"
      }
    },
    {
      "cell_type": "code",
      "source": [
        "# Read .csv file\n",
        "\n",
        "df = pd.read_csv('products-100.csv')"
      ],
      "metadata": {
        "id": "5W_um_SQSUfQ"
      },
      "execution_count": 389,
      "outputs": []
    },
    {
      "cell_type": "code",
      "source": [
        "# Print first 3 rows\n",
        "\n",
        "df.head(3)"
      ],
      "metadata": {
        "colab": {
          "base_uri": "https://localhost:8080/",
          "height": 143
        },
        "id": "Cq_qVUJoTRHR",
        "outputId": "d7c760d3-1904-48ad-8b2e-5bbe7d8cddca"
      },
      "execution_count": 390,
      "outputs": [
        {
          "output_type": "execute_result",
          "data": {
            "text/plain": [
              "   Index                                  Name  \\\n",
              "0      1  Compact Printer Air Advanced Digital   \n",
              "1      2                                Tablet   \n",
              "2      3                  Smart Blender Cooker   \n",
              "\n",
              "                                     Description                       Brand  \\\n",
              "0  Situation organization these memory much off.     Garner, Boyle and Flynn   \n",
              "1    Discussion loss politics free one thousand.                 Mueller Inc   \n",
              "2                              No situation per.  Lawson, Keller and Winters   \n",
              "\n",
              "             Category  Price Currency  Stock            EAN        Color  \\\n",
              "0  Books & Stationery    265      USD    774  2091465262179  ForestGreen   \n",
              "1    Shoes & Footwear    502      USD     81  5286196620740        Black   \n",
              "2  Kitchen Appliances    227      USD    726  1282898648918    SlateGray   \n",
              "\n",
              "      Size Availability  Internal ID  \n",
              "0    Large    pre_order           56  \n",
              "1  8x10 in     in_stock           29  \n",
              "2       XS     in_stock           70  "
            ],
            "text/html": [
              "\n",
              "  <div id=\"df-f0e3f398-e9c2-423a-b341-ed7d1818ab9b\" class=\"colab-df-container\">\n",
              "    <div>\n",
              "<style scoped>\n",
              "    .dataframe tbody tr th:only-of-type {\n",
              "        vertical-align: middle;\n",
              "    }\n",
              "\n",
              "    .dataframe tbody tr th {\n",
              "        vertical-align: top;\n",
              "    }\n",
              "\n",
              "    .dataframe thead th {\n",
              "        text-align: right;\n",
              "    }\n",
              "</style>\n",
              "<table border=\"1\" class=\"dataframe\">\n",
              "  <thead>\n",
              "    <tr style=\"text-align: right;\">\n",
              "      <th></th>\n",
              "      <th>Index</th>\n",
              "      <th>Name</th>\n",
              "      <th>Description</th>\n",
              "      <th>Brand</th>\n",
              "      <th>Category</th>\n",
              "      <th>Price</th>\n",
              "      <th>Currency</th>\n",
              "      <th>Stock</th>\n",
              "      <th>EAN</th>\n",
              "      <th>Color</th>\n",
              "      <th>Size</th>\n",
              "      <th>Availability</th>\n",
              "      <th>Internal ID</th>\n",
              "    </tr>\n",
              "  </thead>\n",
              "  <tbody>\n",
              "    <tr>\n",
              "      <th>0</th>\n",
              "      <td>1</td>\n",
              "      <td>Compact Printer Air Advanced Digital</td>\n",
              "      <td>Situation organization these memory much off.</td>\n",
              "      <td>Garner, Boyle and Flynn</td>\n",
              "      <td>Books &amp; Stationery</td>\n",
              "      <td>265</td>\n",
              "      <td>USD</td>\n",
              "      <td>774</td>\n",
              "      <td>2091465262179</td>\n",
              "      <td>ForestGreen</td>\n",
              "      <td>Large</td>\n",
              "      <td>pre_order</td>\n",
              "      <td>56</td>\n",
              "    </tr>\n",
              "    <tr>\n",
              "      <th>1</th>\n",
              "      <td>2</td>\n",
              "      <td>Tablet</td>\n",
              "      <td>Discussion loss politics free one thousand.</td>\n",
              "      <td>Mueller Inc</td>\n",
              "      <td>Shoes &amp; Footwear</td>\n",
              "      <td>502</td>\n",
              "      <td>USD</td>\n",
              "      <td>81</td>\n",
              "      <td>5286196620740</td>\n",
              "      <td>Black</td>\n",
              "      <td>8x10 in</td>\n",
              "      <td>in_stock</td>\n",
              "      <td>29</td>\n",
              "    </tr>\n",
              "    <tr>\n",
              "      <th>2</th>\n",
              "      <td>3</td>\n",
              "      <td>Smart Blender Cooker</td>\n",
              "      <td>No situation per.</td>\n",
              "      <td>Lawson, Keller and Winters</td>\n",
              "      <td>Kitchen Appliances</td>\n",
              "      <td>227</td>\n",
              "      <td>USD</td>\n",
              "      <td>726</td>\n",
              "      <td>1282898648918</td>\n",
              "      <td>SlateGray</td>\n",
              "      <td>XS</td>\n",
              "      <td>in_stock</td>\n",
              "      <td>70</td>\n",
              "    </tr>\n",
              "  </tbody>\n",
              "</table>\n",
              "</div>\n",
              "    <div class=\"colab-df-buttons\">\n",
              "\n",
              "  <div class=\"colab-df-container\">\n",
              "    <button class=\"colab-df-convert\" onclick=\"convertToInteractive('df-f0e3f398-e9c2-423a-b341-ed7d1818ab9b')\"\n",
              "            title=\"Convert this dataframe to an interactive table.\"\n",
              "            style=\"display:none;\">\n",
              "\n",
              "  <svg xmlns=\"http://www.w3.org/2000/svg\" height=\"24px\" viewBox=\"0 -960 960 960\">\n",
              "    <path d=\"M120-120v-720h720v720H120Zm60-500h600v-160H180v160Zm220 220h160v-160H400v160Zm0 220h160v-160H400v160ZM180-400h160v-160H180v160Zm440 0h160v-160H620v160ZM180-180h160v-160H180v160Zm440 0h160v-160H620v160Z\"/>\n",
              "  </svg>\n",
              "    </button>\n",
              "\n",
              "  <style>\n",
              "    .colab-df-container {\n",
              "      display:flex;\n",
              "      gap: 12px;\n",
              "    }\n",
              "\n",
              "    .colab-df-convert {\n",
              "      background-color: #E8F0FE;\n",
              "      border: none;\n",
              "      border-radius: 50%;\n",
              "      cursor: pointer;\n",
              "      display: none;\n",
              "      fill: #1967D2;\n",
              "      height: 32px;\n",
              "      padding: 0 0 0 0;\n",
              "      width: 32px;\n",
              "    }\n",
              "\n",
              "    .colab-df-convert:hover {\n",
              "      background-color: #E2EBFA;\n",
              "      box-shadow: 0px 1px 2px rgba(60, 64, 67, 0.3), 0px 1px 3px 1px rgba(60, 64, 67, 0.15);\n",
              "      fill: #174EA6;\n",
              "    }\n",
              "\n",
              "    .colab-df-buttons div {\n",
              "      margin-bottom: 4px;\n",
              "    }\n",
              "\n",
              "    [theme=dark] .colab-df-convert {\n",
              "      background-color: #3B4455;\n",
              "      fill: #D2E3FC;\n",
              "    }\n",
              "\n",
              "    [theme=dark] .colab-df-convert:hover {\n",
              "      background-color: #434B5C;\n",
              "      box-shadow: 0px 1px 3px 1px rgba(0, 0, 0, 0.15);\n",
              "      filter: drop-shadow(0px 1px 2px rgba(0, 0, 0, 0.3));\n",
              "      fill: #FFFFFF;\n",
              "    }\n",
              "  </style>\n",
              "\n",
              "    <script>\n",
              "      const buttonEl =\n",
              "        document.querySelector('#df-f0e3f398-e9c2-423a-b341-ed7d1818ab9b button.colab-df-convert');\n",
              "      buttonEl.style.display =\n",
              "        google.colab.kernel.accessAllowed ? 'block' : 'none';\n",
              "\n",
              "      async function convertToInteractive(key) {\n",
              "        const element = document.querySelector('#df-f0e3f398-e9c2-423a-b341-ed7d1818ab9b');\n",
              "        const dataTable =\n",
              "          await google.colab.kernel.invokeFunction('convertToInteractive',\n",
              "                                                    [key], {});\n",
              "        if (!dataTable) return;\n",
              "\n",
              "        const docLinkHtml = 'Like what you see? Visit the ' +\n",
              "          '<a target=\"_blank\" href=https://colab.research.google.com/notebooks/data_table.ipynb>data table notebook</a>'\n",
              "          + ' to learn more about interactive tables.';\n",
              "        element.innerHTML = '';\n",
              "        dataTable['output_type'] = 'display_data';\n",
              "        await google.colab.output.renderOutput(dataTable, element);\n",
              "        const docLink = document.createElement('div');\n",
              "        docLink.innerHTML = docLinkHtml;\n",
              "        element.appendChild(docLink);\n",
              "      }\n",
              "    </script>\n",
              "  </div>\n",
              "\n",
              "\n",
              "    <div id=\"df-b9f91904-6cc0-42b7-b4b2-3ea12778c34f\">\n",
              "      <button class=\"colab-df-quickchart\" onclick=\"quickchart('df-b9f91904-6cc0-42b7-b4b2-3ea12778c34f')\"\n",
              "                title=\"Suggest charts\"\n",
              "                style=\"display:none;\">\n",
              "\n",
              "<svg xmlns=\"http://www.w3.org/2000/svg\" height=\"24px\"viewBox=\"0 0 24 24\"\n",
              "     width=\"24px\">\n",
              "    <g>\n",
              "        <path d=\"M19 3H5c-1.1 0-2 .9-2 2v14c0 1.1.9 2 2 2h14c1.1 0 2-.9 2-2V5c0-1.1-.9-2-2-2zM9 17H7v-7h2v7zm4 0h-2V7h2v10zm4 0h-2v-4h2v4z\"/>\n",
              "    </g>\n",
              "</svg>\n",
              "      </button>\n",
              "\n",
              "<style>\n",
              "  .colab-df-quickchart {\n",
              "      --bg-color: #E8F0FE;\n",
              "      --fill-color: #1967D2;\n",
              "      --hover-bg-color: #E2EBFA;\n",
              "      --hover-fill-color: #174EA6;\n",
              "      --disabled-fill-color: #AAA;\n",
              "      --disabled-bg-color: #DDD;\n",
              "  }\n",
              "\n",
              "  [theme=dark] .colab-df-quickchart {\n",
              "      --bg-color: #3B4455;\n",
              "      --fill-color: #D2E3FC;\n",
              "      --hover-bg-color: #434B5C;\n",
              "      --hover-fill-color: #FFFFFF;\n",
              "      --disabled-bg-color: #3B4455;\n",
              "      --disabled-fill-color: #666;\n",
              "  }\n",
              "\n",
              "  .colab-df-quickchart {\n",
              "    background-color: var(--bg-color);\n",
              "    border: none;\n",
              "    border-radius: 50%;\n",
              "    cursor: pointer;\n",
              "    display: none;\n",
              "    fill: var(--fill-color);\n",
              "    height: 32px;\n",
              "    padding: 0;\n",
              "    width: 32px;\n",
              "  }\n",
              "\n",
              "  .colab-df-quickchart:hover {\n",
              "    background-color: var(--hover-bg-color);\n",
              "    box-shadow: 0 1px 2px rgba(60, 64, 67, 0.3), 0 1px 3px 1px rgba(60, 64, 67, 0.15);\n",
              "    fill: var(--button-hover-fill-color);\n",
              "  }\n",
              "\n",
              "  .colab-df-quickchart-complete:disabled,\n",
              "  .colab-df-quickchart-complete:disabled:hover {\n",
              "    background-color: var(--disabled-bg-color);\n",
              "    fill: var(--disabled-fill-color);\n",
              "    box-shadow: none;\n",
              "  }\n",
              "\n",
              "  .colab-df-spinner {\n",
              "    border: 2px solid var(--fill-color);\n",
              "    border-color: transparent;\n",
              "    border-bottom-color: var(--fill-color);\n",
              "    animation:\n",
              "      spin 1s steps(1) infinite;\n",
              "  }\n",
              "\n",
              "  @keyframes spin {\n",
              "    0% {\n",
              "      border-color: transparent;\n",
              "      border-bottom-color: var(--fill-color);\n",
              "      border-left-color: var(--fill-color);\n",
              "    }\n",
              "    20% {\n",
              "      border-color: transparent;\n",
              "      border-left-color: var(--fill-color);\n",
              "      border-top-color: var(--fill-color);\n",
              "    }\n",
              "    30% {\n",
              "      border-color: transparent;\n",
              "      border-left-color: var(--fill-color);\n",
              "      border-top-color: var(--fill-color);\n",
              "      border-right-color: var(--fill-color);\n",
              "    }\n",
              "    40% {\n",
              "      border-color: transparent;\n",
              "      border-right-color: var(--fill-color);\n",
              "      border-top-color: var(--fill-color);\n",
              "    }\n",
              "    60% {\n",
              "      border-color: transparent;\n",
              "      border-right-color: var(--fill-color);\n",
              "    }\n",
              "    80% {\n",
              "      border-color: transparent;\n",
              "      border-right-color: var(--fill-color);\n",
              "      border-bottom-color: var(--fill-color);\n",
              "    }\n",
              "    90% {\n",
              "      border-color: transparent;\n",
              "      border-bottom-color: var(--fill-color);\n",
              "    }\n",
              "  }\n",
              "</style>\n",
              "\n",
              "      <script>\n",
              "        async function quickchart(key) {\n",
              "          const quickchartButtonEl =\n",
              "            document.querySelector('#' + key + ' button');\n",
              "          quickchartButtonEl.disabled = true;  // To prevent multiple clicks.\n",
              "          quickchartButtonEl.classList.add('colab-df-spinner');\n",
              "          try {\n",
              "            const charts = await google.colab.kernel.invokeFunction(\n",
              "                'suggestCharts', [key], {});\n",
              "          } catch (error) {\n",
              "            console.error('Error during call to suggestCharts:', error);\n",
              "          }\n",
              "          quickchartButtonEl.classList.remove('colab-df-spinner');\n",
              "          quickchartButtonEl.classList.add('colab-df-quickchart-complete');\n",
              "        }\n",
              "        (() => {\n",
              "          let quickchartButtonEl =\n",
              "            document.querySelector('#df-b9f91904-6cc0-42b7-b4b2-3ea12778c34f button');\n",
              "          quickchartButtonEl.style.display =\n",
              "            google.colab.kernel.accessAllowed ? 'block' : 'none';\n",
              "        })();\n",
              "      </script>\n",
              "    </div>\n",
              "\n",
              "    </div>\n",
              "  </div>\n"
            ],
            "application/vnd.google.colaboratory.intrinsic+json": {
              "type": "dataframe",
              "variable_name": "df",
              "summary": "{\n  \"name\": \"df\",\n  \"rows\": 100,\n  \"fields\": [\n    {\n      \"column\": \"Index\",\n      \"properties\": {\n        \"dtype\": \"number\",\n        \"std\": 29,\n        \"min\": 1,\n        \"max\": 100,\n        \"num_unique_values\": 100,\n        \"samples\": [\n          84,\n          54,\n          71\n        ],\n        \"semantic_type\": \"\",\n        \"description\": \"\"\n      }\n    },\n    {\n      \"column\": \"Name\",\n      \"properties\": {\n        \"dtype\": \"string\",\n        \"num_unique_values\": 99,\n        \"samples\": [\n          \"Advanced Freezer Advanced Advanced\",\n          \"Silent Dock Fast\",\n          \"Fast Thermostat Microphone Scooter\"\n        ],\n        \"semantic_type\": \"\",\n        \"description\": \"\"\n      }\n    },\n    {\n      \"column\": \"Description\",\n      \"properties\": {\n        \"dtype\": \"string\",\n        \"num_unique_values\": 100,\n        \"samples\": [\n          \"Design price for especially section college over green.\",\n          \"Oil guy table industry hand which.\",\n          \"Three character traditional maybe.\"\n        ],\n        \"semantic_type\": \"\",\n        \"description\": \"\"\n      }\n    },\n    {\n      \"column\": \"Brand\",\n      \"properties\": {\n        \"dtype\": \"string\",\n        \"num_unique_values\": 100,\n        \"samples\": [\n          \"Kaiser-Banks\",\n          \"Singleton PLC\",\n          \"Elliott, Mcfarland and Duran\"\n        ],\n        \"semantic_type\": \"\",\n        \"description\": \"\"\n      }\n    },\n    {\n      \"column\": \"Category\",\n      \"properties\": {\n        \"dtype\": \"category\",\n        \"num_unique_values\": 32,\n        \"samples\": [\n          \"Smartwatches\",\n          \"Grooming Tools\",\n          \"Camping & Hiking\"\n        ],\n        \"semantic_type\": \"\",\n        \"description\": \"\"\n      }\n    },\n    {\n      \"column\": \"Price\",\n      \"properties\": {\n        \"dtype\": \"number\",\n        \"std\": 281,\n        \"min\": 1,\n        \"max\": 999,\n        \"num_unique_values\": 96,\n        \"samples\": [\n          998,\n          352,\n          273\n        ],\n        \"semantic_type\": \"\",\n        \"description\": \"\"\n      }\n    },\n    {\n      \"column\": \"Currency\",\n      \"properties\": {\n        \"dtype\": \"category\",\n        \"num_unique_values\": 1,\n        \"samples\": [\n          \"USD\"\n        ],\n        \"semantic_type\": \"\",\n        \"description\": \"\"\n      }\n    },\n    {\n      \"column\": \"Stock\",\n      \"properties\": {\n        \"dtype\": \"number\",\n        \"std\": 266,\n        \"min\": 10,\n        \"max\": 998,\n        \"num_unique_values\": 96,\n        \"samples\": [\n          208\n        ],\n        \"semantic_type\": \"\",\n        \"description\": \"\"\n      }\n    },\n    {\n      \"column\": \"EAN\",\n      \"properties\": {\n        \"dtype\": \"number\",\n        \"std\": 2918083836247,\n        \"min\": 524638185,\n        \"max\": 9921752342730,\n        \"num_unique_values\": 100,\n        \"samples\": [\n          1396411470228\n        ],\n        \"semantic_type\": \"\",\n        \"description\": \"\"\n      }\n    },\n    {\n      \"column\": \"Color\",\n      \"properties\": {\n        \"dtype\": \"string\",\n        \"num_unique_values\": 72,\n        \"samples\": [\n          \"SeaShell\"\n        ],\n        \"semantic_type\": \"\",\n        \"description\": \"\"\n      }\n    },\n    {\n      \"column\": \"Size\",\n      \"properties\": {\n        \"dtype\": \"category\",\n        \"num_unique_values\": 17,\n        \"samples\": [\n          \"Large\"\n        ],\n        \"semantic_type\": \"\",\n        \"description\": \"\"\n      }\n    },\n    {\n      \"column\": \"Availability\",\n      \"properties\": {\n        \"dtype\": \"category\",\n        \"num_unique_values\": 6,\n        \"samples\": [\n          \"pre_order\"\n        ],\n        \"semantic_type\": \"\",\n        \"description\": \"\"\n      }\n    },\n    {\n      \"column\": \"Internal ID\",\n      \"properties\": {\n        \"dtype\": \"number\",\n        \"std\": 28,\n        \"min\": 3,\n        \"max\": 99,\n        \"num_unique_values\": 66,\n        \"samples\": [\n          6\n        ],\n        \"semantic_type\": \"\",\n        \"description\": \"\"\n      }\n    }\n  ]\n}"
            }
          },
          "metadata": {},
          "execution_count": 390
        }
      ]
    },
    {
      "cell_type": "code",
      "source": [
        "# Select only 'Name' and 'Price' from .csv\n",
        "\n",
        "df3 = pd.read_csv('products-100.csv', usecols=['Name', 'Price'])\n",
        "\n",
        "df3.head(3)"
      ],
      "metadata": {
        "colab": {
          "base_uri": "https://localhost:8080/",
          "height": 143
        },
        "id": "1aFrrI2aU-Xz",
        "outputId": "8ac10e47-73af-444f-e1ce-487b3679ade6"
      },
      "execution_count": 391,
      "outputs": [
        {
          "output_type": "execute_result",
          "data": {
            "text/plain": [
              "                                   Name  Price\n",
              "0  Compact Printer Air Advanced Digital    265\n",
              "1                                Tablet    502\n",
              "2                  Smart Blender Cooker    227"
            ],
            "text/html": [
              "\n",
              "  <div id=\"df-03d5c468-853d-4a74-93b2-96e8238b4028\" class=\"colab-df-container\">\n",
              "    <div>\n",
              "<style scoped>\n",
              "    .dataframe tbody tr th:only-of-type {\n",
              "        vertical-align: middle;\n",
              "    }\n",
              "\n",
              "    .dataframe tbody tr th {\n",
              "        vertical-align: top;\n",
              "    }\n",
              "\n",
              "    .dataframe thead th {\n",
              "        text-align: right;\n",
              "    }\n",
              "</style>\n",
              "<table border=\"1\" class=\"dataframe\">\n",
              "  <thead>\n",
              "    <tr style=\"text-align: right;\">\n",
              "      <th></th>\n",
              "      <th>Name</th>\n",
              "      <th>Price</th>\n",
              "    </tr>\n",
              "  </thead>\n",
              "  <tbody>\n",
              "    <tr>\n",
              "      <th>0</th>\n",
              "      <td>Compact Printer Air Advanced Digital</td>\n",
              "      <td>265</td>\n",
              "    </tr>\n",
              "    <tr>\n",
              "      <th>1</th>\n",
              "      <td>Tablet</td>\n",
              "      <td>502</td>\n",
              "    </tr>\n",
              "    <tr>\n",
              "      <th>2</th>\n",
              "      <td>Smart Blender Cooker</td>\n",
              "      <td>227</td>\n",
              "    </tr>\n",
              "  </tbody>\n",
              "</table>\n",
              "</div>\n",
              "    <div class=\"colab-df-buttons\">\n",
              "\n",
              "  <div class=\"colab-df-container\">\n",
              "    <button class=\"colab-df-convert\" onclick=\"convertToInteractive('df-03d5c468-853d-4a74-93b2-96e8238b4028')\"\n",
              "            title=\"Convert this dataframe to an interactive table.\"\n",
              "            style=\"display:none;\">\n",
              "\n",
              "  <svg xmlns=\"http://www.w3.org/2000/svg\" height=\"24px\" viewBox=\"0 -960 960 960\">\n",
              "    <path d=\"M120-120v-720h720v720H120Zm60-500h600v-160H180v160Zm220 220h160v-160H400v160Zm0 220h160v-160H400v160ZM180-400h160v-160H180v160Zm440 0h160v-160H620v160ZM180-180h160v-160H180v160Zm440 0h160v-160H620v160Z\"/>\n",
              "  </svg>\n",
              "    </button>\n",
              "\n",
              "  <style>\n",
              "    .colab-df-container {\n",
              "      display:flex;\n",
              "      gap: 12px;\n",
              "    }\n",
              "\n",
              "    .colab-df-convert {\n",
              "      background-color: #E8F0FE;\n",
              "      border: none;\n",
              "      border-radius: 50%;\n",
              "      cursor: pointer;\n",
              "      display: none;\n",
              "      fill: #1967D2;\n",
              "      height: 32px;\n",
              "      padding: 0 0 0 0;\n",
              "      width: 32px;\n",
              "    }\n",
              "\n",
              "    .colab-df-convert:hover {\n",
              "      background-color: #E2EBFA;\n",
              "      box-shadow: 0px 1px 2px rgba(60, 64, 67, 0.3), 0px 1px 3px 1px rgba(60, 64, 67, 0.15);\n",
              "      fill: #174EA6;\n",
              "    }\n",
              "\n",
              "    .colab-df-buttons div {\n",
              "      margin-bottom: 4px;\n",
              "    }\n",
              "\n",
              "    [theme=dark] .colab-df-convert {\n",
              "      background-color: #3B4455;\n",
              "      fill: #D2E3FC;\n",
              "    }\n",
              "\n",
              "    [theme=dark] .colab-df-convert:hover {\n",
              "      background-color: #434B5C;\n",
              "      box-shadow: 0px 1px 3px 1px rgba(0, 0, 0, 0.15);\n",
              "      filter: drop-shadow(0px 1px 2px rgba(0, 0, 0, 0.3));\n",
              "      fill: #FFFFFF;\n",
              "    }\n",
              "  </style>\n",
              "\n",
              "    <script>\n",
              "      const buttonEl =\n",
              "        document.querySelector('#df-03d5c468-853d-4a74-93b2-96e8238b4028 button.colab-df-convert');\n",
              "      buttonEl.style.display =\n",
              "        google.colab.kernel.accessAllowed ? 'block' : 'none';\n",
              "\n",
              "      async function convertToInteractive(key) {\n",
              "        const element = document.querySelector('#df-03d5c468-853d-4a74-93b2-96e8238b4028');\n",
              "        const dataTable =\n",
              "          await google.colab.kernel.invokeFunction('convertToInteractive',\n",
              "                                                    [key], {});\n",
              "        if (!dataTable) return;\n",
              "\n",
              "        const docLinkHtml = 'Like what you see? Visit the ' +\n",
              "          '<a target=\"_blank\" href=https://colab.research.google.com/notebooks/data_table.ipynb>data table notebook</a>'\n",
              "          + ' to learn more about interactive tables.';\n",
              "        element.innerHTML = '';\n",
              "        dataTable['output_type'] = 'display_data';\n",
              "        await google.colab.output.renderOutput(dataTable, element);\n",
              "        const docLink = document.createElement('div');\n",
              "        docLink.innerHTML = docLinkHtml;\n",
              "        element.appendChild(docLink);\n",
              "      }\n",
              "    </script>\n",
              "  </div>\n",
              "\n",
              "\n",
              "    <div id=\"df-ec413b7d-88a9-461c-ba09-ae1db23b8234\">\n",
              "      <button class=\"colab-df-quickchart\" onclick=\"quickchart('df-ec413b7d-88a9-461c-ba09-ae1db23b8234')\"\n",
              "                title=\"Suggest charts\"\n",
              "                style=\"display:none;\">\n",
              "\n",
              "<svg xmlns=\"http://www.w3.org/2000/svg\" height=\"24px\"viewBox=\"0 0 24 24\"\n",
              "     width=\"24px\">\n",
              "    <g>\n",
              "        <path d=\"M19 3H5c-1.1 0-2 .9-2 2v14c0 1.1.9 2 2 2h14c1.1 0 2-.9 2-2V5c0-1.1-.9-2-2-2zM9 17H7v-7h2v7zm4 0h-2V7h2v10zm4 0h-2v-4h2v4z\"/>\n",
              "    </g>\n",
              "</svg>\n",
              "      </button>\n",
              "\n",
              "<style>\n",
              "  .colab-df-quickchart {\n",
              "      --bg-color: #E8F0FE;\n",
              "      --fill-color: #1967D2;\n",
              "      --hover-bg-color: #E2EBFA;\n",
              "      --hover-fill-color: #174EA6;\n",
              "      --disabled-fill-color: #AAA;\n",
              "      --disabled-bg-color: #DDD;\n",
              "  }\n",
              "\n",
              "  [theme=dark] .colab-df-quickchart {\n",
              "      --bg-color: #3B4455;\n",
              "      --fill-color: #D2E3FC;\n",
              "      --hover-bg-color: #434B5C;\n",
              "      --hover-fill-color: #FFFFFF;\n",
              "      --disabled-bg-color: #3B4455;\n",
              "      --disabled-fill-color: #666;\n",
              "  }\n",
              "\n",
              "  .colab-df-quickchart {\n",
              "    background-color: var(--bg-color);\n",
              "    border: none;\n",
              "    border-radius: 50%;\n",
              "    cursor: pointer;\n",
              "    display: none;\n",
              "    fill: var(--fill-color);\n",
              "    height: 32px;\n",
              "    padding: 0;\n",
              "    width: 32px;\n",
              "  }\n",
              "\n",
              "  .colab-df-quickchart:hover {\n",
              "    background-color: var(--hover-bg-color);\n",
              "    box-shadow: 0 1px 2px rgba(60, 64, 67, 0.3), 0 1px 3px 1px rgba(60, 64, 67, 0.15);\n",
              "    fill: var(--button-hover-fill-color);\n",
              "  }\n",
              "\n",
              "  .colab-df-quickchart-complete:disabled,\n",
              "  .colab-df-quickchart-complete:disabled:hover {\n",
              "    background-color: var(--disabled-bg-color);\n",
              "    fill: var(--disabled-fill-color);\n",
              "    box-shadow: none;\n",
              "  }\n",
              "\n",
              "  .colab-df-spinner {\n",
              "    border: 2px solid var(--fill-color);\n",
              "    border-color: transparent;\n",
              "    border-bottom-color: var(--fill-color);\n",
              "    animation:\n",
              "      spin 1s steps(1) infinite;\n",
              "  }\n",
              "\n",
              "  @keyframes spin {\n",
              "    0% {\n",
              "      border-color: transparent;\n",
              "      border-bottom-color: var(--fill-color);\n",
              "      border-left-color: var(--fill-color);\n",
              "    }\n",
              "    20% {\n",
              "      border-color: transparent;\n",
              "      border-left-color: var(--fill-color);\n",
              "      border-top-color: var(--fill-color);\n",
              "    }\n",
              "    30% {\n",
              "      border-color: transparent;\n",
              "      border-left-color: var(--fill-color);\n",
              "      border-top-color: var(--fill-color);\n",
              "      border-right-color: var(--fill-color);\n",
              "    }\n",
              "    40% {\n",
              "      border-color: transparent;\n",
              "      border-right-color: var(--fill-color);\n",
              "      border-top-color: var(--fill-color);\n",
              "    }\n",
              "    60% {\n",
              "      border-color: transparent;\n",
              "      border-right-color: var(--fill-color);\n",
              "    }\n",
              "    80% {\n",
              "      border-color: transparent;\n",
              "      border-right-color: var(--fill-color);\n",
              "      border-bottom-color: var(--fill-color);\n",
              "    }\n",
              "    90% {\n",
              "      border-color: transparent;\n",
              "      border-bottom-color: var(--fill-color);\n",
              "    }\n",
              "  }\n",
              "</style>\n",
              "\n",
              "      <script>\n",
              "        async function quickchart(key) {\n",
              "          const quickchartButtonEl =\n",
              "            document.querySelector('#' + key + ' button');\n",
              "          quickchartButtonEl.disabled = true;  // To prevent multiple clicks.\n",
              "          quickchartButtonEl.classList.add('colab-df-spinner');\n",
              "          try {\n",
              "            const charts = await google.colab.kernel.invokeFunction(\n",
              "                'suggestCharts', [key], {});\n",
              "          } catch (error) {\n",
              "            console.error('Error during call to suggestCharts:', error);\n",
              "          }\n",
              "          quickchartButtonEl.classList.remove('colab-df-spinner');\n",
              "          quickchartButtonEl.classList.add('colab-df-quickchart-complete');\n",
              "        }\n",
              "        (() => {\n",
              "          let quickchartButtonEl =\n",
              "            document.querySelector('#df-ec413b7d-88a9-461c-ba09-ae1db23b8234 button');\n",
              "          quickchartButtonEl.style.display =\n",
              "            google.colab.kernel.accessAllowed ? 'block' : 'none';\n",
              "        })();\n",
              "      </script>\n",
              "    </div>\n",
              "\n",
              "    </div>\n",
              "  </div>\n"
            ],
            "application/vnd.google.colaboratory.intrinsic+json": {
              "type": "dataframe",
              "variable_name": "df3",
              "summary": "{\n  \"name\": \"df3\",\n  \"rows\": 100,\n  \"fields\": [\n    {\n      \"column\": \"Name\",\n      \"properties\": {\n        \"dtype\": \"string\",\n        \"num_unique_values\": 99,\n        \"samples\": [\n          \"Advanced Freezer Advanced Advanced\",\n          \"Silent Dock Fast\",\n          \"Fast Thermostat Microphone Scooter\"\n        ],\n        \"semantic_type\": \"\",\n        \"description\": \"\"\n      }\n    },\n    {\n      \"column\": \"Price\",\n      \"properties\": {\n        \"dtype\": \"number\",\n        \"std\": 281,\n        \"min\": 1,\n        \"max\": 999,\n        \"num_unique_values\": 96,\n        \"samples\": [\n          998,\n          352,\n          273\n        ],\n        \"semantic_type\": \"\",\n        \"description\": \"\"\n      }\n    }\n  ]\n}"
            }
          },
          "metadata": {},
          "execution_count": 391
        }
      ]
    },
    {
      "cell_type": "code",
      "source": [
        "# Load a CSV file and skip the first 2 rows. Set the ProductID column as the index.\n",
        "\n",
        "df4 = pd.read_csv('products-100.csv', skiprows = [1,2], index_col = 'Internal ID')\n",
        "\n",
        "df4.head()\n"
      ],
      "metadata": {
        "colab": {
          "base_uri": "https://localhost:8080/",
          "height": 324
        },
        "id": "4u0OkKgaVFz9",
        "outputId": "55694650-b0ff-4dd7-9e12-072ba948478b"
      },
      "execution_count": 392,
      "outputs": [
        {
          "output_type": "execute_result",
          "data": {
            "text/plain": [
              "             Index                                            Name  \\\n",
              "Internal ID                                                          \n",
              "70               3                            Smart Blender Cooker   \n",
              "31               4                    Advanced Router Rechargeable   \n",
              "10               5                    Portable Mouse Monitor Phone   \n",
              "60               6                                           Radio   \n",
              "86               7  Ultra Projector Oven Thermostat Prime Advanced   \n",
              "\n",
              "                                                   Description  \\\n",
              "Internal ID                                                      \n",
              "70                                           No situation per.   \n",
              "31                             For force gas energy six laugh.   \n",
              "10           Feeling back religious however author room sci...   \n",
              "60            Character prove growth contain serious customer.   \n",
              "86           Pattern possible look necessary indicate work ...   \n",
              "\n",
              "                                    Brand             Category  Price  \\\n",
              "Internal ID                                                             \n",
              "70             Lawson, Keller and Winters   Kitchen Appliances    227   \n",
              "31                     Gallagher and Sons   Kitchen Appliances    121   \n",
              "10                              Irwin LLC       Kids' Clothing      1   \n",
              "60           Benjamin, Nelson and Hancock             Skincare    426   \n",
              "86                 Mccoy, Waters and Rose  Laptops & Computers     68   \n",
              "\n",
              "            Currency  Stock            EAN           Color        Size  \\\n",
              "Internal ID                                                              \n",
              "70               USD    726  1282898648918       SlateGray          XS   \n",
              "31               USD    896  3879177514583       PaleGreen           L   \n",
              "10               USD    925  9055773261265        SeaShell  100x200 mm   \n",
              "60               USD    549  1150028980156  CornflowerBlue    30x40 cm   \n",
              "86               USD    870  5029747624534          Purple           S   \n",
              "\n",
              "             Availability  \n",
              "Internal ID                \n",
              "70               in_stock  \n",
              "31           discontinued  \n",
              "10           discontinued  \n",
              "60              pre_order  \n",
              "86           discontinued  "
            ],
            "text/html": [
              "\n",
              "  <div id=\"df-77dd70ce-3f37-4c96-b903-02045bed0390\" class=\"colab-df-container\">\n",
              "    <div>\n",
              "<style scoped>\n",
              "    .dataframe tbody tr th:only-of-type {\n",
              "        vertical-align: middle;\n",
              "    }\n",
              "\n",
              "    .dataframe tbody tr th {\n",
              "        vertical-align: top;\n",
              "    }\n",
              "\n",
              "    .dataframe thead th {\n",
              "        text-align: right;\n",
              "    }\n",
              "</style>\n",
              "<table border=\"1\" class=\"dataframe\">\n",
              "  <thead>\n",
              "    <tr style=\"text-align: right;\">\n",
              "      <th></th>\n",
              "      <th>Index</th>\n",
              "      <th>Name</th>\n",
              "      <th>Description</th>\n",
              "      <th>Brand</th>\n",
              "      <th>Category</th>\n",
              "      <th>Price</th>\n",
              "      <th>Currency</th>\n",
              "      <th>Stock</th>\n",
              "      <th>EAN</th>\n",
              "      <th>Color</th>\n",
              "      <th>Size</th>\n",
              "      <th>Availability</th>\n",
              "    </tr>\n",
              "    <tr>\n",
              "      <th>Internal ID</th>\n",
              "      <th></th>\n",
              "      <th></th>\n",
              "      <th></th>\n",
              "      <th></th>\n",
              "      <th></th>\n",
              "      <th></th>\n",
              "      <th></th>\n",
              "      <th></th>\n",
              "      <th></th>\n",
              "      <th></th>\n",
              "      <th></th>\n",
              "      <th></th>\n",
              "    </tr>\n",
              "  </thead>\n",
              "  <tbody>\n",
              "    <tr>\n",
              "      <th>70</th>\n",
              "      <td>3</td>\n",
              "      <td>Smart Blender Cooker</td>\n",
              "      <td>No situation per.</td>\n",
              "      <td>Lawson, Keller and Winters</td>\n",
              "      <td>Kitchen Appliances</td>\n",
              "      <td>227</td>\n",
              "      <td>USD</td>\n",
              "      <td>726</td>\n",
              "      <td>1282898648918</td>\n",
              "      <td>SlateGray</td>\n",
              "      <td>XS</td>\n",
              "      <td>in_stock</td>\n",
              "    </tr>\n",
              "    <tr>\n",
              "      <th>31</th>\n",
              "      <td>4</td>\n",
              "      <td>Advanced Router Rechargeable</td>\n",
              "      <td>For force gas energy six laugh.</td>\n",
              "      <td>Gallagher and Sons</td>\n",
              "      <td>Kitchen Appliances</td>\n",
              "      <td>121</td>\n",
              "      <td>USD</td>\n",
              "      <td>896</td>\n",
              "      <td>3879177514583</td>\n",
              "      <td>PaleGreen</td>\n",
              "      <td>L</td>\n",
              "      <td>discontinued</td>\n",
              "    </tr>\n",
              "    <tr>\n",
              "      <th>10</th>\n",
              "      <td>5</td>\n",
              "      <td>Portable Mouse Monitor Phone</td>\n",
              "      <td>Feeling back religious however author room sci...</td>\n",
              "      <td>Irwin LLC</td>\n",
              "      <td>Kids' Clothing</td>\n",
              "      <td>1</td>\n",
              "      <td>USD</td>\n",
              "      <td>925</td>\n",
              "      <td>9055773261265</td>\n",
              "      <td>SeaShell</td>\n",
              "      <td>100x200 mm</td>\n",
              "      <td>discontinued</td>\n",
              "    </tr>\n",
              "    <tr>\n",
              "      <th>60</th>\n",
              "      <td>6</td>\n",
              "      <td>Radio</td>\n",
              "      <td>Character prove growth contain serious customer.</td>\n",
              "      <td>Benjamin, Nelson and Hancock</td>\n",
              "      <td>Skincare</td>\n",
              "      <td>426</td>\n",
              "      <td>USD</td>\n",
              "      <td>549</td>\n",
              "      <td>1150028980156</td>\n",
              "      <td>CornflowerBlue</td>\n",
              "      <td>30x40 cm</td>\n",
              "      <td>pre_order</td>\n",
              "    </tr>\n",
              "    <tr>\n",
              "      <th>86</th>\n",
              "      <td>7</td>\n",
              "      <td>Ultra Projector Oven Thermostat Prime Advanced</td>\n",
              "      <td>Pattern possible look necessary indicate work ...</td>\n",
              "      <td>Mccoy, Waters and Rose</td>\n",
              "      <td>Laptops &amp; Computers</td>\n",
              "      <td>68</td>\n",
              "      <td>USD</td>\n",
              "      <td>870</td>\n",
              "      <td>5029747624534</td>\n",
              "      <td>Purple</td>\n",
              "      <td>S</td>\n",
              "      <td>discontinued</td>\n",
              "    </tr>\n",
              "  </tbody>\n",
              "</table>\n",
              "</div>\n",
              "    <div class=\"colab-df-buttons\">\n",
              "\n",
              "  <div class=\"colab-df-container\">\n",
              "    <button class=\"colab-df-convert\" onclick=\"convertToInteractive('df-77dd70ce-3f37-4c96-b903-02045bed0390')\"\n",
              "            title=\"Convert this dataframe to an interactive table.\"\n",
              "            style=\"display:none;\">\n",
              "\n",
              "  <svg xmlns=\"http://www.w3.org/2000/svg\" height=\"24px\" viewBox=\"0 -960 960 960\">\n",
              "    <path d=\"M120-120v-720h720v720H120Zm60-500h600v-160H180v160Zm220 220h160v-160H400v160Zm0 220h160v-160H400v160ZM180-400h160v-160H180v160Zm440 0h160v-160H620v160ZM180-180h160v-160H180v160Zm440 0h160v-160H620v160Z\"/>\n",
              "  </svg>\n",
              "    </button>\n",
              "\n",
              "  <style>\n",
              "    .colab-df-container {\n",
              "      display:flex;\n",
              "      gap: 12px;\n",
              "    }\n",
              "\n",
              "    .colab-df-convert {\n",
              "      background-color: #E8F0FE;\n",
              "      border: none;\n",
              "      border-radius: 50%;\n",
              "      cursor: pointer;\n",
              "      display: none;\n",
              "      fill: #1967D2;\n",
              "      height: 32px;\n",
              "      padding: 0 0 0 0;\n",
              "      width: 32px;\n",
              "    }\n",
              "\n",
              "    .colab-df-convert:hover {\n",
              "      background-color: #E2EBFA;\n",
              "      box-shadow: 0px 1px 2px rgba(60, 64, 67, 0.3), 0px 1px 3px 1px rgba(60, 64, 67, 0.15);\n",
              "      fill: #174EA6;\n",
              "    }\n",
              "\n",
              "    .colab-df-buttons div {\n",
              "      margin-bottom: 4px;\n",
              "    }\n",
              "\n",
              "    [theme=dark] .colab-df-convert {\n",
              "      background-color: #3B4455;\n",
              "      fill: #D2E3FC;\n",
              "    }\n",
              "\n",
              "    [theme=dark] .colab-df-convert:hover {\n",
              "      background-color: #434B5C;\n",
              "      box-shadow: 0px 1px 3px 1px rgba(0, 0, 0, 0.15);\n",
              "      filter: drop-shadow(0px 1px 2px rgba(0, 0, 0, 0.3));\n",
              "      fill: #FFFFFF;\n",
              "    }\n",
              "  </style>\n",
              "\n",
              "    <script>\n",
              "      const buttonEl =\n",
              "        document.querySelector('#df-77dd70ce-3f37-4c96-b903-02045bed0390 button.colab-df-convert');\n",
              "      buttonEl.style.display =\n",
              "        google.colab.kernel.accessAllowed ? 'block' : 'none';\n",
              "\n",
              "      async function convertToInteractive(key) {\n",
              "        const element = document.querySelector('#df-77dd70ce-3f37-4c96-b903-02045bed0390');\n",
              "        const dataTable =\n",
              "          await google.colab.kernel.invokeFunction('convertToInteractive',\n",
              "                                                    [key], {});\n",
              "        if (!dataTable) return;\n",
              "\n",
              "        const docLinkHtml = 'Like what you see? Visit the ' +\n",
              "          '<a target=\"_blank\" href=https://colab.research.google.com/notebooks/data_table.ipynb>data table notebook</a>'\n",
              "          + ' to learn more about interactive tables.';\n",
              "        element.innerHTML = '';\n",
              "        dataTable['output_type'] = 'display_data';\n",
              "        await google.colab.output.renderOutput(dataTable, element);\n",
              "        const docLink = document.createElement('div');\n",
              "        docLink.innerHTML = docLinkHtml;\n",
              "        element.appendChild(docLink);\n",
              "      }\n",
              "    </script>\n",
              "  </div>\n",
              "\n",
              "\n",
              "    <div id=\"df-dc7fb1de-d372-4e80-8f44-4aa296210e46\">\n",
              "      <button class=\"colab-df-quickchart\" onclick=\"quickchart('df-dc7fb1de-d372-4e80-8f44-4aa296210e46')\"\n",
              "                title=\"Suggest charts\"\n",
              "                style=\"display:none;\">\n",
              "\n",
              "<svg xmlns=\"http://www.w3.org/2000/svg\" height=\"24px\"viewBox=\"0 0 24 24\"\n",
              "     width=\"24px\">\n",
              "    <g>\n",
              "        <path d=\"M19 3H5c-1.1 0-2 .9-2 2v14c0 1.1.9 2 2 2h14c1.1 0 2-.9 2-2V5c0-1.1-.9-2-2-2zM9 17H7v-7h2v7zm4 0h-2V7h2v10zm4 0h-2v-4h2v4z\"/>\n",
              "    </g>\n",
              "</svg>\n",
              "      </button>\n",
              "\n",
              "<style>\n",
              "  .colab-df-quickchart {\n",
              "      --bg-color: #E8F0FE;\n",
              "      --fill-color: #1967D2;\n",
              "      --hover-bg-color: #E2EBFA;\n",
              "      --hover-fill-color: #174EA6;\n",
              "      --disabled-fill-color: #AAA;\n",
              "      --disabled-bg-color: #DDD;\n",
              "  }\n",
              "\n",
              "  [theme=dark] .colab-df-quickchart {\n",
              "      --bg-color: #3B4455;\n",
              "      --fill-color: #D2E3FC;\n",
              "      --hover-bg-color: #434B5C;\n",
              "      --hover-fill-color: #FFFFFF;\n",
              "      --disabled-bg-color: #3B4455;\n",
              "      --disabled-fill-color: #666;\n",
              "  }\n",
              "\n",
              "  .colab-df-quickchart {\n",
              "    background-color: var(--bg-color);\n",
              "    border: none;\n",
              "    border-radius: 50%;\n",
              "    cursor: pointer;\n",
              "    display: none;\n",
              "    fill: var(--fill-color);\n",
              "    height: 32px;\n",
              "    padding: 0;\n",
              "    width: 32px;\n",
              "  }\n",
              "\n",
              "  .colab-df-quickchart:hover {\n",
              "    background-color: var(--hover-bg-color);\n",
              "    box-shadow: 0 1px 2px rgba(60, 64, 67, 0.3), 0 1px 3px 1px rgba(60, 64, 67, 0.15);\n",
              "    fill: var(--button-hover-fill-color);\n",
              "  }\n",
              "\n",
              "  .colab-df-quickchart-complete:disabled,\n",
              "  .colab-df-quickchart-complete:disabled:hover {\n",
              "    background-color: var(--disabled-bg-color);\n",
              "    fill: var(--disabled-fill-color);\n",
              "    box-shadow: none;\n",
              "  }\n",
              "\n",
              "  .colab-df-spinner {\n",
              "    border: 2px solid var(--fill-color);\n",
              "    border-color: transparent;\n",
              "    border-bottom-color: var(--fill-color);\n",
              "    animation:\n",
              "      spin 1s steps(1) infinite;\n",
              "  }\n",
              "\n",
              "  @keyframes spin {\n",
              "    0% {\n",
              "      border-color: transparent;\n",
              "      border-bottom-color: var(--fill-color);\n",
              "      border-left-color: var(--fill-color);\n",
              "    }\n",
              "    20% {\n",
              "      border-color: transparent;\n",
              "      border-left-color: var(--fill-color);\n",
              "      border-top-color: var(--fill-color);\n",
              "    }\n",
              "    30% {\n",
              "      border-color: transparent;\n",
              "      border-left-color: var(--fill-color);\n",
              "      border-top-color: var(--fill-color);\n",
              "      border-right-color: var(--fill-color);\n",
              "    }\n",
              "    40% {\n",
              "      border-color: transparent;\n",
              "      border-right-color: var(--fill-color);\n",
              "      border-top-color: var(--fill-color);\n",
              "    }\n",
              "    60% {\n",
              "      border-color: transparent;\n",
              "      border-right-color: var(--fill-color);\n",
              "    }\n",
              "    80% {\n",
              "      border-color: transparent;\n",
              "      border-right-color: var(--fill-color);\n",
              "      border-bottom-color: var(--fill-color);\n",
              "    }\n",
              "    90% {\n",
              "      border-color: transparent;\n",
              "      border-bottom-color: var(--fill-color);\n",
              "    }\n",
              "  }\n",
              "</style>\n",
              "\n",
              "      <script>\n",
              "        async function quickchart(key) {\n",
              "          const quickchartButtonEl =\n",
              "            document.querySelector('#' + key + ' button');\n",
              "          quickchartButtonEl.disabled = true;  // To prevent multiple clicks.\n",
              "          quickchartButtonEl.classList.add('colab-df-spinner');\n",
              "          try {\n",
              "            const charts = await google.colab.kernel.invokeFunction(\n",
              "                'suggestCharts', [key], {});\n",
              "          } catch (error) {\n",
              "            console.error('Error during call to suggestCharts:', error);\n",
              "          }\n",
              "          quickchartButtonEl.classList.remove('colab-df-spinner');\n",
              "          quickchartButtonEl.classList.add('colab-df-quickchart-complete');\n",
              "        }\n",
              "        (() => {\n",
              "          let quickchartButtonEl =\n",
              "            document.querySelector('#df-dc7fb1de-d372-4e80-8f44-4aa296210e46 button');\n",
              "          quickchartButtonEl.style.display =\n",
              "            google.colab.kernel.accessAllowed ? 'block' : 'none';\n",
              "        })();\n",
              "      </script>\n",
              "    </div>\n",
              "\n",
              "    </div>\n",
              "  </div>\n"
            ],
            "application/vnd.google.colaboratory.intrinsic+json": {
              "type": "dataframe",
              "variable_name": "df4",
              "summary": "{\n  \"name\": \"df4\",\n  \"rows\": 98,\n  \"fields\": [\n    {\n      \"column\": \"Internal ID\",\n      \"properties\": {\n        \"dtype\": \"number\",\n        \"std\": 28,\n        \"min\": 3,\n        \"max\": 99,\n        \"num_unique_values\": 66,\n        \"samples\": [\n          5,\n          20,\n          70\n        ],\n        \"semantic_type\": \"\",\n        \"description\": \"\"\n      }\n    },\n    {\n      \"column\": \"Index\",\n      \"properties\": {\n        \"dtype\": \"number\",\n        \"std\": 28,\n        \"min\": 3,\n        \"max\": 100,\n        \"num_unique_values\": 98,\n        \"samples\": [\n          65,\n          43,\n          97\n        ],\n        \"semantic_type\": \"\",\n        \"description\": \"\"\n      }\n    },\n    {\n      \"column\": \"Name\",\n      \"properties\": {\n        \"dtype\": \"string\",\n        \"num_unique_values\": 98,\n        \"samples\": [\n          \"Silent Trimmer Shaver Fast\",\n          \"Rechargeable Projector Pro\",\n          \"Fast Thermostat Microphone Scooter\"\n        ],\n        \"semantic_type\": \"\",\n        \"description\": \"\"\n      }\n    },\n    {\n      \"column\": \"Description\",\n      \"properties\": {\n        \"dtype\": \"string\",\n        \"num_unique_values\": 98,\n        \"samples\": [\n          \"Task point seat better.\",\n          \"Bank everything ago girl.\",\n          \"Nature notice themselves news.\"\n        ],\n        \"semantic_type\": \"\",\n        \"description\": \"\"\n      }\n    },\n    {\n      \"column\": \"Brand\",\n      \"properties\": {\n        \"dtype\": \"string\",\n        \"num_unique_values\": 98,\n        \"samples\": [\n          \"Munoz Group\",\n          \"Levine, Martin and Mccann\",\n          \"Shea Ltd\"\n        ],\n        \"semantic_type\": \"\",\n        \"description\": \"\"\n      }\n    },\n    {\n      \"column\": \"Category\",\n      \"properties\": {\n        \"dtype\": \"category\",\n        \"num_unique_values\": 32,\n        \"samples\": [\n          \"Smartwatches\",\n          \"Furniture\",\n          \"Beauty & Personal Care\"\n        ],\n        \"semantic_type\": \"\",\n        \"description\": \"\"\n      }\n    },\n    {\n      \"column\": \"Price\",\n      \"properties\": {\n        \"dtype\": \"number\",\n        \"std\": 283,\n        \"min\": 1,\n        \"max\": 999,\n        \"num_unique_values\": 94,\n        \"samples\": [\n          935,\n          900,\n          489\n        ],\n        \"semantic_type\": \"\",\n        \"description\": \"\"\n      }\n    },\n    {\n      \"column\": \"Currency\",\n      \"properties\": {\n        \"dtype\": \"category\",\n        \"num_unique_values\": 1,\n        \"samples\": [\n          \"USD\"\n        ],\n        \"semantic_type\": \"\",\n        \"description\": \"\"\n      }\n    },\n    {\n      \"column\": \"Stock\",\n      \"properties\": {\n        \"dtype\": \"number\",\n        \"std\": 264,\n        \"min\": 10,\n        \"max\": 998,\n        \"num_unique_values\": 94,\n        \"samples\": [\n          55\n        ],\n        \"semantic_type\": \"\",\n        \"description\": \"\"\n      }\n    },\n    {\n      \"column\": \"EAN\",\n      \"properties\": {\n        \"dtype\": \"number\",\n        \"std\": 2934026118960,\n        \"min\": 524638185,\n        \"max\": 9921752342730,\n        \"num_unique_values\": 98,\n        \"samples\": [\n          4089415274929\n        ],\n        \"semantic_type\": \"\",\n        \"description\": \"\"\n      }\n    },\n    {\n      \"column\": \"Color\",\n      \"properties\": {\n        \"dtype\": \"string\",\n        \"num_unique_values\": 72,\n        \"samples\": [\n          \"Purple\"\n        ],\n        \"semantic_type\": \"\",\n        \"description\": \"\"\n      }\n    },\n    {\n      \"column\": \"Size\",\n      \"properties\": {\n        \"dtype\": \"category\",\n        \"num_unique_values\": 17,\n        \"samples\": [\n          \"XS\"\n        ],\n        \"semantic_type\": \"\",\n        \"description\": \"\"\n      }\n    },\n    {\n      \"column\": \"Availability\",\n      \"properties\": {\n        \"dtype\": \"category\",\n        \"num_unique_values\": 6,\n        \"samples\": [\n          \"in_stock\"\n        ],\n        \"semantic_type\": \"\",\n        \"description\": \"\"\n      }\n    }\n  ]\n}"
            }
          },
          "metadata": {},
          "execution_count": 392
        }
      ]
    },
    {
      "cell_type": "code",
      "source": [
        "# Q1. Custom Import with Filtering\n",
        "# You have a CSV file orders.csv with columns: OrderID, CustomerName, City, Amount, Date.\n",
        "\n",
        "# Task:\n",
        "\n",
        "# Read the file while:\n",
        "\n",
        "# Setting OrderID as the index.\n",
        "\n",
        "# Only loading columns CustomerName, City, Amount.\n",
        "\n",
        "# Skipping the first 2 rows.\n",
        "\n",
        "# Reading only first 10 records.\n",
        "\n",
        "df = pd.read_csv('orders.csv', index_col='OrderID', usecols= ['OrderID', 'CustomerName', 'City', 'Amount'], skiprows=[1,2])\n",
        "\n",
        "print(df.head(10))\n",
        "# Print the shape and datatypes of the resulting DataFrame.\n",
        "\n",
        "print(f\"\\nShape: {df.shape}\\n\")\n",
        "print(f\"Datatype: {df.dtypes}\")"
      ],
      "metadata": {
        "colab": {
          "base_uri": "https://localhost:8080/"
        },
        "id": "jkxjBhLeXeZP",
        "outputId": "3906d1bd-5ec6-4ed0-94d3-c868f9a03165"
      },
      "execution_count": 393,
      "outputs": [
        {
          "output_type": "stream",
          "name": "stdout",
          "text": [
            "        CustomerName          City  Amount\n",
            "OrderID                                   \n",
            "1003         Matthew      New York  231.19\n",
            "1004           Brian      San Jose  440.13\n",
            "1005       Cassandra       Chicago  712.08\n",
            "1006         Jessica      San Jose  353.25\n",
            "1007           Ricky   Los Angeles  703.35\n",
            "1008            Jill   Los Angeles  292.40\n",
            "1009         Melinda     San Diego  436.27\n",
            "1010            Juan   Los Angeles  802.53\n",
            "1011           Amber  Philadelphia  206.32\n",
            "1012          Ashley  Philadelphia  608.94\n",
            "\n",
            "Shape: (48, 3)\n",
            "\n",
            "Datatype: CustomerName     object\n",
            "City             object\n",
            "Amount          float64\n",
            "dtype: object\n"
          ]
        }
      ]
    },
    {
      "cell_type": "code",
      "source": [
        "\n",
        "df = pd.DataFrame({\n",
        "    'Name': ['Alice', 'Bob', 'Charlie'],\n",
        "    'Age': [25, 30, 35],\n",
        "    'City': ['New York', 'Los Angeles', 'Chicago']\n",
        "})\n",
        "\n",
        "print(df)\n",
        "\n",
        "df = df.drop('Name', axis=1)\n",
        "\n",
        "df.to_csv('updated.csv', index=False)\n",
        "\n",
        "x = pd.read_csv('updated.csv')\n",
        "\n",
        "print('\\n')\n",
        "print(x)"
      ],
      "metadata": {
        "colab": {
          "base_uri": "https://localhost:8080/"
        },
        "id": "-qAmPXtEbXX_",
        "outputId": "592b4533-fc9f-4ec7-af41-2fdb3b3a2fd0"
      },
      "execution_count": 430,
      "outputs": [
        {
          "output_type": "stream",
          "name": "stdout",
          "text": [
            "      Name  Age         City\n",
            "0    Alice   25     New York\n",
            "1      Bob   30  Los Angeles\n",
            "2  Charlie   35      Chicago\n",
            "\n",
            "\n",
            "   Age         City\n",
            "0   25     New York\n",
            "1   30  Los Angeles\n",
            "2   35      Chicago\n"
          ]
        }
      ]
    },
    {
      "cell_type": "code",
      "source": [
        "# 🔸 Q2. Excel Import Challenge\n",
        "# You have an Excel file sales_data.xlsx containing multiple sheets: January, February, March.\n",
        "\n",
        "# Task:\n",
        "\n",
        "# Read only the February sheet.\n",
        "\n",
        "df = pd.read_excel('sales_data.xlsx', sheet_name = 'February')\n",
        "\n",
        "\n",
        "# Extract the rows where Region == 'East'.\n",
        "\n",
        "newDF = df[df['Region'] == 'East']\n",
        "\n",
        "print(newDF.head())\n",
        "\n",
        "# Save this filtered data to a new sheet in filtered_sales.xlsx called East_February.\n",
        "\n",
        "newExcel = newDF.to_excel('filtered_sales.xlsx', sheet_name = 'East_February', index=False)\n",
        "\n",
        "# seeFile = pd.read_excel('filtered_sales.xlsx', sheet_name = 'East_February')\n",
        "\n",
        "# print(seeFile.head())"
      ],
      "metadata": {
        "colab": {
          "base_uri": "https://localhost:8080/"
        },
        "id": "_RFKpn2Hc0gv",
        "outputId": "ec7891d7-2581-48f8-b087-218683bf17e1"
      },
      "execution_count": 395,
      "outputs": [
        {
          "output_type": "stream",
          "name": "stdout",
          "text": [
            "        Date Region  Product  Sales\n",
            "2 2023-02-03   East    Phone    990\n",
            "5 2023-02-06   East   Tablet    249\n",
            "8 2023-02-09   East  Monitor    138\n"
          ]
        }
      ]
    },
    {
      "cell_type": "code",
      "source": [
        "newExcel = df.to_excel('salesCheck.xlsx', index=False)\n",
        "\n",
        "load = pd.read_excel('salesCheck.xlsx')\n",
        "\n",
        "print(load.equals(df))\n"
      ],
      "metadata": {
        "colab": {
          "base_uri": "https://localhost:8080/"
        },
        "id": "ncTbmrdVmKXx",
        "outputId": "1b90f8bf-e6f5-4444-d699-b84cce6ad3b8"
      },
      "execution_count": 396,
      "outputs": [
        {
          "output_type": "stream",
          "name": "stdout",
          "text": [
            "True\n"
          ]
        }
      ]
    },
    {
      "cell_type": "code",
      "source": [
        "# 🔸 Q8. Selective Column Import + Rename\n",
        "# You are given a file data.csv with 20 columns.\n",
        "\n",
        "# Task:\n",
        "\n",
        "# Load only columns 0, 2, 5, 7 by index number.\n",
        "\n",
        "df = pd.read_csv('data.csv', usecols = [0, 2, 5, 7])\n",
        "\n",
        "# Rename these columns to: Customer, Region, Sales, Discount.\n",
        "\n",
        "df = df.rename(columns = {'Column_0':'Customer', 'Column_2':'Region', 'Column_5':'Sales', 'Column_7':'Discount'})\n",
        "\n",
        "print(df.head())\n",
        "\n",
        "# Save this trimmed and renamed dataset to cleaned_data.csv.\n",
        "\n",
        "df.to_csv('cleaned_data.csv', index=False)\n"
      ],
      "metadata": {
        "colab": {
          "base_uri": "https://localhost:8080/"
        },
        "id": "AY890MH9mz-7",
        "outputId": "e958373e-65c3-4150-d2d6-d75c247f77ab"
      },
      "execution_count": 397,
      "outputs": [
        {
          "output_type": "stream",
          "name": "stdout",
          "text": [
            "  Customer Region   Sales  Discount\n",
            "0    Aaron   East  596.64      0.12\n",
            "1    Debra   West  376.93      0.25\n",
            "2     Eric  South  260.26      0.43\n",
            "3   Shelby   East  943.67      0.35\n",
            "4   Rachel  South  442.79      0.39\n"
          ]
        }
      ]
    },
    {
      "cell_type": "markdown",
      "source": [
        " Data Exploration & Basic Operations in Pandas"
      ],
      "metadata": {
        "id": "xi6KZ5M8psVO"
      }
    },
    {
      "cell_type": "code",
      "source": [
        "# Load products-100.csv and print:\n",
        "\n",
        "df = pd.read_csv('products-100.csv')\n",
        "\n",
        "\n",
        "# Number of rows and columns\n",
        "\n",
        "print(f\"Rows: {df.index}\")\n",
        "print(f\"Columns: {df.columns}\")\n",
        "\n",
        "\n",
        "# First 7 rows\n",
        "\n",
        "print(df.head(7))\n",
        "\n",
        "\n",
        "# List of all column names\n",
        "\n",
        "print(f\"\\nColumns: {list(df.columns)}\")\n",
        "\n",
        "\n",
        "# Print:\n",
        "\n",
        "# Data types of each column\n",
        "\n",
        "print(\"\\n\", df.dtypes)\n",
        "\n",
        "\n",
        "# Number of non-null entries\n",
        "\n",
        "print(df.info())\n",
        "\n",
        "\n",
        "# Summary statistics of numeric columns\n",
        "\n",
        "print(df.describe())\n"
      ],
      "metadata": {
        "colab": {
          "base_uri": "https://localhost:8080/"
        },
        "id": "SJzz1APFpuui",
        "outputId": "ad29a5a1-c5b5-4b8f-ab41-91c6fd33dc4b"
      },
      "execution_count": 398,
      "outputs": [
        {
          "output_type": "stream",
          "name": "stdout",
          "text": [
            "Rows: RangeIndex(start=0, stop=100, step=1)\n",
            "Columns: Index(['Index', 'Name', 'Description', 'Brand', 'Category', 'Price',\n",
            "       'Currency', 'Stock', 'EAN', 'Color', 'Size', 'Availability',\n",
            "       'Internal ID'],\n",
            "      dtype='object')\n",
            "   Index                                            Name  \\\n",
            "0      1            Compact Printer Air Advanced Digital   \n",
            "1      2                                          Tablet   \n",
            "2      3                            Smart Blender Cooker   \n",
            "3      4                    Advanced Router Rechargeable   \n",
            "4      5                    Portable Mouse Monitor Phone   \n",
            "5      6                                           Radio   \n",
            "6      7  Ultra Projector Oven Thermostat Prime Advanced   \n",
            "\n",
            "                                         Description  \\\n",
            "0      Situation organization these memory much off.   \n",
            "1        Discussion loss politics free one thousand.   \n",
            "2                                  No situation per.   \n",
            "3                    For force gas energy six laugh.   \n",
            "4  Feeling back religious however author room sci...   \n",
            "5   Character prove growth contain serious customer.   \n",
            "6  Pattern possible look necessary indicate work ...   \n",
            "\n",
            "                          Brand             Category  Price Currency  Stock  \\\n",
            "0       Garner, Boyle and Flynn   Books & Stationery    265      USD    774   \n",
            "1                   Mueller Inc     Shoes & Footwear    502      USD     81   \n",
            "2    Lawson, Keller and Winters   Kitchen Appliances    227      USD    726   \n",
            "3            Gallagher and Sons   Kitchen Appliances    121      USD    896   \n",
            "4                     Irwin LLC       Kids' Clothing      1      USD    925   \n",
            "5  Benjamin, Nelson and Hancock             Skincare    426      USD    549   \n",
            "6        Mccoy, Waters and Rose  Laptops & Computers     68      USD    870   \n",
            "\n",
            "             EAN           Color        Size  Availability  Internal ID  \n",
            "0  2091465262179     ForestGreen       Large     pre_order           56  \n",
            "1  5286196620740           Black     8x10 in      in_stock           29  \n",
            "2  1282898648918       SlateGray          XS      in_stock           70  \n",
            "3  3879177514583       PaleGreen           L  discontinued           31  \n",
            "4  9055773261265        SeaShell  100x200 mm  discontinued           10  \n",
            "5  1150028980156  CornflowerBlue    30x40 cm     pre_order           60  \n",
            "6  5029747624534          Purple           S  discontinued           86  \n",
            "\n",
            "Columns: ['Index', 'Name', 'Description', 'Brand', 'Category', 'Price', 'Currency', 'Stock', 'EAN', 'Color', 'Size', 'Availability', 'Internal ID']\n",
            "\n",
            " Index            int64\n",
            "Name            object\n",
            "Description     object\n",
            "Brand           object\n",
            "Category        object\n",
            "Price            int64\n",
            "Currency        object\n",
            "Stock            int64\n",
            "EAN              int64\n",
            "Color           object\n",
            "Size            object\n",
            "Availability    object\n",
            "Internal ID      int64\n",
            "dtype: object\n",
            "<class 'pandas.core.frame.DataFrame'>\n",
            "RangeIndex: 100 entries, 0 to 99\n",
            "Data columns (total 13 columns):\n",
            " #   Column        Non-Null Count  Dtype \n",
            "---  ------        --------------  ----- \n",
            " 0   Index         100 non-null    int64 \n",
            " 1   Name          100 non-null    object\n",
            " 2   Description   100 non-null    object\n",
            " 3   Brand         100 non-null    object\n",
            " 4   Category      100 non-null    object\n",
            " 5   Price         100 non-null    int64 \n",
            " 6   Currency      100 non-null    object\n",
            " 7   Stock         100 non-null    int64 \n",
            " 8   EAN           100 non-null    int64 \n",
            " 9   Color         100 non-null    object\n",
            " 10  Size          100 non-null    object\n",
            " 11  Availability  100 non-null    object\n",
            " 12  Internal ID   100 non-null    int64 \n",
            "dtypes: int64(5), object(8)\n",
            "memory usage: 10.3+ KB\n",
            "None\n",
            "            Index      Price       Stock           EAN  Internal ID\n",
            "count  100.000000  100.00000  100.000000  1.000000e+02   100.000000\n",
            "mean    50.500000  451.19000  545.710000  4.876267e+12    49.340000\n",
            "std     29.011492  281.60911  266.716863  2.918084e+12    28.078253\n",
            "min      1.000000    1.00000   10.000000  5.246382e+08     3.000000\n",
            "25%     25.750000  230.75000  347.500000  2.062323e+12    25.000000\n",
            "50%     50.500000  407.50000  575.500000  4.875720e+12    48.000000\n",
            "75%     75.250000  679.00000  749.250000  7.676943e+12    74.500000\n",
            "max    100.000000  999.00000  998.000000  9.921752e+12    99.000000\n"
          ]
        }
      ]
    },
    {
      "cell_type": "code",
      "source": [
        "# Load employee.csv\n",
        "\n",
        "df = pd.read_csv('employee.csv')\n",
        "\n",
        "# Find:\n",
        "\n",
        "# How many unique job titles exist?\n",
        "\n",
        "print(f\"Unique Job Titles: {df['Department'].nunique()}\")\n",
        "\n",
        "\n",
        "# Most common department?\n",
        "\n",
        "print(f\"Most Common Dept: {df['Department'].value_counts().idxmax()}\")\n",
        "\n",
        "\n",
        "# How many missing values in Salary?\n",
        "print(f\"Missing Values in Salary: {df['Salary'].isnull().sum()}\\n\")\n",
        "\n",
        "\n",
        "# Print all rows where Age is above the 75th percentile.\n",
        "\n",
        "percentile75 = df['Age'].quantile(0.75)\n",
        "\n",
        "print(df[df['Age'] > percentile75])\n",
        "\n",
        "# Top 3 highest earners.\n",
        "\n",
        "df = df.sort_values(by='Salary', ascending=False)\n",
        "\n",
        "print('\\n', df.head(3))\n"
      ],
      "metadata": {
        "colab": {
          "base_uri": "https://localhost:8080/"
        },
        "id": "e-6R72AGvMkt",
        "outputId": "e0c6320f-fcbb-4a25-e5a5-a19cd21ce27c"
      },
      "execution_count": 399,
      "outputs": [
        {
          "output_type": "stream",
          "name": "stdout",
          "text": [
            "Unique Job Titles: 3\n",
            "Most Common Dept: IT\n",
            "Missing Values in Salary: 1\n",
            "\n",
            "   EmpID   Name  Age   Salary  JobTitle Department\n",
            "3    104  Diana   40  80000.0  Director      Admin\n",
            "\n",
            "    EmpID   Name  Age   Salary  JobTitle Department\n",
            "3    104  Diana   40  80000.0  Director      Admin\n",
            "1    102    Bob   30  60000.0   Manager         HR\n",
            "4    105  Ethan   28  55000.0  Engineer         IT\n"
          ]
        }
      ]
    },
    {
      "cell_type": "code",
      "source": [
        "\n",
        "# Analyze a sales.csv file:\n",
        "\n",
        "df = pd.read_csv('sales.csv')\n",
        "\n",
        "# What are the top 3 regions by total sales amount?\n",
        "\n",
        "df.sort_values(by='Amount', ascending=False).head(3)\n",
        "\n",
        "# What's the mean, median, and standard deviation of the Amount column?\n",
        "\n",
        "print(f\"Mean: {df['Amount'].mean()}\")\n",
        "print(f\"Median: {df['Amount'].median()}\")\n",
        "print(f\"Std Dev: {df['Amount'].std()}\")\n",
        "\n",
        "# Find the record(s) with maximum amount spent.\n",
        "\n",
        "print(df.sort_values(by='Amount', ascending=False).head(1))"
      ],
      "metadata": {
        "colab": {
          "base_uri": "https://localhost:8080/"
        },
        "id": "jXU8F8mv0I1b",
        "outputId": "9b8c6c62-1ff1-44cc-8453-c49bbf23974c"
      },
      "execution_count": 400,
      "outputs": [
        {
          "output_type": "stream",
          "name": "stdout",
          "text": [
            "Mean: 390.0\n",
            "Median: 450.0\n",
            "Std Dev: 108.39741694339399\n",
            "  InvoiceID Region  Amount Customer\n",
            "3      A004   West     500     Sara\n"
          ]
        }
      ]
    },
    {
      "cell_type": "markdown",
      "source": [
        "PD Basic Operations Task"
      ],
      "metadata": {
        "id": "Up7TSqxx39ts"
      }
    },
    {
      "cell_type": "code",
      "source": [
        "# Step 1: Load the Data\n",
        "\n",
        "# Load employee_data.csv using Pandas\n",
        "\n",
        "empData = pd.read_csv('employee_data.csv')\n",
        "\n",
        "\n",
        "# Display the first 5 rows\n",
        "\n",
        "print(empData.head())\n",
        "\n",
        "\n",
        "# Check the number of rows and columns\n",
        "\n",
        "print(f\"\\nRows: {empData.index}\")\n",
        "print(f\"\\nColumns: {empData.columns}\")\n"
      ],
      "metadata": {
        "colab": {
          "base_uri": "https://localhost:8080/"
        },
        "id": "6qwRHgGi4BWU",
        "outputId": "aa2b348f-3a92-4a27-a0b7-5cebd4094c74"
      },
      "execution_count": 401,
      "outputs": [
        {
          "output_type": "stream",
          "name": "stdout",
          "text": [
            "   EmpID     Name   Age Gender Department   Salary    JoinDate       Location\n",
            "0    101    Alice  25.0      F      Sales  55000.0  2019-04-01       New York\n",
            "1    102      Bob  38.0      M         IT  75000.0  2017-08-15  San Francisco\n",
            "2    103  Charlie   NaN      M         HR      NaN  2020-01-01        Chicago\n",
            "3    104    David  29.0      M  Marketing  48000.0  2018-05-10    Los Angeles\n",
            "4    105      Eva  45.0      F         IT  82000.0  2015-09-01  San Francisco\n",
            "\n",
            "Rows: RangeIndex(start=0, stop=7, step=1)\n",
            "\n",
            "Columns: Index(['EmpID', 'Name', 'Age', 'Gender', 'Department', 'Salary', 'JoinDate',\n",
            "       'Location'],\n",
            "      dtype='object')\n"
          ]
        }
      ]
    },
    {
      "cell_type": "code",
      "source": [
        "# Step 2: Understand the Structure\n",
        "\n",
        "# Print:\n",
        "# Column names\n",
        "\n",
        "print(f\"Column Names: {list(empData.columns)}\")\n",
        "\n",
        "\n",
        "# Index Type\n",
        "\n",
        "print(f\"\\nIndex Type: {empData.index}\")\n",
        "\n",
        "\n",
        "# Data types of all columns\n",
        "\n",
        "print('\\nColumn Datatypes')\n",
        "print(empData.dtypes)\n",
        "\n",
        "\n",
        "# Memory usage\n",
        "\n",
        "print(f\"\\nMemory Usage:\\n{empData.memory_usage()}\")\n"
      ],
      "metadata": {
        "colab": {
          "base_uri": "https://localhost:8080/"
        },
        "id": "OPAL7pDJ4XHT",
        "outputId": "104de63f-539f-42c6-e9c5-373bba403b5e"
      },
      "execution_count": 402,
      "outputs": [
        {
          "output_type": "stream",
          "name": "stdout",
          "text": [
            "Column Names: ['EmpID', 'Name', 'Age', 'Gender', 'Department', 'Salary', 'JoinDate', 'Location']\n",
            "\n",
            "Index Type: RangeIndex(start=0, stop=7, step=1)\n",
            "\n",
            "Column Datatypes\n",
            "EmpID           int64\n",
            "Name           object\n",
            "Age           float64\n",
            "Gender         object\n",
            "Department     object\n",
            "Salary        float64\n",
            "JoinDate       object\n",
            "Location       object\n",
            "dtype: object\n",
            "\n",
            "Memory Usage:\n",
            "Index         132\n",
            "EmpID          56\n",
            "Name           56\n",
            "Age            56\n",
            "Gender         56\n",
            "Department     56\n",
            "Salary         56\n",
            "JoinDate       56\n",
            "Location       56\n",
            "dtype: int64\n"
          ]
        }
      ]
    },
    {
      "cell_type": "code",
      "source": [
        "# Step 3: Descriptive Statistics\n",
        "\n",
        "# Use .describe() to show summary stats for numeric columns.\n",
        "\n",
        "print(\"Summary Statistics (Numerical Columns)\")\n",
        "print(empData.describe())\n",
        "\n",
        "\n",
        "# Also describe categorical columns.\n",
        "\n",
        "print(\"\\nSummary Statistics (Categorical Columns)\")\n",
        "print(empData.describe(include='object'))\n"
      ],
      "metadata": {
        "colab": {
          "base_uri": "https://localhost:8080/"
        },
        "id": "VIKs08Wh4fsB",
        "outputId": "1178af51-e0fa-4686-8876-8b7e0b19c933"
      },
      "execution_count": 403,
      "outputs": [
        {
          "output_type": "stream",
          "name": "stdout",
          "text": [
            "Summary Statistics (Numerical Columns)\n",
            "            EmpID        Age        Salary\n",
            "count    7.000000   5.000000      5.000000\n",
            "mean   104.000000  33.600000  64400.000000\n",
            "std      2.160247   7.924645  14010.710189\n",
            "min    101.000000  25.000000  48000.000000\n",
            "25%    102.500000  29.000000  55000.000000\n",
            "50%    104.000000  31.000000  62000.000000\n",
            "75%    105.500000  38.000000  75000.000000\n",
            "max    107.000000  45.000000  82000.000000\n",
            "\n",
            "Summary Statistics (Categorical Columns)\n",
            "         Name Gender Department    JoinDate  Location\n",
            "count       7      7          7           7         7\n",
            "unique      7      2          4           7         4\n",
            "top     Alice      M      Sales  2019-04-01  New York\n",
            "freq        1      4          2           1         2\n"
          ]
        }
      ]
    },
    {
      "cell_type": "code",
      "source": [
        "# Step 4: Missing & Null Values\n",
        "\n",
        "# Identify:\n",
        "\n",
        "# Which columns have missing data?\n",
        "\n",
        "print(f\"Missing Value Columns: {list(empData.columns[empData.isnull().sum() > 0])}\\n\")\n",
        "\n",
        "\n",
        "# How many missing values in each?\n",
        "\n",
        "print(empData.isnull().sum())\n",
        "\n",
        "\n",
        "# Show all rows where any column is null.\n",
        "\n",
        "print('\\nRows with Null:')\n",
        "print(empData[empData.isnull().any(axis=1)])\n"
      ],
      "metadata": {
        "colab": {
          "base_uri": "https://localhost:8080/"
        },
        "id": "VtpzaWWz4iAv",
        "outputId": "b5efef4e-4fe1-4aa9-a5af-a57f6db01452"
      },
      "execution_count": 404,
      "outputs": [
        {
          "output_type": "stream",
          "name": "stdout",
          "text": [
            "Missing Value Columns: ['Age', 'Salary']\n",
            "\n",
            "EmpID         0\n",
            "Name          0\n",
            "Age           2\n",
            "Gender        0\n",
            "Department    0\n",
            "Salary        2\n",
            "JoinDate      0\n",
            "Location      0\n",
            "dtype: int64\n",
            "\n",
            "Rows with Null:\n",
            "   EmpID     Name  Age Gender Department  Salary    JoinDate Location\n",
            "2    103  Charlie  NaN      M         HR     NaN  2020-01-01  Chicago\n",
            "6    107    Grace  NaN      F         HR     NaN  2019-03-15  Chicago\n"
          ]
        }
      ]
    },
    {
      "cell_type": "code",
      "source": [
        "# Step 5: Unique & Frequency Counts\n",
        "\n",
        "# How many unique departments are there?\n",
        "\n",
        "print(f\"Unique Departments: {empData['Department'].nunique()}\")\n",
        "\n",
        "\n",
        "# What are the most common locations and genders? highest freq of locs\n",
        "\n",
        "print(f\"\\nMost Common Location: {empData['Location'].value_counts().idxmax()}\")\n",
        "print(f\"Most Common Gender: {empData['Gender'].value_counts().idxmax()}\\n\")\n",
        "\n",
        "\n",
        "# How many employees have salary > 60,000?\n",
        "\n",
        "print(f\"Employees with Salary > 60,000: {len(empData[empData['Salary'] > 60000])}\")\n",
        "\n"
      ],
      "metadata": {
        "colab": {
          "base_uri": "https://localhost:8080/"
        },
        "id": "6EmRjset4kFX",
        "outputId": "2cd8c139-3990-4881-e1a5-22cc1f6a2a5a"
      },
      "execution_count": 405,
      "outputs": [
        {
          "output_type": "stream",
          "name": "stdout",
          "text": [
            "Unique Departments: 4\n",
            "\n",
            "Most Common Location: New York\n",
            "Most Common Gender: M\n",
            "\n",
            "Employees with Salary > 60,000: 3\n"
          ]
        }
      ]
    },
    {
      "cell_type": "code",
      "source": [
        "# Step 6: Filters & Insights\n",
        "\n",
        "# List employees older than 40.\n",
        "\n",
        "print(f\"Employees over 40: \\n{empData.loc[empData['Age']>40, ['Name', 'Age']]}\")\n",
        "\n",
        "\n",
        "# Find top 4 highest salaries.\n",
        "\n",
        "print('\\nHighest Salaries: ')\n",
        "print(empData.sort_values(by='Salary', ascending=False).head(4)[['Name', 'Salary']])\n",
        "\n",
        "\n",
        "# List employees who joined before 2018.\n",
        "\n",
        "print(\"\\nEmployees who joined before 2018:\")\n",
        "print(empData.loc[pd.to_datetime(empData['JoinDate']) < pd.to_datetime('2018-01-01'), ['Name', 'JoinDate']])\n",
        "\n",
        "\n",
        "# List all employees in the \"Sales\" department earning over 60,000.\n",
        "\n",
        "print('Employees in Sales & earning over 60,000:')\n",
        "cond1 = (empData['Department'] == 'Sales')\n",
        "cond2 = empData['Salary'] > 60000\n",
        "\n",
        "print(empData[(cond1 & cond2)])\n"
      ],
      "metadata": {
        "colab": {
          "base_uri": "https://localhost:8080/"
        },
        "id": "AWXX2nua4nEm",
        "outputId": "cb930b08-5e60-4dd6-b4b6-4663404bd6e1"
      },
      "execution_count": 406,
      "outputs": [
        {
          "output_type": "stream",
          "name": "stdout",
          "text": [
            "Employees over 40: \n",
            "  Name   Age\n",
            "4  Eva  45.0\n",
            "\n",
            "Highest Salaries: \n",
            "    Name   Salary\n",
            "4    Eva  82000.0\n",
            "1    Bob  75000.0\n",
            "5  Frank  62000.0\n",
            "0  Alice  55000.0\n",
            "\n",
            "Employees who joined before 2018:\n",
            "    Name    JoinDate\n",
            "1    Bob  2017-08-15\n",
            "4    Eva  2015-09-01\n",
            "5  Frank  2016-11-23\n",
            "Employees in Sales & earning over 60,000:\n",
            "   EmpID   Name   Age Gender Department   Salary    JoinDate  Location\n",
            "5    106  Frank  31.0      M      Sales  62000.0  2016-11-23  New York\n"
          ]
        }
      ]
    },
    {
      "cell_type": "code",
      "source": [
        "# Step 7: Data Summary Report\n",
        "\n",
        "# Create a printed summary that includes:\n",
        "\n",
        "# Number of employees\n",
        "\n",
        "print(f\"Number of Employees: {len(empData)}\\n\")\n",
        "\n",
        "\n",
        "# Number of departments\n",
        "\n",
        "print(f\"Number of Departments: {empData['Department'].nunique()}\\n\")\n",
        "\n",
        "\n",
        "# Number of missing values\n",
        "\n",
        "print(f\"Number of Missing Values: {empData.isnull().sum().sum()}\\n\")\n",
        "\n",
        "\n",
        "# Average and median salary\n",
        "\n",
        "print(f\"Average Salary: {empData['Salary'].mean()}\\n\")\n",
        "print(f\"Median Salary: {empData['Salary'].median()}\\n\")\n",
        "\n",
        "\n",
        "# Highest-paid employee name and salary\n",
        "\n",
        "print(f\"Highest Paid Employee: \\n{empData.sort_values(by='Salary', ascending=False).head(1)[['Name', 'Salary']]}\")\n"
      ],
      "metadata": {
        "colab": {
          "base_uri": "https://localhost:8080/"
        },
        "id": "EURZtHZa4sqB",
        "outputId": "5a252bca-41ae-4bbe-9467-dab30b3e89b8"
      },
      "execution_count": 407,
      "outputs": [
        {
          "output_type": "stream",
          "name": "stdout",
          "text": [
            "Number of Employees: 7\n",
            "\n",
            "Number of Departments: 4\n",
            "\n",
            "Number of Missing Values: 4\n",
            "\n",
            "Average Salary: 64400.0\n",
            "\n",
            "Median Salary: 62000.0\n",
            "\n",
            "Highest Paid Employee: \n",
            "  Name   Salary\n",
            "4  Eva  82000.0\n"
          ]
        }
      ]
    },
    {
      "cell_type": "markdown",
      "source": [
        "Data Cleaning"
      ],
      "metadata": {
        "id": "fVu5xssEZZqG"
      }
    },
    {
      "cell_type": "code",
      "source": [
        "# Load the CSV and:\n",
        "\n",
        "eData = pd.read_csv('messy_employee_data.csv')\n",
        "print(eData)\n",
        "\n",
        "# Count missing values in each column.\n",
        "\n",
        "print(f\"\\nMissing Values:\\n {eData.isnull().sum()}\\n\")\n",
        "\n",
        "# Drop all rows with missing Age.\n",
        "\n",
        "eData = eData.dropna(subset='Age')\n",
        "\n",
        "# Replace missing Salary with average salary.\n",
        "\n",
        "eData['Salary'] = eData['Salary'].fillna(eData['Salary'].mean())\n",
        "\n"
      ],
      "metadata": {
        "colab": {
          "base_uri": "https://localhost:8080/"
        },
        "id": "3BXOFiwxZcU0",
        "outputId": "2dabec19-91e8-43e2-ae5a-97b4191e3161"
      },
      "execution_count": 432,
      "outputs": [
        {
          "output_type": "stream",
          "name": "stdout",
          "text": [
            "    EmpID     Name    Age Gender Department   Salary    JoinDate  \\\n",
            "0      101    Alice  25.0      F      Sales  55000.0  2019-04-01   \n",
            "1      102      Bob  38.0      M         it      NaN  2017-08-15   \n",
            "2      103  Charlie   NaN      M         HR  75000.0  2020-01-01   \n",
            "3      104    David  29.0      M  Marketing  48000.0  2018-05-10   \n",
            "4      105      Eva  45.0      F         IT  82000.0  2015-09-01   \n",
            "5      106    Frank  31.0      M     sales   62000.0  2016-11-23   \n",
            "6      107    Grace   NaN      F         HR      NaN  2019-03-15   \n",
            "7      105      Eva  45.0      F         IT  82000.0  2015-09-01   \n",
            "\n",
            "        Location  \n",
            "0       New York  \n",
            "1  San Francisco  \n",
            "2        Chicago  \n",
            "3    Los Angeles  \n",
            "4  San Francisco  \n",
            "5       New York  \n",
            "6        Chicago  \n",
            "7  San Francisco  \n",
            "\n",
            "Missing Values:\n",
            "  EmpID        0\n",
            " Name         0\n",
            "Age           2\n",
            "Gender        0\n",
            "Department    0\n",
            "Salary        2\n",
            "JoinDate      0\n",
            "Location      0\n",
            "dtype: int64\n",
            "\n",
            "2\n"
          ]
        }
      ]
    },
    {
      "cell_type": "code",
      "source": [
        "# Convert the JoinDate column to datetime type.\n",
        "eData['JoinDate'] = pd.to_datetime(eData['JoinDate'])\n",
        "\n",
        "# Find and remove all duplicate rows.\n",
        "\n",
        "print(\"Duplicate rows after dropping rows with missing age:\")\n",
        "print(eData.duplicated())\n",
        "\n",
        "print(\"\\nDataFrame after dropping duplicate rows:\")\n",
        "eData.drop_duplicates(inplace=True)\n",
        "print(eData)\n",
        "\n",
        "# Standardize Department values (e.g., convert all to title case).\n",
        "\n",
        "eData['Department'] = eData['Department'].str.strip().str.title().replace('It', 'IT')\n",
        "\n",
        "print(f\"\\nDataFrame after standardizing 'Department' values: \\n{eData}\")"
      ],
      "metadata": {
        "colab": {
          "base_uri": "https://localhost:8080/"
        },
        "id": "af17JwQMb2ww",
        "outputId": "3a6141fc-1140-41eb-d924-b7b023cd8bfa"
      },
      "execution_count": 409,
      "outputs": [
        {
          "output_type": "stream",
          "name": "stdout",
          "text": [
            "Duplicate rows after dropping rows with missing age:\n",
            "0    False\n",
            "1    False\n",
            "3    False\n",
            "4    False\n",
            "5    False\n",
            "7     True\n",
            "dtype: bool\n",
            "\n",
            "DataFrame after dropping duplicate rows:\n",
            "    EmpID   Name    Age Gender Department   Salary   JoinDate       Location\n",
            "0      101  Alice  25.0      F      Sales  55000.0 2019-04-01       New York\n",
            "1      102    Bob  38.0      M         it  65800.0 2017-08-15  San Francisco\n",
            "3      104  David  29.0      M  Marketing  48000.0 2018-05-10    Los Angeles\n",
            "4      105    Eva  45.0      F         IT  82000.0 2015-09-01  San Francisco\n",
            "5      106  Frank  31.0      M     sales   62000.0 2016-11-23       New York\n",
            "\n",
            "DataFrame after standardizing 'Department' values: \n",
            "    EmpID   Name    Age Gender Department   Salary   JoinDate       Location\n",
            "0      101  Alice  25.0      F      Sales  55000.0 2019-04-01       New York\n",
            "1      102    Bob  38.0      M         IT  65800.0 2017-08-15  San Francisco\n",
            "3      104  David  29.0      M  Marketing  48000.0 2018-05-10    Los Angeles\n",
            "4      105    Eva  45.0      F         IT  82000.0 2015-09-01  San Francisco\n",
            "5      106  Frank  31.0      M      Sales  62000.0 2016-11-23       New York\n"
          ]
        }
      ]
    },
    {
      "cell_type": "code",
      "source": [
        "# Strip whitespace from column names.\n",
        "\n",
        "eData.columns = eData.columns.str.strip()\n",
        "\n",
        "# Rename all columns to lowercase.\n",
        "\n",
        "eData.columns = eData.columns.str.lower()\n",
        "\n",
        "print(f\"After whitespace removal and lower case conversion: \\n{eData.columns}\")\n",
        "\n",
        "# Export as a clean csv\n",
        "\n",
        "eData.to_csv('cleaned_employee_data.csv', index=False)"
      ],
      "metadata": {
        "colab": {
          "base_uri": "https://localhost:8080/"
        },
        "id": "kG80dCObb3kt",
        "outputId": "93ad9641-a2b1-4413-930b-7a7efe162dfd"
      },
      "execution_count": 410,
      "outputs": [
        {
          "output_type": "stream",
          "name": "stdout",
          "text": [
            "After whitespace removal and lower case conversion: \n",
            "Index(['empid', 'name', 'age', 'gender', 'department', 'salary', 'joindate',\n",
            "       'location'],\n",
            "      dtype='object')\n"
          ]
        }
      ]
    },
    {
      "cell_type": "markdown",
      "source": [
        "Data Selection and Filtering"
      ],
      "metadata": {
        "id": "O9SmyDrJr6U2"
      }
    },
    {
      "cell_type": "code",
      "source": [
        "# Load csv file\n",
        "\n",
        "dfEmp = pd.read_csv('cleaned_employee_data.csv')\n",
        "\n",
        "# Select only the Name and Department columns.\n",
        "\n",
        "print(dfEmp[['name', 'department']])\n",
        "\n",
        "# Get the first 3 rows using:\n",
        "\n",
        "   # Standard slicing\n",
        "\n",
        "print(f\"\\nFirst 3 Rows (Slicing): \\n{dfEmp[:3]}\")\n",
        "\n",
        "   # iloc\n",
        "\n",
        "print(f\"\\nFirst 3 Rows (iloc): \\n{dfEmp.iloc[:3]}\")\n"
      ],
      "metadata": {
        "colab": {
          "base_uri": "https://localhost:8080/"
        },
        "id": "Er5GPCSSr-7c",
        "outputId": "701151d2-1a67-47bc-aa00-168e20f83476"
      },
      "execution_count": 411,
      "outputs": [
        {
          "output_type": "stream",
          "name": "stdout",
          "text": [
            "    name department\n",
            "0  Alice      Sales\n",
            "1    Bob         IT\n",
            "2  David  Marketing\n",
            "3    Eva         IT\n",
            "4  Frank      Sales\n",
            "\n",
            "First 3 Rows (Slicing): \n",
            "   empid   name   age gender department   salary    joindate       location\n",
            "0    101  Alice  25.0      F      Sales  55000.0  2019-04-01       New York\n",
            "1    102    Bob  38.0      M         IT  65800.0  2017-08-15  San Francisco\n",
            "2    104  David  29.0      M  Marketing  48000.0  2018-05-10    Los Angeles\n",
            "\n",
            "First 3 Rows (iloc): \n",
            "   empid   name   age gender department   salary    joindate       location\n",
            "0    101  Alice  25.0      F      Sales  55000.0  2019-04-01       New York\n",
            "1    102    Bob  38.0      M         IT  65800.0  2017-08-15  San Francisco\n",
            "2    104  David  29.0      M  Marketing  48000.0  2018-05-10    Los Angeles\n"
          ]
        }
      ]
    },
    {
      "cell_type": "code",
      "source": [
        "# Get all employees who:\n",
        "\n",
        "# Work in the IT department\n",
        "\n",
        "print(f\"Employees working in IT Dept: \\n{dfEmp[dfEmp['department'] == 'IT']['name']}\")\n",
        "\n",
        "# Earn more than 70,000\n",
        "\n",
        "print(f\"\\nEmployees earning more than 70,000: \\n{dfEmp[dfEmp['salary'] > 70000][['name', 'salary']]}\")\n",
        "\n",
        "# Get names and salaries of employees who joined after 2018.\n",
        "\n",
        "print(f\"\\nEmployees who joined after 2018: \\n{dfEmp.loc[pd.to_datetime(dfEmp['joindate']) > pd.to_datetime('2018-12-31'), ['name', 'joindate']]}\")\n",
        "\n",
        "# Return rows where Age is either 25, 29, or 31 using isin().\n",
        "\n",
        "print(f\"\\nAge either 25, 29 or 31: \\n{dfEmp[dfEmp['age'].isin([25, 29, 31])]}\")"
      ],
      "metadata": {
        "id": "mHBNLM5PsEQs",
        "colab": {
          "base_uri": "https://localhost:8080/"
        },
        "outputId": "a12d599e-4f70-443a-e210-ebab19124df6"
      },
      "execution_count": 412,
      "outputs": [
        {
          "output_type": "stream",
          "name": "stdout",
          "text": [
            "Employees working in IT Dept: \n",
            "1    Bob\n",
            "3    Eva\n",
            "Name: name, dtype: object\n",
            "\n",
            "Employees earning more than 70,000: \n",
            "  name   salary\n",
            "3  Eva  82000.0\n",
            "\n",
            "Employees who joined after 2018: \n",
            "    name    joindate\n",
            "0  Alice  2019-04-01\n",
            "\n",
            "Age either 25, 29 or 31: \n",
            "   empid   name   age gender department   salary    joindate     location\n",
            "0    101  Alice  25.0      F      Sales  55000.0  2019-04-01     New York\n",
            "2    104  David  29.0      M  Marketing  48000.0  2018-05-10  Los Angeles\n",
            "4    106  Frank  31.0      M      Sales  62000.0  2016-11-23     New York\n"
          ]
        }
      ]
    },
    {
      "cell_type": "code",
      "source": [
        "# Using .loc, extract:\n",
        "\n",
        "# Rows 1 to 3 and only Name, Salary, JoinDate columns\n",
        "\n",
        "print(\"Rows 1 to 3 and only Name, Salary, JoinDate columns\")\n",
        "print(dfEmp.loc[1:3][['name', 'salary', 'joindate']])\n",
        "\n",
        "# Using .iloc, extract the last 3 rows of the DataFrame.\n",
        "\n",
        "print(\"\\nLast 3 rows of the DataFrame\")\n",
        "print(dfEmp.iloc[-3::])\n",
        "\n",
        "# Filter all employees not in Sales or Marketing departments.\n",
        "\n",
        "print(\"\\nAll employees not in Sales or Marketing departments.\")\n",
        "print(dfEmp[~dfEmp['department'].isin(['Sales', 'Marketing'])])\n",
        "\n",
        "# Using .query(), extract employees:\n",
        "# From New York who earn more than 60k\n",
        "\n",
        "print(\"\\nEmployees from New York who earn more than 60k\")\n",
        "print(dfEmp.query('location == \"New York\" and salary > 60000'))\n"
      ],
      "metadata": {
        "id": "-EgPMpNEsJ7v",
        "colab": {
          "base_uri": "https://localhost:8080/"
        },
        "outputId": "593b1b30-7dc8-4f4e-fcb1-9d30b2e2377a"
      },
      "execution_count": 413,
      "outputs": [
        {
          "output_type": "stream",
          "name": "stdout",
          "text": [
            "Rows 1 to 3 and only Name, Salary, JoinDate columns\n",
            "    name   salary    joindate\n",
            "1    Bob  65800.0  2017-08-15\n",
            "2  David  48000.0  2018-05-10\n",
            "3    Eva  82000.0  2015-09-01\n",
            "\n",
            "Last 3 rows of the DataFrame\n",
            "   empid   name   age gender department   salary    joindate       location\n",
            "2    104  David  29.0      M  Marketing  48000.0  2018-05-10    Los Angeles\n",
            "3    105    Eva  45.0      F         IT  82000.0  2015-09-01  San Francisco\n",
            "4    106  Frank  31.0      M      Sales  62000.0  2016-11-23       New York\n",
            "\n",
            "All employees not in Sales or Marketing departments.\n",
            "   empid name   age gender department   salary    joindate       location\n",
            "1    102  Bob  38.0      M         IT  65800.0  2017-08-15  San Francisco\n",
            "3    105  Eva  45.0      F         IT  82000.0  2015-09-01  San Francisco\n",
            "\n",
            "Employees from New York who earn more than 60k\n",
            "   empid   name   age gender department   salary    joindate  location\n",
            "4    106  Frank  31.0      M      Sales  62000.0  2016-11-23  New York\n"
          ]
        }
      ]
    },
    {
      "cell_type": "markdown",
      "source": [
        "Data Manipulation (Sorting and Indexing)"
      ],
      "metadata": {
        "id": "NJLXo99R76tC"
      }
    },
    {
      "cell_type": "code",
      "source": [
        "# Load CSV File\n",
        "\n",
        "dfEmp = pd.read_csv('cleaned_employee_data.csv')\n",
        "\n",
        "# Sort by Salary in descending order.\n",
        "\n",
        "print(\"\\nSorting by Salary in Descending Order\")\n",
        "print(dfEmp.sort_values(by='salary', ascending=False))\n"
      ],
      "metadata": {
        "colab": {
          "base_uri": "https://localhost:8080/"
        },
        "id": "awnXYvbK8DRC",
        "outputId": "2ece76d2-73c0-4e98-f30f-2509af57283f"
      },
      "execution_count": 414,
      "outputs": [
        {
          "output_type": "stream",
          "name": "stdout",
          "text": [
            "\n",
            "Sorting by Salary in Descending Order\n",
            "   empid   name   age gender department   salary    joindate       location\n",
            "3    105    Eva  45.0      F         IT  82000.0  2015-09-01  San Francisco\n",
            "1    102    Bob  38.0      M         IT  65800.0  2017-08-15  San Francisco\n",
            "4    106  Frank  31.0      M      Sales  62000.0  2016-11-23       New York\n",
            "0    101  Alice  25.0      F      Sales  55000.0  2019-04-01       New York\n",
            "2    104  David  29.0      M  Marketing  48000.0  2018-05-10    Los Angeles\n"
          ]
        }
      ]
    },
    {
      "cell_type": "code",
      "source": [
        "# Sort by Department and then by Salary (highest to lowest within each department).\n",
        "\n",
        "print(\"Sorting by Department, then Salary:\")\n",
        "print(dfEmp.sort_values(by=['department', 'salary'], ascending=[True, False]))\n",
        "\n",
        "# Set EmpID as the index and access the row with EmpID 105.\n",
        "\n",
        "dfEmp.set_index('empid', inplace=True)\n",
        "print(\"\\nAccessing row with EmpID 105:\")\n",
        "print(dfEmp.loc[105])\n",
        "\n",
        "# Reset the index back to default.\n",
        "\n",
        "dfEmp.reset_index(inplace=True)"
      ],
      "metadata": {
        "colab": {
          "base_uri": "https://localhost:8080/"
        },
        "id": "hqN9DKHu8TGP",
        "outputId": "89fbe5a6-a30e-4e4f-80fe-f41389f8854d"
      },
      "execution_count": 415,
      "outputs": [
        {
          "output_type": "stream",
          "name": "stdout",
          "text": [
            "Sorting by Department, then Salary:\n",
            "   empid   name   age gender department   salary    joindate       location\n",
            "3    105    Eva  45.0      F         IT  82000.0  2015-09-01  San Francisco\n",
            "1    102    Bob  38.0      M         IT  65800.0  2017-08-15  San Francisco\n",
            "2    104  David  29.0      M  Marketing  48000.0  2018-05-10    Los Angeles\n",
            "4    106  Frank  31.0      M      Sales  62000.0  2016-11-23       New York\n",
            "0    101  Alice  25.0      F      Sales  55000.0  2019-04-01       New York\n",
            "\n",
            "Accessing row with EmpID 105:\n",
            "name                    Eva\n",
            "age                    45.0\n",
            "gender                    F\n",
            "department               IT\n",
            "salary              82000.0\n",
            "joindate         2015-09-01\n",
            "location      San Francisco\n",
            "Name: 105, dtype: object\n"
          ]
        }
      ]
    },
    {
      "cell_type": "code",
      "source": [
        "# Create a multi-index using both Department and Location, then:\n",
        "# Access all employees in the IT department in San Francisco.\n",
        "\n",
        "dfEmp.set_index(['department', 'location'], inplace=True)\n",
        "print(\"All employees in the IT department in San Francisco\")\n",
        "print(dfEmp.loc[('IT', 'San Francisco')])\n",
        "\n",
        "# After setting a custom index, sort the DataFrame based on the index values.\n",
        "\n",
        "print(\"\\nSorting based on Index:\")\n",
        "print(dfEmp.sort_index())\n"
      ],
      "metadata": {
        "colab": {
          "base_uri": "https://localhost:8080/"
        },
        "id": "rtmDrhTU8VRY",
        "outputId": "a8c73a94-b18a-4c3f-aced-efd1281d700b"
      },
      "execution_count": 416,
      "outputs": [
        {
          "output_type": "stream",
          "name": "stdout",
          "text": [
            "All employees in the IT department in San Francisco\n",
            "                          empid name   age gender   salary    joindate\n",
            "department location                                                   \n",
            "IT         San Francisco    102  Bob  38.0      M  65800.0  2017-08-15\n",
            "           San Francisco    105  Eva  45.0      F  82000.0  2015-09-01\n",
            "\n",
            "Sorting based on Index:\n",
            "                          empid   name   age gender   salary    joindate\n",
            "department location                                                     \n",
            "IT         San Francisco    102    Bob  38.0      M  65800.0  2017-08-15\n",
            "           San Francisco    105    Eva  45.0      F  82000.0  2015-09-01\n",
            "Marketing  Los Angeles      104  David  29.0      M  48000.0  2018-05-10\n",
            "Sales      New York         101  Alice  25.0      F  55000.0  2019-04-01\n",
            "           New York         106  Frank  31.0      M  62000.0  2016-11-23\n"
          ]
        },
        {
          "output_type": "stream",
          "name": "stderr",
          "text": [
            "/tmp/ipython-input-416-1400936379.py:6: PerformanceWarning: indexing past lexsort depth may impact performance.\n",
            "  print(dfEmp.loc[('IT', 'San Francisco')])\n"
          ]
        }
      ]
    },
    {
      "cell_type": "markdown",
      "source": [
        "GroupBy and Aggregation"
      ],
      "metadata": {
        "id": "Ub0HA7wseVjp"
      }
    },
    {
      "cell_type": "code",
      "source": [
        "# Load CSV File\n",
        "\n",
        "dfGB = pd.read_csv('cleaned_employee_data.csv')\n",
        "\n",
        "# Group data by Department and calculate the average Salary.\n",
        "\n",
        "print(\"Average Salary of Each Department:\")\n",
        "print(dfGB.groupby('department')['salary'].mean())\n",
        "\n",
        "# Count the number of employees in each department.\n",
        "\n",
        "print(\"\\nNo. of Employees in Each Department:\")\n",
        "print(dfGB.groupby('department').size())"
      ],
      "metadata": {
        "colab": {
          "base_uri": "https://localhost:8080/"
        },
        "id": "efADCCCkebvZ",
        "outputId": "d5dd2718-cfc8-4370-c0cb-4fe0d6e1d20d"
      },
      "execution_count": 417,
      "outputs": [
        {
          "output_type": "stream",
          "name": "stdout",
          "text": [
            "Average Salary of Each Department:\n",
            "department\n",
            "IT           73900.0\n",
            "Marketing    48000.0\n",
            "Sales        58500.0\n",
            "Name: salary, dtype: float64\n",
            "\n",
            "No. of Employees in Each Department:\n",
            "department\n",
            "IT           2\n",
            "Marketing    1\n",
            "Sales        2\n",
            "dtype: int64\n"
          ]
        }
      ]
    },
    {
      "cell_type": "code",
      "source": [
        "# Find the minimum, maximum, and mean Age per Department.\n",
        "\n",
        "print(f\"Min, Max and Mean Age per Department:\")\n",
        "print(dfGB.groupby('department')['age'].agg(['min', 'max', 'mean']))\n",
        "\n",
        "# For each Location, compute the total salary paid.\n",
        "\n",
        "print(\"\\nTotal Salary Paid per Location:\")\n",
        "print(dfGB.groupby('location')['salary'].sum())\n",
        "\n",
        "# How many employees exist for each combination of Department and Gender?\n",
        "\n",
        "print(\"\\nEmployees for each combination of Department and Gender:\")\n",
        "print(dfGB.groupby(['department', 'gender']).size())"
      ],
      "metadata": {
        "colab": {
          "base_uri": "https://localhost:8080/"
        },
        "id": "4CiRKuh_ehVr",
        "outputId": "7cffd994-6055-4330-af59-6a896b25d03f"
      },
      "execution_count": 418,
      "outputs": [
        {
          "output_type": "stream",
          "name": "stdout",
          "text": [
            "Min, Max and Mean Age per Department:\n",
            "             min   max  mean\n",
            "department                  \n",
            "IT          38.0  45.0  41.5\n",
            "Marketing   29.0  29.0  29.0\n",
            "Sales       25.0  31.0  28.0\n",
            "\n",
            "Total Salary Paid per Location:\n",
            "location\n",
            "Los Angeles       48000.0\n",
            "New York         117000.0\n",
            "San Francisco    147800.0\n",
            "Name: salary, dtype: float64\n",
            "\n",
            "Employees for each combination of Department and Gender:\n",
            "department  gender\n",
            "IT          F         1\n",
            "            M         1\n",
            "Marketing   M         1\n",
            "Sales       F         1\n",
            "            M         1\n",
            "dtype: int64\n"
          ]
        }
      ]
    },
    {
      "cell_type": "code",
      "source": [
        "# Group by Department and return:\n",
        "\n",
        "# Mean of Salary\n",
        "\n",
        "print(\"Mean Salary per Department:\")\n",
        "print(dfGB.groupby('department')['salary'].agg('mean'))\n",
        "\n",
        "# Max of JoinDate\n",
        "\n",
        "print(\"\\nMax Join-Date per Department:\")\n",
        "print(dfGB.groupby('department')['joindate'].agg('max'))\n",
        "\n",
        "# Total Salary\n",
        "\n",
        "print(\"\\nTotal Salary per Department:\")\n",
        "print(dfGB.groupby('department')['salary'].sum())\n",
        "\n",
        "# Number of employees\n",
        "\n",
        "print(\"\\nTotal Employees per Department:\")\n",
        "print(dfGB.groupby('department')['empid'].size())\n",
        "\n",
        "# Median Age\n",
        "\n",
        "print(\"\\nMedian Age per Department:\")\n",
        "print(dfGB.groupby('department')['age'].agg('median'))\n"
      ],
      "metadata": {
        "colab": {
          "base_uri": "https://localhost:8080/"
        },
        "id": "fodK98LDehq1",
        "outputId": "7369262a-cea7-46ec-c356-65e36c4b16f3"
      },
      "execution_count": 419,
      "outputs": [
        {
          "output_type": "stream",
          "name": "stdout",
          "text": [
            "Mean Salary per Department:\n",
            "department\n",
            "IT           73900.0\n",
            "Marketing    48000.0\n",
            "Sales        58500.0\n",
            "Name: salary, dtype: float64\n",
            "\n",
            "Max Join-Date per Department:\n",
            "department\n",
            "IT           2017-08-15\n",
            "Marketing    2018-05-10\n",
            "Sales        2019-04-01\n",
            "Name: joindate, dtype: object\n",
            "\n",
            "Total Salary per Department:\n",
            "department\n",
            "IT           147800.0\n",
            "Marketing     48000.0\n",
            "Sales        117000.0\n",
            "Name: salary, dtype: float64\n",
            "\n",
            "Total Employees per Department:\n",
            "department\n",
            "IT           2\n",
            "Marketing    1\n",
            "Sales        2\n",
            "Name: empid, dtype: int64\n",
            "\n",
            "Median Age per Department:\n",
            "department\n",
            "IT           41.5\n",
            "Marketing    29.0\n",
            "Sales        28.0\n",
            "Name: age, dtype: float64\n"
          ]
        }
      ]
    },
    {
      "cell_type": "code",
      "source": [
        "# Group by Department and Gender, and filter groups where the average salary is greater than 70,000.\n",
        "\n",
        "meanSalary = dfGB.groupby(['department', 'gender'])['salary'].agg('mean')\n",
        "\n",
        "print(\"Groups (by dept & gender) where avg salary is greater that 70,000:\")\n",
        "print(meanSalary[meanSalary > 70000])\n"
      ],
      "metadata": {
        "colab": {
          "base_uri": "https://localhost:8080/"
        },
        "id": "BQ6cdB89erec",
        "outputId": "9d5892b8-a1d3-4d4a-a38f-bca6ca48c472"
      },
      "execution_count": 420,
      "outputs": [
        {
          "output_type": "stream",
          "name": "stdout",
          "text": [
            "Groups (by dept & gender) where avg salary is greater that 70,000:\n",
            "department  gender\n",
            "IT          F         82000.0\n",
            "Name: salary, dtype: float64\n"
          ]
        }
      ]
    },
    {
      "cell_type": "markdown",
      "source": [
        "Queries & Filtering after groupby()"
      ],
      "metadata": {
        "id": "XnpWHYOjvovG"
      }
    },
    {
      "cell_type": "code",
      "source": [
        "# Load CSV File\n",
        "\n",
        "dfFil = pd.read_csv('cleaned_employee_data.csv')\n",
        "\n",
        "# Use .filter() to keep only departments that have 2 or more employees.\n",
        "\n",
        "print('Departments with 2 or more employees:')\n",
        "print(dfFil.groupby('department').filter(lambda x: len(x) >= 2))\n",
        "\n",
        "# Use .query() to select only rows where Salary > 60000.\n",
        "\n",
        "print('\\nEmployees with Salary > 60000:')\n",
        "dfFil.query('salary > 60000')"
      ],
      "metadata": {
        "colab": {
          "base_uri": "https://localhost:8080/",
          "height": 286
        },
        "id": "VkL2wo_mvoZm",
        "outputId": "9dede8c2-c8e7-41ab-9fd4-f277b38cf7bd"
      },
      "execution_count": 421,
      "outputs": [
        {
          "output_type": "stream",
          "name": "stdout",
          "text": [
            "Departments with 2 or more employees:\n",
            "   empid   name   age gender department   salary    joindate       location\n",
            "0    101  Alice  25.0      F      Sales  55000.0  2019-04-01       New York\n",
            "1    102    Bob  38.0      M         IT  65800.0  2017-08-15  San Francisco\n",
            "3    105    Eva  45.0      F         IT  82000.0  2015-09-01  San Francisco\n",
            "4    106  Frank  31.0      M      Sales  62000.0  2016-11-23       New York\n",
            "\n",
            "Employees with Salary > 60000:\n"
          ]
        },
        {
          "output_type": "execute_result",
          "data": {
            "text/plain": [
              "   empid   name   age gender department   salary    joindate       location\n",
              "1    102    Bob  38.0      M         IT  65800.0  2017-08-15  San Francisco\n",
              "3    105    Eva  45.0      F         IT  82000.0  2015-09-01  San Francisco\n",
              "4    106  Frank  31.0      M      Sales  62000.0  2016-11-23       New York"
            ],
            "text/html": [
              "\n",
              "  <div id=\"df-67a9ebd9-86f0-4176-be79-8cd48bd1262c\" class=\"colab-df-container\">\n",
              "    <div>\n",
              "<style scoped>\n",
              "    .dataframe tbody tr th:only-of-type {\n",
              "        vertical-align: middle;\n",
              "    }\n",
              "\n",
              "    .dataframe tbody tr th {\n",
              "        vertical-align: top;\n",
              "    }\n",
              "\n",
              "    .dataframe thead th {\n",
              "        text-align: right;\n",
              "    }\n",
              "</style>\n",
              "<table border=\"1\" class=\"dataframe\">\n",
              "  <thead>\n",
              "    <tr style=\"text-align: right;\">\n",
              "      <th></th>\n",
              "      <th>empid</th>\n",
              "      <th>name</th>\n",
              "      <th>age</th>\n",
              "      <th>gender</th>\n",
              "      <th>department</th>\n",
              "      <th>salary</th>\n",
              "      <th>joindate</th>\n",
              "      <th>location</th>\n",
              "    </tr>\n",
              "  </thead>\n",
              "  <tbody>\n",
              "    <tr>\n",
              "      <th>1</th>\n",
              "      <td>102</td>\n",
              "      <td>Bob</td>\n",
              "      <td>38.0</td>\n",
              "      <td>M</td>\n",
              "      <td>IT</td>\n",
              "      <td>65800.0</td>\n",
              "      <td>2017-08-15</td>\n",
              "      <td>San Francisco</td>\n",
              "    </tr>\n",
              "    <tr>\n",
              "      <th>3</th>\n",
              "      <td>105</td>\n",
              "      <td>Eva</td>\n",
              "      <td>45.0</td>\n",
              "      <td>F</td>\n",
              "      <td>IT</td>\n",
              "      <td>82000.0</td>\n",
              "      <td>2015-09-01</td>\n",
              "      <td>San Francisco</td>\n",
              "    </tr>\n",
              "    <tr>\n",
              "      <th>4</th>\n",
              "      <td>106</td>\n",
              "      <td>Frank</td>\n",
              "      <td>31.0</td>\n",
              "      <td>M</td>\n",
              "      <td>Sales</td>\n",
              "      <td>62000.0</td>\n",
              "      <td>2016-11-23</td>\n",
              "      <td>New York</td>\n",
              "    </tr>\n",
              "  </tbody>\n",
              "</table>\n",
              "</div>\n",
              "    <div class=\"colab-df-buttons\">\n",
              "\n",
              "  <div class=\"colab-df-container\">\n",
              "    <button class=\"colab-df-convert\" onclick=\"convertToInteractive('df-67a9ebd9-86f0-4176-be79-8cd48bd1262c')\"\n",
              "            title=\"Convert this dataframe to an interactive table.\"\n",
              "            style=\"display:none;\">\n",
              "\n",
              "  <svg xmlns=\"http://www.w3.org/2000/svg\" height=\"24px\" viewBox=\"0 -960 960 960\">\n",
              "    <path d=\"M120-120v-720h720v720H120Zm60-500h600v-160H180v160Zm220 220h160v-160H400v160Zm0 220h160v-160H400v160ZM180-400h160v-160H180v160Zm440 0h160v-160H620v160ZM180-180h160v-160H180v160Zm440 0h160v-160H620v160Z\"/>\n",
              "  </svg>\n",
              "    </button>\n",
              "\n",
              "  <style>\n",
              "    .colab-df-container {\n",
              "      display:flex;\n",
              "      gap: 12px;\n",
              "    }\n",
              "\n",
              "    .colab-df-convert {\n",
              "      background-color: #E8F0FE;\n",
              "      border: none;\n",
              "      border-radius: 50%;\n",
              "      cursor: pointer;\n",
              "      display: none;\n",
              "      fill: #1967D2;\n",
              "      height: 32px;\n",
              "      padding: 0 0 0 0;\n",
              "      width: 32px;\n",
              "    }\n",
              "\n",
              "    .colab-df-convert:hover {\n",
              "      background-color: #E2EBFA;\n",
              "      box-shadow: 0px 1px 2px rgba(60, 64, 67, 0.3), 0px 1px 3px 1px rgba(60, 64, 67, 0.15);\n",
              "      fill: #174EA6;\n",
              "    }\n",
              "\n",
              "    .colab-df-buttons div {\n",
              "      margin-bottom: 4px;\n",
              "    }\n",
              "\n",
              "    [theme=dark] .colab-df-convert {\n",
              "      background-color: #3B4455;\n",
              "      fill: #D2E3FC;\n",
              "    }\n",
              "\n",
              "    [theme=dark] .colab-df-convert:hover {\n",
              "      background-color: #434B5C;\n",
              "      box-shadow: 0px 1px 3px 1px rgba(0, 0, 0, 0.15);\n",
              "      filter: drop-shadow(0px 1px 2px rgba(0, 0, 0, 0.3));\n",
              "      fill: #FFFFFF;\n",
              "    }\n",
              "  </style>\n",
              "\n",
              "    <script>\n",
              "      const buttonEl =\n",
              "        document.querySelector('#df-67a9ebd9-86f0-4176-be79-8cd48bd1262c button.colab-df-convert');\n",
              "      buttonEl.style.display =\n",
              "        google.colab.kernel.accessAllowed ? 'block' : 'none';\n",
              "\n",
              "      async function convertToInteractive(key) {\n",
              "        const element = document.querySelector('#df-67a9ebd9-86f0-4176-be79-8cd48bd1262c');\n",
              "        const dataTable =\n",
              "          await google.colab.kernel.invokeFunction('convertToInteractive',\n",
              "                                                    [key], {});\n",
              "        if (!dataTable) return;\n",
              "\n",
              "        const docLinkHtml = 'Like what you see? Visit the ' +\n",
              "          '<a target=\"_blank\" href=https://colab.research.google.com/notebooks/data_table.ipynb>data table notebook</a>'\n",
              "          + ' to learn more about interactive tables.';\n",
              "        element.innerHTML = '';\n",
              "        dataTable['output_type'] = 'display_data';\n",
              "        await google.colab.output.renderOutput(dataTable, element);\n",
              "        const docLink = document.createElement('div');\n",
              "        docLink.innerHTML = docLinkHtml;\n",
              "        element.appendChild(docLink);\n",
              "      }\n",
              "    </script>\n",
              "  </div>\n",
              "\n",
              "\n",
              "    <div id=\"df-f8fe716c-dda1-4dfc-b14a-96ed556096f9\">\n",
              "      <button class=\"colab-df-quickchart\" onclick=\"quickchart('df-f8fe716c-dda1-4dfc-b14a-96ed556096f9')\"\n",
              "                title=\"Suggest charts\"\n",
              "                style=\"display:none;\">\n",
              "\n",
              "<svg xmlns=\"http://www.w3.org/2000/svg\" height=\"24px\"viewBox=\"0 0 24 24\"\n",
              "     width=\"24px\">\n",
              "    <g>\n",
              "        <path d=\"M19 3H5c-1.1 0-2 .9-2 2v14c0 1.1.9 2 2 2h14c1.1 0 2-.9 2-2V5c0-1.1-.9-2-2-2zM9 17H7v-7h2v7zm4 0h-2V7h2v10zm4 0h-2v-4h2v4z\"/>\n",
              "    </g>\n",
              "</svg>\n",
              "      </button>\n",
              "\n",
              "<style>\n",
              "  .colab-df-quickchart {\n",
              "      --bg-color: #E8F0FE;\n",
              "      --fill-color: #1967D2;\n",
              "      --hover-bg-color: #E2EBFA;\n",
              "      --hover-fill-color: #174EA6;\n",
              "      --disabled-fill-color: #AAA;\n",
              "      --disabled-bg-color: #DDD;\n",
              "  }\n",
              "\n",
              "  [theme=dark] .colab-df-quickchart {\n",
              "      --bg-color: #3B4455;\n",
              "      --fill-color: #D2E3FC;\n",
              "      --hover-bg-color: #434B5C;\n",
              "      --hover-fill-color: #FFFFFF;\n",
              "      --disabled-bg-color: #3B4455;\n",
              "      --disabled-fill-color: #666;\n",
              "  }\n",
              "\n",
              "  .colab-df-quickchart {\n",
              "    background-color: var(--bg-color);\n",
              "    border: none;\n",
              "    border-radius: 50%;\n",
              "    cursor: pointer;\n",
              "    display: none;\n",
              "    fill: var(--fill-color);\n",
              "    height: 32px;\n",
              "    padding: 0;\n",
              "    width: 32px;\n",
              "  }\n",
              "\n",
              "  .colab-df-quickchart:hover {\n",
              "    background-color: var(--hover-bg-color);\n",
              "    box-shadow: 0 1px 2px rgba(60, 64, 67, 0.3), 0 1px 3px 1px rgba(60, 64, 67, 0.15);\n",
              "    fill: var(--button-hover-fill-color);\n",
              "  }\n",
              "\n",
              "  .colab-df-quickchart-complete:disabled,\n",
              "  .colab-df-quickchart-complete:disabled:hover {\n",
              "    background-color: var(--disabled-bg-color);\n",
              "    fill: var(--disabled-fill-color);\n",
              "    box-shadow: none;\n",
              "  }\n",
              "\n",
              "  .colab-df-spinner {\n",
              "    border: 2px solid var(--fill-color);\n",
              "    border-color: transparent;\n",
              "    border-bottom-color: var(--fill-color);\n",
              "    animation:\n",
              "      spin 1s steps(1) infinite;\n",
              "  }\n",
              "\n",
              "  @keyframes spin {\n",
              "    0% {\n",
              "      border-color: transparent;\n",
              "      border-bottom-color: var(--fill-color);\n",
              "      border-left-color: var(--fill-color);\n",
              "    }\n",
              "    20% {\n",
              "      border-color: transparent;\n",
              "      border-left-color: var(--fill-color);\n",
              "      border-top-color: var(--fill-color);\n",
              "    }\n",
              "    30% {\n",
              "      border-color: transparent;\n",
              "      border-left-color: var(--fill-color);\n",
              "      border-top-color: var(--fill-color);\n",
              "      border-right-color: var(--fill-color);\n",
              "    }\n",
              "    40% {\n",
              "      border-color: transparent;\n",
              "      border-right-color: var(--fill-color);\n",
              "      border-top-color: var(--fill-color);\n",
              "    }\n",
              "    60% {\n",
              "      border-color: transparent;\n",
              "      border-right-color: var(--fill-color);\n",
              "    }\n",
              "    80% {\n",
              "      border-color: transparent;\n",
              "      border-right-color: var(--fill-color);\n",
              "      border-bottom-color: var(--fill-color);\n",
              "    }\n",
              "    90% {\n",
              "      border-color: transparent;\n",
              "      border-bottom-color: var(--fill-color);\n",
              "    }\n",
              "  }\n",
              "</style>\n",
              "\n",
              "      <script>\n",
              "        async function quickchart(key) {\n",
              "          const quickchartButtonEl =\n",
              "            document.querySelector('#' + key + ' button');\n",
              "          quickchartButtonEl.disabled = true;  // To prevent multiple clicks.\n",
              "          quickchartButtonEl.classList.add('colab-df-spinner');\n",
              "          try {\n",
              "            const charts = await google.colab.kernel.invokeFunction(\n",
              "                'suggestCharts', [key], {});\n",
              "          } catch (error) {\n",
              "            console.error('Error during call to suggestCharts:', error);\n",
              "          }\n",
              "          quickchartButtonEl.classList.remove('colab-df-spinner');\n",
              "          quickchartButtonEl.classList.add('colab-df-quickchart-complete');\n",
              "        }\n",
              "        (() => {\n",
              "          let quickchartButtonEl =\n",
              "            document.querySelector('#df-f8fe716c-dda1-4dfc-b14a-96ed556096f9 button');\n",
              "          quickchartButtonEl.style.display =\n",
              "            google.colab.kernel.accessAllowed ? 'block' : 'none';\n",
              "        })();\n",
              "      </script>\n",
              "    </div>\n",
              "\n",
              "    </div>\n",
              "  </div>\n"
            ],
            "application/vnd.google.colaboratory.intrinsic+json": {
              "type": "dataframe",
              "repr_error": "0"
            }
          },
          "metadata": {},
          "execution_count": 421
        }
      ]
    },
    {
      "cell_type": "code",
      "source": [
        "# Use .filter() to keep only departments where the average age is less than 35.\n",
        "\n",
        "print(\"Departments where avg age is less than 35:\")\n",
        "print(dfFil.groupby('department').filter(lambda x: x['age'].mean() < 35))\n",
        "\n",
        "# Use .query() with multiple conditions: Select rows where Salary > 50000 and Age < 40.\n",
        "\n",
        "print(\"\\nRows where Salary > 50000 and Age < 40:\")\n",
        "print(dfFil.query('salary > 50000 and age < 40'))"
      ],
      "metadata": {
        "colab": {
          "base_uri": "https://localhost:8080/"
        },
        "id": "H5qsSL4ZwDyT",
        "outputId": "0cc7cb18-816f-401f-b0bc-d3822cc9ac6b"
      },
      "execution_count": 422,
      "outputs": [
        {
          "output_type": "stream",
          "name": "stdout",
          "text": [
            "Departments where avg age is less than 35:\n",
            "   empid   name   age gender department   salary    joindate     location\n",
            "0    101  Alice  25.0      F      Sales  55000.0  2019-04-01     New York\n",
            "2    104  David  29.0      M  Marketing  48000.0  2018-05-10  Los Angeles\n",
            "4    106  Frank  31.0      M      Sales  62000.0  2016-11-23     New York\n",
            "\n",
            "Rows where Salary > 50000 and Age < 40:\n",
            "   empid   name   age gender department   salary    joindate       location\n",
            "0    101  Alice  25.0      F      Sales  55000.0  2019-04-01       New York\n",
            "1    102    Bob  38.0      M         IT  65800.0  2017-08-15  San Francisco\n",
            "4    106  Frank  31.0      M      Sales  62000.0  2016-11-23       New York\n"
          ]
        }
      ]
    },
    {
      "cell_type": "code",
      "source": [
        "# Perform a groupby on 'Department', calculate total salary, and filter to keep only departments where total salary > 130000.\n",
        "\n",
        "sal = dfFil.groupby('department')['salary'].sum().reset_index()\n",
        "print(\"Departments where Total Salary > 130000\")\n",
        "print([sal[sal['salary'] > 130000]])\n",
        "\n",
        "# Combine .groupby(), .agg(), and .query() to find departments where:\n",
        "\n",
        "# Average Salary > 60000\n",
        "# Average Age < 40\n",
        "\n"
      ],
      "metadata": {
        "colab": {
          "base_uri": "https://localhost:8080/"
        },
        "id": "6gTQoce1wDri",
        "outputId": "f3bb4550-a768-4c33-c7be-a54369792bcd"
      },
      "execution_count": 423,
      "outputs": [
        {
          "output_type": "stream",
          "name": "stdout",
          "text": [
            "Departments where Total Salary > 130000\n",
            "[  department    salary\n",
            "0         IT  147800.0]\n"
          ]
        }
      ]
    },
    {
      "cell_type": "code",
      "source": [
        "df = pd.DataFrame({\n",
        "    'Name': ['Alice', 'Bob', 'Charlie', 'David', 'Eva', 'Frank', 'Grace', 'Helen', 'Ian'],\n",
        "    'Department': ['Sales', 'IT', 'HR', 'Marketing', 'IT', 'Sales', 'HR', 'Marketing', 'IT'],\n",
        "    'Age': [25, 38, 28, 29, 45, 31, 24, 41, 36],\n",
        "    'Salary': [55000, 75000, 58000, 48000, 82000, 62000, 60000, 51000, 77000]\n",
        "})\n",
        "\n",
        "\n",
        "# Keep only departments with more than 1 employee\n",
        "print(df.groupby('Department').filter(lambda x: len(x) > 1))\n",
        "\n",
        "# Keep departments where average age < 35\n",
        "\n",
        "print(\"\\n\", df.groupby('Department').filter(lambda x: x['Age'].mean() < 35)['Department'])"
      ],
      "metadata": {
        "colab": {
          "base_uri": "https://localhost:8080/"
        },
        "id": "YSLXWeuO9zFF",
        "outputId": "a09d5683-4e97-4af6-fdf7-92d81aeecf81"
      },
      "execution_count": 424,
      "outputs": [
        {
          "output_type": "stream",
          "name": "stdout",
          "text": [
            "      Name Department  Age  Salary\n",
            "0    Alice      Sales   25   55000\n",
            "1      Bob         IT   38   75000\n",
            "2  Charlie         HR   28   58000\n",
            "3    David  Marketing   29   48000\n",
            "4      Eva         IT   45   82000\n",
            "5    Frank      Sales   31   62000\n",
            "6    Grace         HR   24   60000\n",
            "7    Helen  Marketing   41   51000\n",
            "8      Ian         IT   36   77000\n",
            "\n",
            " 0    Sales\n",
            "2       HR\n",
            "5    Sales\n",
            "6       HR\n",
            "Name: Department, dtype: object\n"
          ]
        }
      ]
    },
    {
      "cell_type": "code",
      "source": [],
      "metadata": {
        "id": "fufXpT9L9zCr"
      },
      "execution_count": 424,
      "outputs": []
    },
    {
      "cell_type": "code",
      "source": [],
      "metadata": {
        "id": "FdGaTDiK9zAl"
      },
      "execution_count": 424,
      "outputs": []
    },
    {
      "cell_type": "code",
      "source": [],
      "metadata": {
        "id": "abOSvwOd9ykA"
      },
      "execution_count": 424,
      "outputs": []
    },
    {
      "cell_type": "markdown",
      "source": [
        "Applying Functions and Lambda"
      ],
      "metadata": {
        "id": "Vz_mWSu4i7SF"
      }
    },
    {
      "cell_type": "code",
      "source": [
        "# Load CSV File\n",
        "\n",
        "dfFun = pd.read_csv('cleaned_employee_data.csv')\n",
        "\n",
        "# Add 5 years to every employee's Age using .apply().\n",
        "\n",
        "print(\"Adding 5 years to every employee's age:\")\n",
        "dfFun['age'] = dfFun['age'].apply(lambda x: x + 5)\n",
        "print(dfFun)\n",
        "\n",
        "# Capitalize all department names using .map() or .apply().\n",
        "\n",
        "print(\"\\nCapitalizing all department names:\")\n",
        "dfFun['department'] = dfFun['department'].apply(lambda x: x.capitalize())\n",
        "print(dfFun)\n",
        "\n"
      ],
      "metadata": {
        "colab": {
          "base_uri": "https://localhost:8080/"
        },
        "id": "XXknJMVci_R8",
        "outputId": "09fe4d43-4bdf-433f-85a6-dc954a78fb54"
      },
      "execution_count": 425,
      "outputs": [
        {
          "output_type": "stream",
          "name": "stdout",
          "text": [
            "Adding 5 years to every employee's age:\n",
            "   empid   name   age gender department   salary    joindate       location\n",
            "0    101  Alice  30.0      F      Sales  55000.0  2019-04-01       New York\n",
            "1    102    Bob  43.0      M         IT  65800.0  2017-08-15  San Francisco\n",
            "2    104  David  34.0      M  Marketing  48000.0  2018-05-10    Los Angeles\n",
            "3    105    Eva  50.0      F         IT  82000.0  2015-09-01  San Francisco\n",
            "4    106  Frank  36.0      M      Sales  62000.0  2016-11-23       New York\n",
            "\n",
            "Capitalizing all department names:\n",
            "   empid   name   age gender department   salary    joindate       location\n",
            "0    101  Alice  30.0      F      Sales  55000.0  2019-04-01       New York\n",
            "1    102    Bob  43.0      M         It  65800.0  2017-08-15  San Francisco\n",
            "2    104  David  34.0      M  Marketing  48000.0  2018-05-10    Los Angeles\n",
            "3    105    Eva  50.0      F         It  82000.0  2015-09-01  San Francisco\n",
            "4    106  Frank  36.0      M      Sales  62000.0  2016-11-23       New York\n"
          ]
        }
      ]
    },
    {
      "cell_type": "code",
      "source": [
        "# Change Gender to a Numerical Represenation (0/1)\n",
        "\n",
        "dfFun['gender'] = dfFun['gender'].map({'M':0, 'F':1})\n",
        "\n",
        "print(dfFun)"
      ],
      "metadata": {
        "colab": {
          "base_uri": "https://localhost:8080/"
        },
        "id": "9K4yJ4eztBGR",
        "outputId": "c75563f5-efae-439a-8de7-b56de8e80ced"
      },
      "execution_count": 426,
      "outputs": [
        {
          "output_type": "stream",
          "name": "stdout",
          "text": [
            "   empid   name   age  gender department   salary    joindate       location\n",
            "0    101  Alice  30.0       1      Sales  55000.0  2019-04-01       New York\n",
            "1    102    Bob  43.0       0         It  65800.0  2017-08-15  San Francisco\n",
            "2    104  David  34.0       0  Marketing  48000.0  2018-05-10    Los Angeles\n",
            "3    105    Eva  50.0       1         It  82000.0  2015-09-01  San Francisco\n",
            "4    106  Frank  36.0       0      Sales  62000.0  2016-11-23       New York\n"
          ]
        }
      ]
    },
    {
      "cell_type": "code",
      "source": [
        "# Create a new column SalaryCategory:\n",
        "\n",
        "# \"High\" if salary > 70,000\n",
        "\n",
        "# \"Medium\" if salary between 40,000 and 70,000\n",
        "\n",
        "# \"Low\" otherwise\n",
        "\n",
        "def salCategory(s):\n",
        "  if s > 70000:\n",
        "    return 'High'\n",
        "\n",
        "  elif (s > 40000) | (s < 70000):\n",
        "    return 'Medium'\n",
        "\n",
        "  else:\n",
        "    return 'Low'\n",
        "\n",
        "dfFun['SalaryCategory'] = dfFun['salary'].apply(salCategory)\n",
        "\n",
        "print(dfFun)\n",
        "\n",
        "# For each row, calculate the difference between Salary and Age.\n",
        "\n",
        "print(\"\\nDifference Between Salary and Age:\")\n",
        "print(dfFun.apply(lambda row: row['salary'] - row['age'], axis=1))"
      ],
      "metadata": {
        "colab": {
          "base_uri": "https://localhost:8080/"
        },
        "id": "dzlAh7lEjC8n",
        "outputId": "f3177925-133c-4584-d7ba-974ced33dedf"
      },
      "execution_count": 427,
      "outputs": [
        {
          "output_type": "stream",
          "name": "stdout",
          "text": [
            "   empid   name   age  gender department   salary    joindate       location  \\\n",
            "0    101  Alice  30.0       1      Sales  55000.0  2019-04-01       New York   \n",
            "1    102    Bob  43.0       0         It  65800.0  2017-08-15  San Francisco   \n",
            "2    104  David  34.0       0  Marketing  48000.0  2018-05-10    Los Angeles   \n",
            "3    105    Eva  50.0       1         It  82000.0  2015-09-01  San Francisco   \n",
            "4    106  Frank  36.0       0      Sales  62000.0  2016-11-23       New York   \n",
            "\n",
            "  SalaryCategory  \n",
            "0         Medium  \n",
            "1         Medium  \n",
            "2         Medium  \n",
            "3           High  \n",
            "4         Medium  \n",
            "\n",
            "Difference Between Salary and Age:\n",
            "0    54970.0\n",
            "1    65757.0\n",
            "2    47966.0\n",
            "3    81950.0\n",
            "4    61964.0\n",
            "dtype: float64\n"
          ]
        }
      ]
    },
    {
      "cell_type": "code",
      "source": [
        "# Write a custom function to flag employees as \"Senior\" if Age >= 50 and Salary > 80,000.\n",
        "\n",
        "def seniorCheck(emp):\n",
        "\n",
        "  if (emp['age'] >= 50) & (emp['salary'] > 80000):\n",
        "    return 'Senior'\n",
        "  else:\n",
        "    return 'Not Senior'\n",
        "\n",
        "dfFun['SeniorFlag'] = dfFun[['age', 'salary']].apply(seniorCheck, axis=1)\n",
        "print(\"SeniorFlag\")\n",
        "print(dfFun['SeniorFlag'])\n",
        "\n",
        "# Using apply() on rows, calculate a score like:\n",
        "\n",
        "print(\"\\nScore: (Age * 0.5) + (Salary / 10000)\")\n",
        "print(dfFun.apply(lambda x: (x['age'] * 0.5) + (x['salary']/1000), axis=1))"
      ],
      "metadata": {
        "colab": {
          "base_uri": "https://localhost:8080/"
        },
        "id": "wwBieq1mjFU0",
        "outputId": "63a6cbc4-76c0-48e1-a98b-1b17beeefa40"
      },
      "execution_count": 428,
      "outputs": [
        {
          "output_type": "stream",
          "name": "stdout",
          "text": [
            "SeniorFlag\n",
            "0    Not Senior\n",
            "1    Not Senior\n",
            "2    Not Senior\n",
            "3        Senior\n",
            "4    Not Senior\n",
            "Name: SeniorFlag, dtype: object\n",
            "\n",
            "Score: (Age * 0.5) + (Salary / 10000)\n",
            "0     70.0\n",
            "1     87.3\n",
            "2     65.0\n",
            "3    107.0\n",
            "4     80.0\n",
            "dtype: float64\n"
          ]
        }
      ]
    }
  ]
}