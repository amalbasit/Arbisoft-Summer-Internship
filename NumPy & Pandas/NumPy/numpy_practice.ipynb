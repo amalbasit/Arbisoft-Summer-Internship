{
  "cells": [
    {
      "cell_type": "markdown",
      "metadata": {
        "id": "HtjV9VGttcET"
      },
      "source": [
        "NumPy Practice"
      ]
    },
    {
      "cell_type": "code",
      "execution_count": 2,
      "metadata": {
        "id": "LynVhp5zqJk7"
      },
      "outputs": [],
      "source": [
        "import numpy as np"
      ]
    },
    {
      "cell_type": "code",
      "execution_count": 3,
      "metadata": {
        "colab": {
          "base_uri": "https://localhost:8080/"
        },
        "id": "wkC7QtQLt5lL",
        "outputId": "bc3de853-c5a7-4727-c93a-e69c1fe563fe"
      },
      "outputs": [
        {
          "name": "stdout",
          "output_type": "stream",
          "text": [
            "(9,)\n",
            "1\n",
            "(3, 3)\n",
            "2\n",
            "(3, 1, 2)\n",
            "3\n"
          ]
        }
      ],
      "source": [
        "\n",
        "arr1 = np.array([1, 2, 3, 4, 5, 6, 7, 8, 9])\n",
        "arr2 = np.array([[1, 2, 3],[4, 5, 6],[7, 8, 9]])\n",
        "arr3 = np.array([[[1, 4]], [[2, 5]], [[3, 6]]])\n",
        "\n",
        "print(arr1.shape)\n",
        "print(arr1.ndim)\n",
        "print(arr2.shape)\n",
        "print(arr2.ndim)\n",
        "print(arr3.shape)\n",
        "print(arr3.ndim)"
      ]
    },
    {
      "cell_type": "code",
      "execution_count": 3,
      "metadata": {
        "colab": {
          "base_uri": "https://localhost:8080/"
        },
        "id": "pIjQIAG9t5jG",
        "outputId": "f64afb66-f203-4f2c-f50f-31e32beead9e"
      },
      "outputs": [
        {
          "name": "stdout",
          "output_type": "stream",
          "text": [
            "[0. 0. 0. 0. 0. 0. 0. 0. 0. 0. 1. 1. 1. 1. 1. 1. 1. 1. 1. 1. 5. 5. 5. 5.\n",
            " 5. 5. 5. 5. 5. 5.]\n"
          ]
        }
      ],
      "source": [
        "zeroArr = np.zeros(10)\n",
        "oneArr = np.ones(10)\n",
        "fivesArr = np.full(10, 5)\n",
        "\n",
        "concat = np.concatenate((zeroArr, oneArr, fivesArr))\n",
        "\n",
        "print(concat)"
      ]
    },
    {
      "cell_type": "code",
      "execution_count": 4,
      "metadata": {
        "colab": {
          "base_uri": "https://localhost:8080/"
        },
        "id": "SXiVT76lt5hB",
        "outputId": "d696486d-ecb2-4e48-ea0c-8de9cfc7fac3"
      },
      "outputs": [
        {
          "name": "stdout",
          "output_type": "stream",
          "text": [
            "[10 11 12 13 14 15 16 17 18 19 20 21 22 23 24 25 26 27 28 29 30 31 32 33\n",
            " 34 35 36 37 38 39 40 41 42 43 44 45 46 47 48 49 50]\n"
          ]
        }
      ],
      "source": [
        "rangeArr = np.arange(10,51)\n",
        "print(rangeArr)"
      ]
    },
    {
      "cell_type": "code",
      "execution_count": 5,
      "metadata": {
        "colab": {
          "base_uri": "https://localhost:8080/"
        },
        "id": "z99RepmkzbJY",
        "outputId": "62fc69d7-c821-422a-e648-c67400185e59"
      },
      "outputs": [
        {
          "name": "stdout",
          "output_type": "stream",
          "text": [
            "[[0 1 2]\n",
            " [3 4 5]\n",
            " [6 7 8]]\n"
          ]
        }
      ],
      "source": [
        "dimRangeArr = np.arange(0,9).reshape(3, 3)\n",
        "\n",
        "print(dimRangeArr)"
      ]
    },
    {
      "cell_type": "code",
      "execution_count": 6,
      "metadata": {
        "colab": {
          "base_uri": "https://localhost:8080/"
        },
        "id": "1p9A5x53t5er",
        "outputId": "a4fc2449-3931-4699-e893-abe37e630c4a"
      },
      "outputs": [
        {
          "name": "stdout",
          "output_type": "stream",
          "text": [
            "[1 2 3 4 5]\n"
          ]
        }
      ],
      "source": [
        "print(arr1[:5])"
      ]
    },
    {
      "cell_type": "code",
      "execution_count": 7,
      "metadata": {
        "colab": {
          "base_uri": "https://localhost:8080/"
        },
        "id": "V8Ak8s3Pt5cl",
        "outputId": "9fe39b92-8b29-498b-e06c-193a9772e430"
      },
      "outputs": [
        {
          "name": "stdout",
          "output_type": "stream",
          "text": [
            "[[2 3]\n",
            " [5 6]]\n"
          ]
        }
      ],
      "source": [
        "print(arr2[:2, arr2.shape[1] - 2:])"
      ]
    },
    {
      "cell_type": "code",
      "execution_count": 8,
      "metadata": {
        "colab": {
          "base_uri": "https://localhost:8080/"
        },
        "id": "MxM-E9MIt5aP",
        "outputId": "1b76c200-67e3-41d5-e17d-d9f351bef200"
      },
      "outputs": [
        {
          "name": "stdout",
          "output_type": "stream",
          "text": [
            "[False False False False False  True  True  True  True]\n",
            "[6 7 8 9]\n"
          ]
        }
      ],
      "source": [
        "mask = arr1 > 5\n",
        "print(mask)\n",
        "\n",
        "print(arr1[mask])"
      ]
    },
    {
      "cell_type": "code",
      "execution_count": 9,
      "metadata": {
        "colab": {
          "base_uri": "https://localhost:8080/"
        },
        "id": "ac5tb_wkt5WF",
        "outputId": "39b8fc5c-7d88-4d57-8800-b5ca4960da59"
      },
      "outputs": [
        {
          "name": "stdout",
          "output_type": "stream",
          "text": [
            "[  6  38 101  13  73  31  91]\n",
            "[  4  10  63  -3  -5 -23 -55]\n",
            "[   5  336 1558   40 1326  108 1314]\n",
            "[5.         1.71428571 4.31578947 0.625      0.87179487 0.14814815\n",
            " 0.24657534]\n",
            "[  25  576 6724   25 1156   16  324]\n",
            "[   1  196  361   64 1521  729 5329]\n"
          ]
        }
      ],
      "source": [
        "a = np.array([5,24,82,5,34,4,18])\n",
        "b = np.array([1,14,19,8,39,27,73])\n",
        "\n",
        "print(a+b)\n",
        "print(a-b)\n",
        "print(a*b)\n",
        "print(a/b)\n",
        "print(a**2)\n",
        "print(b**2)"
      ]
    },
    {
      "cell_type": "code",
      "execution_count": 10,
      "metadata": {
        "colab": {
          "base_uri": "https://localhost:8080/"
        },
        "id": "HTS4quvkt5T_",
        "outputId": "d817bcc9-7ed0-47c5-d917-e99f4b95870c"
      },
      "outputs": [
        {
          "name": "stdout",
          "output_type": "stream",
          "text": [
            "[[ 30  24  18]\n",
            " [ 84  69  54]\n",
            " [138 114  90]]\n"
          ]
        }
      ],
      "source": [
        "m1 = np.array([[1,2,3],[4,5,6],[7,8,9]])\n",
        "m2 = np.array([[9,8,7],[6,5,4],[3,2,1]])\n",
        "print(np.dot(m1, m2))"
      ]
    },
    {
      "cell_type": "code",
      "execution_count": 11,
      "metadata": {
        "colab": {
          "base_uri": "https://localhost:8080/"
        },
        "id": "frj4c2EI7RQl",
        "outputId": "05872bd0-6607-4e0e-faa8-63e66af6fabf"
      },
      "outputs": [
        {
          "name": "stdout",
          "output_type": "stream",
          "text": [
            "[[101 202 303 404]\n",
            " [105 206 307 408]\n",
            " [109 210 311 412]]\n"
          ]
        }
      ],
      "source": [
        "A = np.array([[1, 2, 3, 4],\n",
        "              [5, 6, 7, 8],\n",
        "              [9, 10, 11, 12]])\n",
        "\n",
        "B = np.array([100, 200, 300, 400])\n",
        "\n",
        "print(A+B)\n"
      ]
    },
    {
      "cell_type": "code",
      "execution_count": 12,
      "metadata": {
        "colab": {
          "base_uri": "https://localhost:8080/"
        },
        "id": "gudXdNuBt5QF",
        "outputId": "45786f34-f692-49d5-8455-67375bbf45a4"
      },
      "outputs": [
        {
          "name": "stdout",
          "output_type": "stream",
          "text": [
            "205\n",
            "29.285714285714285\n",
            "24.270583521823202\n",
            "23.0\n"
          ]
        }
      ],
      "source": [
        "randArr = np.array([2,54,23,42,12,3,69])\n",
        "print(np.sum(randArr))\n",
        "print(np.mean(randArr))\n",
        "print(np.std(randArr))\n",
        "print(np.median(randArr))"
      ]
    },
    {
      "cell_type": "code",
      "execution_count": 13,
      "metadata": {
        "colab": {
          "base_uri": "https://localhost:8080/"
        },
        "id": "c3Ygdg6Ot5OR",
        "outputId": "7425ac80-7cf9-446f-acd6-4c19cea7f4f3"
      },
      "outputs": [
        {
          "name": "stdout",
          "output_type": "stream",
          "text": [
            "[ 3 24 92]\n",
            "[28 92 53]\n"
          ]
        }
      ],
      "source": [
        "arr2D = np.array([[1, 2, 3],[24,21,12],[28,92,53]])\n",
        "print(np.max(arr2D, axis = 1))\n",
        "print(np.max(arr2D, axis = 0))\n"
      ]
    },
    {
      "cell_type": "code",
      "execution_count": 14,
      "metadata": {
        "colab": {
          "base_uri": "https://localhost:8080/"
        },
        "id": "XCF6WKvnt5L6",
        "outputId": "d1ec79ee-3a14-4430-fb2e-53c0ada7980a"
      },
      "outputs": [
        {
          "name": "stdout",
          "output_type": "stream",
          "text": [
            "[[ 1  2  3  4]\n",
            " [ 5  6  7  8]\n",
            " [ 9 10 11 12]]\n",
            "[ 1  2  3  4  5  6  7  8  9 10 11 12]\n"
          ]
        }
      ],
      "source": [
        "x = np.array([1,2,3,4,5,6,7,8,9,10,11,12])\n",
        "y = x.reshape(3,4)\n",
        "print(y)\n",
        "\n",
        "w = y.flatten()\n",
        "print(w)"
      ]
    },
    {
      "cell_type": "code",
      "execution_count": 15,
      "metadata": {
        "colab": {
          "base_uri": "https://localhost:8080/"
        },
        "id": "aibDwpJkt5J1",
        "outputId": "29301f67-3c39-4aff-aace-c69b86b21a61"
      },
      "outputs": [
        {
          "data": {
            "text/plain": [
              "array([[1, 3],\n",
              "       [2, 4]])"
            ]
          },
          "execution_count": 15,
          "metadata": {},
          "output_type": "execute_result"
        }
      ],
      "source": [
        "a = np.array([[1, 2]])\n",
        "b = np.array([[3, 4]])\n",
        "\n",
        "# Stack vertically (row-wise)\n",
        "np.vstack((a, b))  # shape: (2, 2)\n",
        "\n",
        "# Stack horizontally (column-wise)\n",
        "np.hstack((a.T, b.T))  # shape: (2, 2)\n"
      ]
    },
    {
      "cell_type": "code",
      "execution_count": 16,
      "metadata": {
        "colab": {
          "base_uri": "https://localhost:8080/"
        },
        "id": "17hYkFaqt5IA",
        "outputId": "15af75c0-715b-4733-a388-4e9ee8dd3022"
      },
      "outputs": [
        {
          "name": "stdout",
          "output_type": "stream",
          "text": [
            "[1 1 2 3 4 5 9]\n",
            "[[2 3 4]\n",
            " [0 1 5]]\n",
            "[[3 0 1]\n",
            " [5 2 4]]\n",
            "[0 1 2 3 4 5]\n"
          ]
        }
      ],
      "source": [
        "import numpy as np\n",
        "\n",
        "# Sorting a 1D array\n",
        "arr_1d = np.array([3, 1, 4, 1, 5, 9, 2])\n",
        "k = np.sort(arr_1d)\n",
        "print(k)\n",
        "\n",
        "# Sorting a 2D array along rows (axis=1)\n",
        "arr_2d = np.array([[3, 2, 4], [5, 0, 1]])\n",
        "p = np.sort(arr_2d, axis = 1)\n",
        "print(p)\n",
        "\n",
        "# Sorting a 2D array along columns (axis=0)\n",
        "d = np.sort(arr_2d, axis = 0)\n",
        "print(d)\n",
        "\n",
        "# Sorting a 2D array as 1D flattened (None)\n",
        "q = np.sort(arr_2d, axis = None)\n",
        "print(q)\n",
        "\n"
      ]
    },
    {
      "cell_type": "code",
      "execution_count": 17,
      "metadata": {
        "colab": {
          "base_uri": "https://localhost:8080/"
        },
        "id": "FsHE0uwct5GL",
        "outputId": "c526bd9e-ca9f-488c-bc28-4f71e37632da"
      },
      "outputs": [
        {
          "name": "stdout",
          "output_type": "stream",
          "text": [
            "Original: [30 10 20]\n",
            "Sorted indices: [1 2 0]\n",
            "Sorted array: [10 20 30]\n"
          ]
        }
      ],
      "source": [
        "arr = np.array([30, 10, 20])\n",
        "\n",
        "indices = np.argsort(arr)\n",
        "\n",
        "print(\"Original:\", arr)\n",
        "print(\"Sorted indices:\", indices)\n",
        "print(\"Sorted array:\", arr[indices])\n"
      ]
    },
    {
      "cell_type": "code",
      "execution_count": 18,
      "metadata": {
        "colab": {
          "base_uri": "https://localhost:8080/"
        },
        "id": "RuyzhqxWt5AN",
        "outputId": "743565d3-6cfc-4968-e524-719c0cf373b4"
      },
      "outputs": [
        {
          "name": "stdout",
          "output_type": "stream",
          "text": [
            "[False False False False False  True  True  True  True]\n",
            "[ True  True  True False False False False False False]\n"
          ]
        }
      ],
      "source": [
        "a = np.arange(1,10)\n",
        "print(a > 5)\n",
        "print(a <= 3)"
      ]
    },
    {
      "cell_type": "code",
      "execution_count": 19,
      "metadata": {
        "colab": {
          "base_uri": "https://localhost:8080/"
        },
        "id": "5PDJm8ygt45L",
        "outputId": "c3fd98ee-93c8-4e5a-99ad-e2eb9ebae590"
      },
      "outputs": [
        {
          "name": "stdout",
          "output_type": "stream",
          "text": [
            "[False False False False False False False False False False False  True\n",
            "  True  True  True  True  True  True  True  True  True  True  True  True\n",
            "  True  True  True  True  True  True False False False False False False\n",
            " False False False False]\n"
          ]
        }
      ],
      "source": [
        "b = np.arange(10,50)\n",
        "print(np.logical_and(b > 20, b < 40))"
      ]
    },
    {
      "cell_type": "code",
      "execution_count": 20,
      "metadata": {
        "colab": {
          "base_uri": "https://localhost:8080/"
        },
        "id": "-3F_-xlqt4ev",
        "outputId": "fee51e42-d9ea-4c83-82b5-1fbd48b22d81"
      },
      "outputs": [
        {
          "name": "stdout",
          "output_type": "stream",
          "text": [
            "[12]\n",
            "[17 21 19]\n"
          ]
        }
      ],
      "source": [
        "c = np.array([5, 12, 17, 9, 3, 21, 19])\n",
        "mask1 = c % 2 == 0\n",
        "print(c[mask1])\n",
        "\n",
        "mask2 = c > np.mean(c)\n",
        "print(c[mask2])\n"
      ]
    },
    {
      "cell_type": "code",
      "execution_count": 21,
      "metadata": {
        "colab": {
          "base_uri": "https://localhost:8080/"
        },
        "id": "jS5JFCDUchoV",
        "outputId": "aacfd238-26f1-4896-c2b4-5dc80f3a1a8a"
      },
      "outputs": [
        {
          "name": "stdout",
          "output_type": "stream",
          "text": [
            "[0 0 0 1 1]\n",
            "(array([0, 1]),)\n"
          ]
        }
      ],
      "source": [
        "d = np.array([10, 20, 30, 40, 50])\n",
        "first = np.where(d > 30, 1, 0)\n",
        "second = np.where(d < 25)\n",
        "print(first)\n",
        "print(second)"
      ]
    },
    {
      "cell_type": "code",
      "execution_count": 22,
      "metadata": {
        "colab": {
          "base_uri": "https://localhost:8080/"
        },
        "id": "xPmmitBachmR",
        "outputId": "2226b423-bbd3-4e7f-a6bf-60b84e5424a6"
      },
      "outputs": [
        {
          "name": "stdout",
          "output_type": "stream",
          "text": [
            "True\n",
            "True\n"
          ]
        }
      ],
      "source": [
        "e = np.array([2, 4, 6, 8, 10])\n",
        "\n",
        "any = np.any(e>9)\n",
        "print(any)\n",
        "\n",
        "even = np.all(e%2 == 0)\n",
        "print(even)"
      ]
    },
    {
      "cell_type": "code",
      "execution_count": 23,
      "metadata": {
        "colab": {
          "base_uri": "https://localhost:8080/"
        },
        "id": "2rSIm11kchkc",
        "outputId": "a28225c1-6f3d-407a-a2a7-45e69730bbb3"
      },
      "outputs": [
        {
          "name": "stdout",
          "output_type": "stream",
          "text": [
            "3\n"
          ]
        }
      ],
      "source": [
        "g = np.random.randint(1, 101, size=20)\n",
        "mask = (g%3==0 ) & (g > 50)\n",
        "print(np.sum(mask))"
      ]
    },
    {
      "cell_type": "code",
      "execution_count": 24,
      "metadata": {
        "colab": {
          "base_uri": "https://localhost:8080/"
        },
        "id": "K-qohRmixwtz",
        "outputId": "349e4fcc-7893-41c5-df55-c56dd448ff6e"
      },
      "outputs": [
        {
          "data": {
            "text/plain": [
              "array([43, -1, 64, -1, 34, -1])"
            ]
          },
          "execution_count": 24,
          "metadata": {},
          "output_type": "execute_result"
        }
      ],
      "source": [
        "h = np.array([43, 23, 64, 21, 34, 19])\n",
        "np.where(h < 30, -1, h)"
      ]
    },
    {
      "cell_type": "code",
      "execution_count": 25,
      "metadata": {
        "colab": {
          "base_uri": "https://localhost:8080/"
        },
        "id": "yP_5Z7r8chiY",
        "outputId": "6a4519ff-f27b-4b02-8a01-ef089850f932"
      },
      "outputs": [
        {
          "name": "stdout",
          "output_type": "stream",
          "text": [
            "[14 17 18 15 14 11 14 19 11 12]\n",
            "[18 14 14 19]\n",
            "[18 14 14 19]\n",
            "[[14 17  6 18 15]\n",
            " [19 11 12  5  2]]\n"
          ]
        }
      ],
      "source": [
        "i = np.random.randint(0, 20, size=(4,5))\n",
        "\n",
        "mask3 = i > 10\n",
        "\n",
        "mask4 = np.max(i, axis=1)\n",
        "\n",
        "print(i[mask3])\n",
        "print(mask4)\n",
        "xyz = np.where(mask4>15)\n",
        "print(mask4)\n",
        "print(i[xyz])"
      ]
    },
    {
      "cell_type": "code",
      "execution_count": 26,
      "metadata": {
        "colab": {
          "base_uri": "https://localhost:8080/"
        },
        "id": "JmYT5sWbs5QW",
        "outputId": "e7456732-8f7a-4cef-f53b-c9771860e01c"
      },
      "outputs": [
        {
          "name": "stdout",
          "output_type": "stream",
          "text": [
            "[0.  0.2 0.4 0.6 0.8 1.  1.2 1.4 1.6 1.8 2.  2.2 2.4 2.6 2.8 3.  3.2 3.4\n",
            " 3.6 3.8 4.  4.2 4.4 4.6 4.8 5.  5.2 5.4 5.6 5.8 6.  6.2 6.4 6.6 6.8 7.\n",
            " 7.2 7.4 7.6 7.8 8.  8.2 8.4 8.6 8.8 9.  9.2 9.4 9.6 9.8]\n",
            "[ 0.          0.20408163  0.40816327  0.6122449   0.81632653  1.02040816\n",
            "  1.2244898   1.42857143  1.63265306  1.83673469  2.04081633  2.24489796\n",
            "  2.44897959  2.65306122  2.85714286  3.06122449  3.26530612  3.46938776\n",
            "  3.67346939  3.87755102  4.08163265  4.28571429  4.48979592  4.69387755\n",
            "  4.89795918  5.10204082  5.30612245  5.51020408  5.71428571  5.91836735\n",
            "  6.12244898  6.32653061  6.53061224  6.73469388  6.93877551  7.14285714\n",
            "  7.34693878  7.55102041  7.75510204  7.95918367  8.16326531  8.36734694\n",
            "  8.57142857  8.7755102   8.97959184  9.18367347  9.3877551   9.59183673\n",
            "  9.79591837 10.        ]\n"
          ]
        }
      ],
      "source": [
        "arr9 = np.arange(0, 10, 0.2)\n",
        "print(arr9)\n",
        "arr10 = np.linspace(0, 10, 50)\n",
        "print(arr10)"
      ]
    },
    {
      "cell_type": "code",
      "execution_count": 27,
      "metadata": {
        "colab": {
          "base_uri": "https://localhost:8080/"
        },
        "id": "hkDktAIfchgh",
        "outputId": "a378935b-557b-4887-d671-18cbc24d6f2b"
      },
      "outputs": [
        {
          "name": "stdout",
          "output_type": "stream",
          "text": [
            "[10 40 50]\n"
          ]
        }
      ],
      "source": [
        "\n",
        "\n",
        "arr = np.array([10, 20, 30, 40, 50])\n",
        "\n",
        "# Select elements at positions 0, 3, and 4\n",
        "print(arr[[0, 3, 4]])  # → [10 40 50]\n"
      ]
    },
    {
      "cell_type": "code",
      "execution_count": 28,
      "metadata": {
        "colab": {
          "base_uri": "https://localhost:8080/"
        },
        "id": "2SkVsgpucheu",
        "outputId": "1a1b739a-8723-405d-e1ea-4a5ff3a270f0"
      },
      "outputs": [
        {
          "name": "stdout",
          "output_type": "stream",
          "text": [
            "[11 22 33]\n"
          ]
        }
      ],
      "source": [
        "# From a 2D array of shape (3x3), pick out the diagonal elements using fancy indexing.\n",
        "\n",
        "a = np.array([[11, 12, 13],\n",
        "              [21, 22, 23],\n",
        "              [31, 32, 33]])\n",
        "\n",
        "ywb = [0, 1, 2]\n",
        "\n",
        "print(a[ywb, ywb])"
      ]
    },
    {
      "cell_type": "code",
      "execution_count": 29,
      "metadata": {
        "colab": {
          "base_uri": "https://localhost:8080/"
        },
        "id": "ARAi6oIKchc5",
        "outputId": "140e09ec-328a-4deb-a89e-7e3e50f8379b"
      },
      "outputs": [
        {
          "name": "stdout",
          "output_type": "stream",
          "text": [
            "[40  5 24 19 17 29 23 89 61 24]\n",
            "[1 4 3 6 2 9 5 0 8 7]\n",
            "[40 61 89]\n"
          ]
        }
      ],
      "source": [
        "# Create an array of 10 random integers from 1 to 100. Get the 3 largest numbers using np.argsort()\n",
        "# and fancy indexing.\n",
        "\n",
        "arr = np.random.randint(1,100, size=10)\n",
        "print(arr)\n",
        "\n",
        "sortedInd = np.argsort(arr)\n",
        "print(sortedInd)\n",
        "\n",
        "print(arr[sortedInd[-3::]])\n",
        "\n"
      ]
    },
    {
      "cell_type": "code",
      "execution_count": 30,
      "metadata": {
        "colab": {
          "base_uri": "https://localhost:8080/"
        },
        "id": "GeXaDeXuchbC",
        "outputId": "786bfff8-37a2-4770-91df-ba01036991d3"
      },
      "outputs": [
        {
          "name": "stdout",
          "output_type": "stream",
          "text": [
            "[[11 -1 13]\n",
            " [-1 22 23]\n",
            " [31 32 -1]]\n"
          ]
        }
      ],
      "source": [
        "# given matrix, Use fancy indexing to extract: 12, 21, 33. Replace them with -1\n",
        "\n",
        "\n",
        "a = np.array([[11, 12, 13],\n",
        "              [21, 22, 23],\n",
        "              [31, 32, 33]])\n",
        "\n",
        "b = np.array([0, 1, 2])\n",
        "c = np.array([1, 0, 2])\n",
        "a[b, c] = -1\n",
        "\n",
        "print(a)\n",
        "\n"
      ]
    },
    {
      "cell_type": "code",
      "execution_count": 31,
      "metadata": {
        "colab": {
          "base_uri": "https://localhost:8080/"
        },
        "id": "1abB13ypchZC",
        "outputId": "0a5d37c5-a9bb-419e-803d-57638a418471"
      },
      "outputs": [
        {
          "name": "stdout",
          "output_type": "stream",
          "text": [
            "[8 9]\n"
          ]
        }
      ],
      "source": [
        "\n",
        "\n",
        "arr = np.array([[1, 2, 3, 4, 5],\n",
        "                [6, 7, 8, 9, 10]])\n",
        "\n",
        "print(arr[1, 2:4])"
      ]
    },
    {
      "cell_type": "code",
      "execution_count": 31,
      "metadata": {
        "id": "i-R0x8c5chXe"
      },
      "outputs": [],
      "source": []
    },
    {
      "cell_type": "code",
      "execution_count": 32,
      "metadata": {
        "colab": {
          "base_uri": "https://localhost:8080/"
        },
        "id": "xO3aMsU_chVU",
        "outputId": "8cbf4dc6-c4de-4437-9262-6ef073318f8e"
      },
      "outputs": [
        {
          "data": {
            "text/plain": [
              "array([ 10,  20,  30,  40,  50,  60,  70,  80,  90, 100])"
            ]
          },
          "execution_count": 32,
          "metadata": {},
          "output_type": "execute_result"
        }
      ],
      "source": [
        "np.arange(10,110,10)"
      ]
    },
    {
      "cell_type": "code",
      "execution_count": 33,
      "metadata": {
        "colab": {
          "base_uri": "https://localhost:8080/"
        },
        "id": "KyYKYeiachTP",
        "outputId": "54f8a7e8-3d35-4127-dd9c-e7a81e88f37a"
      },
      "outputs": [
        {
          "data": {
            "text/plain": [
              "dtype('float64')"
            ]
          },
          "execution_count": 33,
          "metadata": {},
          "output_type": "execute_result"
        }
      ],
      "source": [
        "x = np.zeros(10)\n",
        "x.dtype"
      ]
    },
    {
      "cell_type": "code",
      "execution_count": 34,
      "metadata": {
        "colab": {
          "base_uri": "https://localhost:8080/"
        },
        "id": "tT_EigfSchRI",
        "outputId": "ab443e31-09ed-40c6-e7d9-cc390397f70a"
      },
      "outputs": [
        {
          "data": {
            "text/plain": [
              "array([5, 4, 5, 1, 2, 5, 1, 5, 3, 5])"
            ]
          },
          "execution_count": 34,
          "metadata": {},
          "output_type": "execute_result"
        }
      ],
      "source": [
        "np.random.randint(1, 6, 10)"
      ]
    },
    {
      "cell_type": "code",
      "execution_count": 35,
      "metadata": {
        "colab": {
          "base_uri": "https://localhost:8080/"
        },
        "id": "FlXFkr1IchMu",
        "outputId": "4ccf8f7b-2d24-4935-b8e6-b1fa3bec4497"
      },
      "outputs": [
        {
          "name": "stdout",
          "output_type": "stream",
          "text": [
            "[0.47306037 0.30587635 0.32909652 0.78260311 0.24576283 0.23190187\n",
            " 0.06911005 0.12293769 0.67280839 0.73828726]\n"
          ]
        }
      ],
      "source": [
        "w = np.random.rand(10)\n",
        "print(w)"
      ]
    },
    {
      "cell_type": "code",
      "execution_count": 36,
      "metadata": {
        "colab": {
          "base_uri": "https://localhost:8080/"
        },
        "id": "OBwX1dSbwyK-",
        "outputId": "a9750527-fa49-4921-a938-330150662df1"
      },
      "outputs": [
        {
          "name": "stdout",
          "output_type": "stream",
          "text": [
            "[42 54  8 82 68]\n"
          ]
        }
      ],
      "source": [
        "from numpy import random\n",
        "\n",
        "x=random.randint(100, size=5)\n",
        "\n",
        "print(x)\n"
      ]
    },
    {
      "cell_type": "code",
      "execution_count": 37,
      "metadata": {
        "colab": {
          "base_uri": "https://localhost:8080/"
        },
        "id": "_0QohxI4xQJ-",
        "outputId": "a0c26327-15ee-48b4-e37a-98d088dbba2c"
      },
      "outputs": [
        {
          "data": {
            "text/plain": [
              "array([[[0.76741839, 0.35523271],\n",
              "        [0.40896544, 0.97172638],\n",
              "        [0.10215196, 0.74785403]],\n",
              "\n",
              "       [[0.54083308, 0.63846179],\n",
              "        [0.35469826, 0.83875697],\n",
              "        [0.48829922, 0.978559  ]],\n",
              "\n",
              "       [[0.35634685, 0.86244312],\n",
              "        [0.16967638, 0.50325628],\n",
              "        [0.69779178, 0.37363402]],\n",
              "\n",
              "       [[0.27923988, 0.80700606],\n",
              "        [0.22540767, 0.68286229],\n",
              "        [0.98544272, 0.52562972]],\n",
              "\n",
              "       [[0.14379776, 0.24025188],\n",
              "        [0.19801593, 0.44438239],\n",
              "        [0.94034058, 0.42002306]]])"
            ]
          },
          "execution_count": 37,
          "metadata": {},
          "output_type": "execute_result"
        }
      ],
      "source": [
        "random.rand(5, 3, 2)"
      ]
    }
  ],
  "metadata": {
    "colab": {
      "provenance": [],
      "toc_visible": true
    },
    "kernelspec": {
      "display_name": "myenv (3.13.5)",
      "language": "python",
      "name": "python3"
    },
    "language_info": {
      "codemirror_mode": {
        "name": "ipython",
        "version": 3
      },
      "file_extension": ".py",
      "mimetype": "text/x-python",
      "name": "python",
      "nbconvert_exporter": "python",
      "pygments_lexer": "ipython3",
      "version": "3.13.5"
    }
  },
  "nbformat": 4,
  "nbformat_minor": 0
}
